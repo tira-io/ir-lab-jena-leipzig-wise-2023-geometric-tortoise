{
 "cells": [
  {
   "cell_type": "code",
   "execution_count": null,
   "metadata": {},
   "outputs": [],
   "source": [
    "!pip3 install numpy pandas scipy\n",
    "import os\n",
    "import numpy as np\n",
    "import pandas as pd\n",
    "from scipy import stats\n",
    "import re"
   ]
  },
  {
   "cell_type": "code",
   "execution_count": null,
   "metadata": {},
   "outputs": [],
   "source": [
    "if 'TIRA_DATASET_ID' not in os.environ:\n",
    "    !pip3 install python-terrier tira==0.0.88\n",
    "else:\n",
    "    print('We are in the TIRA sandbox.')"
   ]
  },
  {
   "cell_type": "code",
   "execution_count": 3,
   "metadata": {},
   "outputs": [
    {
     "name": "stderr",
     "output_type": "stream",
     "text": [
      "/home/paul/git/ir-lab/.venv/lib/python3.10/site-packages/tqdm/auto.py:21: TqdmWarning: IProgress not found. Please update jupyter and ipywidgets. See https://ipywidgets.readthedocs.io/en/stable/user_install.html\n",
      "  from .autonotebook import tqdm as notebook_tqdm\n",
      "PyTerrier 0.10.0 has loaded Terrier 5.7 (built by craigm on 2022-11-10 18:30) and terrier-helper 0.0.7\n",
      "\n",
      "No etc/terrier.properties, using terrier.default.properties for bootstrap configuration.\n"
     ]
    },
    {
     "name": "stdout",
     "output_type": "stream",
     "text": [
      "Due to execution in TIRA, I have patched ir_datasets to always return the single input dataset mounted to the sandbox.\n",
      "Start PyTerrier with version=5.7, helper_version=0.0.7, no_download=True\n"
     ]
    }
   ],
   "source": [
    "from tira.third_party_integrations import ensure_pyterrier_is_loaded, persist_and_normalize_run\n",
    "\n",
    "# this loads and starts pyterrier so that it also works in the TIRA\n",
    "ensure_pyterrier_is_loaded()\n",
    "\n",
    "# PyTerrier must be imported after the call to ensure_pyterrier_is_loaded in TIRA.\n",
    "import pyterrier as pt"
   ]
  },
  {
   "cell_type": "markdown",
   "metadata": {},
   "source": [
    "### Index bauen"
   ]
  },
  {
   "cell_type": "code",
   "execution_count": 8,
   "metadata": {},
   "outputs": [
    {
     "name": "stdout",
     "output_type": "stream",
     "text": [
      "Load ir_dataset \"ir-lab-jena-leipzig-wise-2023/validation-20231104-training\" from tira.\n"
     ]
    }
   ],
   "source": [
    "data = pt.get_dataset('irds:ir-lab-jena-leipzig-wise-2023/validation-20231104-training')"
   ]
  },
  {
   "cell_type": "code",
   "execution_count": 9,
   "metadata": {},
   "outputs": [
    {
     "name": "stdout",
     "output_type": "stream",
     "text": [
      "Build index:\n"
     ]
    },
    {
     "name": "stdout",
     "output_type": "stream",
     "text": [
      "No settings given in /home/paul/.tira/.tira-settings.json. I will use defaults.\n",
      "No settings given in /home/paul/.tira/.tira-settings.json. I will use defaults.\n"
     ]
    },
    {
     "name": "stderr",
     "output_type": "stream",
     "text": [
      "ir-lab-jena-leipzig-wise-2023/validation-20231104-training documents:   0%|          | 0/61307 [00:00<?, ?it/s]"
     ]
    },
    {
     "name": "stdout",
     "output_type": "stream",
     "text": [
      "No settings given in /home/paul/.tira/.tira-settings.json. I will use defaults.\n",
      "No settings given in /home/paul/.tira/.tira-settings.json. I will use defaults.\n"
     ]
    },
    {
     "name": "stderr",
     "output_type": "stream",
     "text": [
      "ir-lab-jena-leipzig-wise-2023/validation-20231104-training documents: 100%|██████████| 61307/61307 [00:31<00:00, 1975.61it/s]\n"
     ]
    },
    {
     "name": "stdout",
     "output_type": "stream",
     "text": [
      "Done. Index is created\n"
     ]
    }
   ],
   "source": [
    "print('Build index:')\n",
    "iter_indexer = pt.IterDictIndexer(\"/tmp/index\", meta={'docno': 100}, verbose=True)\n",
    "!rm -Rf /tmp/index\n",
    "indexref = iter_indexer.index(data.get_corpus_iter())\n",
    "print('Done. Index is created')"
   ]
  },
  {
   "cell_type": "markdown",
   "metadata": {},
   "source": [
    "### Unsere Retrieval Pipeline"
   ]
  },
  {
   "cell_type": "code",
   "execution_count": 10,
   "metadata": {},
   "outputs": [],
   "source": [
    "bo1 = pt.rewrite.Bo1QueryExpansion(indexref, verbose=True)\n",
    "rm3 = pt.rewrite.RM3(indexref, verbose=True)\n",
    "bm25 = pt.BatchRetrieve(indexref, wmodel=\"BM25\", verbose=True)\n",
    "tf_idf = pt.BatchRetrieve(indexref, wmodel=\"TF_IDF\", verbose=True)\n",
    "non_qe_pipeline = tf_idf"
   ]
  },
  {
   "cell_type": "code",
   "execution_count": 11,
   "metadata": {},
   "outputs": [
    {
     "name": "stdout",
     "output_type": "stream",
     "text": [
      "No settings given in /home/paul/.tira/.tira-settings.json. I will use defaults.\n",
      "No settings given in /home/paul/.tira/.tira-settings.json. I will use defaults.\n",
      "There are multiple query fields available: ('text', 'title', 'query', 'description', 'narrative'). To use with pyterrier, provide variant or modify dataframe to add query column.\n"
     ]
    },
    {
     "name": "stderr",
     "output_type": "stream",
     "text": [
      "BR(BM25):   0%|          | 0/5 [00:00<?, ?q/s]"
     ]
    },
    {
     "name": "stderr",
     "output_type": "stream",
     "text": [
      "BR(BM25): 100%|██████████| 5/5 [00:00<00:00, 25.23q/s]\n",
      "Transformer: 100%|██████████| 5/5 [00:00<00:00, 89.27q/s]\n",
      "BR(BM25): 100%|██████████| 5/5 [00:00<00:00, 55.40q/s]\n",
      "Transformer: 100%|██████████| 5/5 [00:00<00:00, 125.02q/s]\n",
      "BR(TF_IDF): 100%|██████████| 5/5 [00:00<00:00, 54.02q/s]\n",
      "Transformer: 100%|██████████| 5/5 [00:00<00:00, 481.33q/s]\n",
      "BR(TF_IDF): 100%|██████████| 5/5 [00:00<00:00, 76.97q/s]\n",
      "Transformer: 100%|██████████| 5/5 [00:00<00:00, 356.30q/s]\n"
     ]
    },
    {
     "name": "stdout",
     "output_type": "stream",
     "text": [
      "\n",
      "    qid:          q072224\n",
      "    query:        purchase money\n",
      "    bm25_bo1_r:   applypipeline:off purchas^1.124916191 monei^1.171398406 buyer^0.114867291 seller^0.090024680 length^0.059362351 deposit^0.057799048 properti^0.052173303 cash^0.049139810 sale^0.041757400 estat^0.041346815\n",
      "    bm25_rm3_r:   applypipeline:off purchas^0.300000012 buyer^0.060062546 agreement^0.028948911 estat^0.035443090 capit^0.036937352 gain^0.027703013 seller^0.058997158 levi^0.027703013 monei^0.300000012 deposit^0.036903422 taxat^0.046171684 launder^0.041129794\n",
      "    tf_idf_bo1_r: applypipeline:off purchas^1.124916191 monei^1.171398406 buyer^0.114867291 seller^0.090024680 length^0.059362351 deposit^0.057799048 properti^0.052173303 cash^0.049139810 sale^0.041757400 estat^0.041346815\n",
      "    tf_idf_rm3_r: applypipeline:off purchas^0.300000012 buyer^0.060062546 agreement^0.028948911 estat^0.035443090 capit^0.036937352 gain^0.027703013 seller^0.058997158 levi^0.027703013 monei^0.300000012 deposit^0.036903422 taxat^0.046171684 launder^0.041129794\n",
      "    \n",
      "\n",
      "    qid:          q072226\n",
      "    query:        purchase used car\n",
      "    bm25_bo1_r:   applypipeline:off purchas^1.187593826 car^1.123690529 auto^0.111069380 acquir^0.109464823 bui^0.098856957 servic^0.058506396 guarante^0.054838198 vehicl^0.051148933 opportun^0.048437462 garag^0.032181556\n",
      "    bm25_rm3_r:   applypipeline:off purchas^0.300000012 opportun^0.058688913 appro^0.024642479 ahuriss^0.024642479 bonu^0.024642479 auto^0.052948900 car^0.300000012 agent^0.030814348 insur^0.025077211 occas^0.041070800 trade^0.090355754 creditstor^0.027116625\n",
      "    tf_idf_bo1_r: applypipeline:off purchas^1.187593826 car^1.123690529 auto^0.111069380 acquir^0.109464823 bui^0.098856957 servic^0.058506396 guarante^0.054838198 vehicl^0.051148933 opportun^0.048437462 garag^0.032181556\n",
      "    tf_idf_rm3_r: applypipeline:off purchas^0.300000012 opportun^0.058688913 appro^0.024642479 ahuriss^0.024642479 bonu^0.024642479 auto^0.052948900 car^0.300000012 agent^0.030814348 insur^0.025077211 occas^0.041070800 trade^0.090355754 creditstor^0.027116625\n",
      "    \n",
      "\n",
      "    qid:          q072232\n",
      "    query:        buy gold silver\n",
      "    bm25_bo1_r:   applypipeline:off bui^1.000000000 gold^1.338198991 silver^1.191319865 bdor^0.201692745 lingot^0.175441082 ingot^0.162907845 preciou^0.122214150 coin^0.120735130 bullion^0.096368434 metal^0.084643895 invest^0.084329883\n",
      "    bm25_rm3_r:   applypipeline:off ingot^0.026659532 lingot^0.021669500 gold^0.318650126 preciou^0.019645726 bui^0.200000018 expert^0.020053988 metal^0.023481114 invest^0.035390612 coin^0.030848602 bdor^0.017789405 silver^0.285811365\n",
      "    tf_idf_bo1_r: applypipeline:off bui^1.000000000 gold^1.338198991 silver^1.191319865 bdor^0.201692745 lingot^0.175441082 ingot^0.162907845 preciou^0.122214150 coin^0.120735130 bullion^0.096368434 metal^0.084643895 invest^0.084329883\n",
      "    tf_idf_rm3_r: applypipeline:off ingot^0.026659532 lingot^0.021669500 gold^0.318650126 preciou^0.019645726 bui^0.200000018 expert^0.020053988 metal^0.023481114 invest^0.035390612 coin^0.030848602 bdor^0.017789407 silver^0.285811365\n",
      "    \n",
      "\n",
      "    qid:          q072240\n",
      "    query:        adenovirus\n",
      "    bm25_bo1_r:   applypipeline:off adenoviru^1.685079698 human^0.172055379 sapien^0.157294148 gene^0.147498158 reactiv^0.089180315 homo^0.079886987 elisa^0.072065036 adinoviru^0.060504742 250ul^0.057959505 gentaur^0.056991888\n",
      "    bm25_rm3_r:   applypipeline:off pud^0.012542539 ha^0.032170720 reactiv^0.018415911 sapien^0.024554547 altern^0.015201885 human^0.098218188 adenoviru^0.723833799 gene^0.033907209 alpha^0.016070129 infect^0.025085079\n",
      "    tf_idf_bo1_r: applypipeline:off adenoviru^1.685079698 human^0.172055379 sapien^0.157294148 gene^0.147498158 reactiv^0.089180315 homo^0.079886987 elisa^0.072065036 adinoviru^0.060504742 250ul^0.057959505 gentaur^0.056991888\n",
      "    tf_idf_rm3_r: applypipeline:off pud^0.012542539 ha^0.032170720 reactiv^0.018415911 sapien^0.024554547 altern^0.015201885 human^0.098218188 adenoviru^0.723833799 gene^0.033907209 alpha^0.016070129 infect^0.025085079\n",
      "    \n",
      "\n",
      "    qid:          q072242\n",
      "    query:        Water softener\n",
      "    bm25_bo1_r:   applypipeline:off water^1.193651138 soften^1.527394817 hard^0.118971606 calcium^0.103039590 ion^0.102067056 sodium^0.093137821 salt^0.082955085 magnesium^0.072603120 resin^0.068076354 miner^0.065907694\n",
      "    bm25_rm3_r:   applypipeline:off resin^0.017754203 salt^0.033241674 ion^0.025166448 hard^0.047913633 valv^0.019760218 devic^0.025581639 soften^0.471078813 exchang^0.019309636 water^0.300000012 limeston^0.019209556 calcium^0.020984158\n",
      "    tf_idf_bo1_r: applypipeline:off water^1.193651138 soften^1.527394817 hard^0.118971606 calcium^0.103039590 ion^0.102067056 sodium^0.093137821 salt^0.082955085 magnesium^0.072603120 resin^0.068076354 miner^0.065907694\n",
      "    tf_idf_rm3_r: applypipeline:off resin^0.017754203 salt^0.033241674 ion^0.025166448 hard^0.047913633 valv^0.019760218 devic^0.025581639 soften^0.471078813 exchang^0.019309636 water^0.300000012 limeston^0.019209556 calcium^0.020984158\n",
      "    \n"
     ]
    }
   ],
   "source": [
    "qe_test_queryDf = data.get_topics()[[\"qid\",\"title\"]].rename(columns={\"title\": \"query\"}).head()\n",
    "\n",
    "qe_results = [ {\"pipe\": \"bm25_bo1_r\",    \"df\":   (bm25 >> bo1).transform(qe_test_queryDf) },\n",
    "               {\"pipe\": \"bm25_rm3_r\",    \"df\":   (bm25 >> rm3).transform(qe_test_queryDf) },\n",
    "               {\"pipe\": \"tf_idf_bo1_r\",  \"df\": (tf_idf >> bo1).transform(qe_test_queryDf) },\n",
    "               {\"pipe\": \"tf_idf_rm3_r\",  \"df\": (tf_idf >> rm3).transform(qe_test_queryDf) } ]\n",
    "df = qe_results[0][\"df\"][[\"qid\", \"query_0\"]].rename(columns={\"query_0\": \"query\"})\n",
    "for result in qe_results:\n",
    "    result[\"df\"].rename(columns={\"query\": result[\"pipe\"]}, inplace=True)\n",
    "    result[\"df\"].drop(columns=[\"query_0\"], inplace=True)\n",
    "    df = df.merge(result[\"df\"], on=[\"qid\"])\n",
    "\n",
    "for r in df.iterrows():\n",
    "    print(f\"\"\"\n",
    "    qid:          {r[1][\"qid\"]}\n",
    "    query:        {r[1][\"query\"]}\n",
    "    bm25_bo1_r:   {r[1][\"bm25_bo1_r\"]}\n",
    "    bm25_rm3_r:   {r[1][\"bm25_rm3_r\"]}\n",
    "    tf_idf_bo1_r: {r[1][\"tf_idf_bo1_r\"]}\n",
    "    tf_idf_rm3_r: {r[1][\"tf_idf_rm3_r\"]}\n",
    "    \"\"\")"
   ]
  },
  {
   "cell_type": "code",
   "execution_count": 12,
   "metadata": {},
   "outputs": [
    {
     "name": "stdout",
     "output_type": "stream",
     "text": [
      "There are multiple query fields available: ('text', 'title', 'query', 'description', 'narrative'). To use with pyterrier, provide variant or modify dataframe to add query column.\n"
     ]
    },
    {
     "data": {
      "text/html": [
       "<div>\n",
       "<style scoped>\n",
       "    .dataframe tbody tr th:only-of-type {\n",
       "        vertical-align: middle;\n",
       "    }\n",
       "\n",
       "    .dataframe tbody tr th {\n",
       "        vertical-align: top;\n",
       "    }\n",
       "\n",
       "    .dataframe thead th {\n",
       "        text-align: right;\n",
       "    }\n",
       "</style>\n",
       "<table border=\"1\" class=\"dataframe\">\n",
       "  <thead>\n",
       "    <tr style=\"text-align: right;\">\n",
       "      <th></th>\n",
       "      <th>qid</th>\n",
       "      <th>text</th>\n",
       "      <th>title</th>\n",
       "      <th>query</th>\n",
       "      <th>description</th>\n",
       "      <th>narrative</th>\n",
       "    </tr>\n",
       "  </thead>\n",
       "  <tbody>\n",
       "    <tr>\n",
       "      <th>0</th>\n",
       "      <td>q072224</td>\n",
       "      <td>purchase money</td>\n",
       "      <td>purchase money</td>\n",
       "      <td>purchase money</td>\n",
       "      <td>None</td>\n",
       "      <td>None</td>\n",
       "    </tr>\n",
       "    <tr>\n",
       "      <th>1</th>\n",
       "      <td>q072226</td>\n",
       "      <td>purchase used car</td>\n",
       "      <td>purchase used car</td>\n",
       "      <td>purchase used car</td>\n",
       "      <td>None</td>\n",
       "      <td>None</td>\n",
       "    </tr>\n",
       "    <tr>\n",
       "      <th>2</th>\n",
       "      <td>q072232</td>\n",
       "      <td>buy gold silver</td>\n",
       "      <td>buy gold silver</td>\n",
       "      <td>buy gold silver</td>\n",
       "      <td>None</td>\n",
       "      <td>None</td>\n",
       "    </tr>\n",
       "    <tr>\n",
       "      <th>3</th>\n",
       "      <td>q072240</td>\n",
       "      <td>adenovirus</td>\n",
       "      <td>adenovirus</td>\n",
       "      <td>adenovirus</td>\n",
       "      <td>None</td>\n",
       "      <td>None</td>\n",
       "    </tr>\n",
       "    <tr>\n",
       "      <th>4</th>\n",
       "      <td>q072242</td>\n",
       "      <td>Water softener</td>\n",
       "      <td>Water softener</td>\n",
       "      <td>water softener</td>\n",
       "      <td>None</td>\n",
       "      <td>None</td>\n",
       "    </tr>\n",
       "  </tbody>\n",
       "</table>\n",
       "</div>"
      ],
      "text/plain": [
       "       qid               text              title              query  \\\n",
       "0  q072224     purchase money     purchase money     purchase money   \n",
       "1  q072226  purchase used car  purchase used car  purchase used car   \n",
       "2  q072232    buy gold silver    buy gold silver    buy gold silver   \n",
       "3  q072240         adenovirus         adenovirus         adenovirus   \n",
       "4  q072242     Water softener     Water softener     water softener   \n",
       "\n",
       "  description narrative  \n",
       "0        None      None  \n",
       "1        None      None  \n",
       "2        None      None  \n",
       "3        None      None  \n",
       "4        None      None  "
      ]
     },
     "execution_count": 12,
     "metadata": {},
     "output_type": "execute_result"
    }
   ],
   "source": [
    "topics = data.get_topics()\n",
    "topics.head()"
   ]
  },
  {
   "cell_type": "code",
   "execution_count": 13,
   "metadata": {},
   "outputs": [
    {
     "data": {
      "text/html": [
       "<div>\n",
       "<style scoped>\n",
       "    .dataframe tbody tr th:only-of-type {\n",
       "        vertical-align: middle;\n",
       "    }\n",
       "\n",
       "    .dataframe tbody tr th {\n",
       "        vertical-align: top;\n",
       "    }\n",
       "\n",
       "    .dataframe thead th {\n",
       "        text-align: right;\n",
       "    }\n",
       "</style>\n",
       "<table border=\"1\" class=\"dataframe\">\n",
       "  <thead>\n",
       "    <tr style=\"text-align: right;\">\n",
       "      <th></th>\n",
       "      <th>qid</th>\n",
       "      <th>text</th>\n",
       "      <th>title</th>\n",
       "      <th>query</th>\n",
       "      <th>description</th>\n",
       "      <th>narrative</th>\n",
       "      <th>word_count_old</th>\n",
       "      <th>length</th>\n",
       "      <th>word_count</th>\n",
       "    </tr>\n",
       "  </thead>\n",
       "  <tbody>\n",
       "    <tr>\n",
       "      <th>0</th>\n",
       "      <td>q072224</td>\n",
       "      <td>purchase money</td>\n",
       "      <td>purchase money</td>\n",
       "      <td>purchase money</td>\n",
       "      <td>None</td>\n",
       "      <td>None</td>\n",
       "      <td>2</td>\n",
       "      <td>14</td>\n",
       "      <td>2</td>\n",
       "    </tr>\n",
       "    <tr>\n",
       "      <th>1</th>\n",
       "      <td>q072226</td>\n",
       "      <td>purchase used car</td>\n",
       "      <td>purchase used car</td>\n",
       "      <td>purchase used car</td>\n",
       "      <td>None</td>\n",
       "      <td>None</td>\n",
       "      <td>3</td>\n",
       "      <td>17</td>\n",
       "      <td>3</td>\n",
       "    </tr>\n",
       "    <tr>\n",
       "      <th>2</th>\n",
       "      <td>q072232</td>\n",
       "      <td>buy gold silver</td>\n",
       "      <td>buy gold silver</td>\n",
       "      <td>buy gold silver</td>\n",
       "      <td>None</td>\n",
       "      <td>None</td>\n",
       "      <td>3</td>\n",
       "      <td>15</td>\n",
       "      <td>3</td>\n",
       "    </tr>\n",
       "    <tr>\n",
       "      <th>3</th>\n",
       "      <td>q072240</td>\n",
       "      <td>adenovirus</td>\n",
       "      <td>adenovirus</td>\n",
       "      <td>adenovirus</td>\n",
       "      <td>None</td>\n",
       "      <td>None</td>\n",
       "      <td>1</td>\n",
       "      <td>10</td>\n",
       "      <td>1</td>\n",
       "    </tr>\n",
       "    <tr>\n",
       "      <th>4</th>\n",
       "      <td>q072242</td>\n",
       "      <td>Water softener</td>\n",
       "      <td>Water softener</td>\n",
       "      <td>water softener</td>\n",
       "      <td>None</td>\n",
       "      <td>None</td>\n",
       "      <td>2</td>\n",
       "      <td>14</td>\n",
       "      <td>2</td>\n",
       "    </tr>\n",
       "  </tbody>\n",
       "</table>\n",
       "</div>"
      ],
      "text/plain": [
       "       qid               text              title              query  \\\n",
       "0  q072224     purchase money     purchase money     purchase money   \n",
       "1  q072226  purchase used car  purchase used car  purchase used car   \n",
       "2  q072232    buy gold silver    buy gold silver    buy gold silver   \n",
       "3  q072240         adenovirus         adenovirus         adenovirus   \n",
       "4  q072242     Water softener     Water softener     water softener   \n",
       "\n",
       "  description narrative  word_count_old  length  word_count  \n",
       "0        None      None               2      14           2  \n",
       "1        None      None               3      17           3  \n",
       "2        None      None               3      15           3  \n",
       "3        None      None               1      10           1  \n",
       "4        None      None               2      14           2  "
      ]
     },
     "execution_count": 13,
     "metadata": {},
     "output_type": "execute_result"
    }
   ],
   "source": [
    "# Calculation of the number of words in the title\n",
    "topics[\"word_count_old\"] = topics[\"title\"].map(lambda x: x.count(\" \")+1)\n",
    "# Calculation of the number of characters in the title\n",
    "topics[\"length\"] = topics[\"title\"].map(lambda x: len(x))\n",
    "\n",
    "# Calculation of the number of words in the title using the pyterrier tokenizer\n",
    "# https://pyterrier.readthedocs.io/en/latest/text.html#working-with-passages-rather-than-documents : r'\\s+' instead of ' '\n",
    "topics[\"word_count\"] = topics[\"title\"].map(lambda x: len(re.split(r'\\s+', x)))\n",
    "\n",
    "topics.head()"
   ]
  },
  {
   "cell_type": "code",
   "execution_count": 14,
   "metadata": {},
   "outputs": [],
   "source": [
    "# Calulation of the Threshold\n",
    "topics[\"word_count\"] = topics[\"title\"].map(lambda x: x.count(\" \")+1)\n",
    "threshold = topics[\"word_count\"].median()\n",
    "if len(topics[topics[\"word_count\"] > threshold]) > len(topics[topics[\"word_count\"] < threshold]):\n",
    "    topics[\"is_long\"] = topics[\"word_count\"] > threshold\n",
    "else:\n",
    "    topics[\"is_long\"] = topics[\"word_count\"] >= threshold"
   ]
  },
  {
   "cell_type": "code",
   "execution_count": null,
   "metadata": {},
   "outputs": [],
   "source": [
    "print('Create run')\n",
    "run = non_qe_pipeline.transform(topics)\n",
    "print('Done, run was created')"
   ]
  },
  {
   "cell_type": "code",
   "execution_count": null,
   "metadata": {},
   "outputs": [],
   "source": [
    "persist_and_normalize_run(run, 'no-query-expansion')"
   ]
  }
 ],
 "metadata": {
  "kernelspec": {
   "display_name": "IR",
   "language": "python",
   "name": "python3"
  },
  "language_info": {
   "codemirror_mode": {
    "name": "ipython",
    "version": 3
   },
   "file_extension": ".py",
   "mimetype": "text/x-python",
   "name": "python",
   "nbconvert_exporter": "python",
   "pygments_lexer": "ipython3",
   "version": "3.10.12"
  }
 },
 "nbformat": 4,
 "nbformat_minor": 2
}
