{
 "cells": [
  {
   "cell_type": "code",
   "execution_count": 1,
   "metadata": {},
   "outputs": [
    {
     "name": "stdout",
     "output_type": "stream",
     "text": [
      "Failed to execute process '/home/paul/git/ir-lab/.venv/bin/pip3'. Reason:\n",
      "The file '/home/paul/git/ir-lab/.venv/bin/pip3' specified the interpreter '/home/paul/git/ir-lab-jena-leipzig-wise-2023-geometric-tortoise/.venv/bin/python', which is not an executable command.\n"
     ]
    }
   ],
   "source": [
    "!pip3 install pandas\n",
    "import pandas as pd\n",
    "import re"
   ]
  },
  {
   "cell_type": "markdown",
   "metadata": {},
   "source": [
    "### Herausfinden des Schwellwerts"
   ]
  },
  {
   "cell_type": "code",
   "execution_count": 2,
   "metadata": {},
   "outputs": [
    {
     "data": {
      "text/html": [
       "<div>\n",
       "<style scoped>\n",
       "    .dataframe tbody tr th:only-of-type {\n",
       "        vertical-align: middle;\n",
       "    }\n",
       "\n",
       "    .dataframe tbody tr th {\n",
       "        vertical-align: top;\n",
       "    }\n",
       "\n",
       "    .dataframe thead th {\n",
       "        text-align: right;\n",
       "    }\n",
       "</style>\n",
       "<table border=\"1\" class=\"dataframe\">\n",
       "  <thead>\n",
       "    <tr style=\"text-align: right;\">\n",
       "      <th></th>\n",
       "      <th>number</th>\n",
       "      <th>title</th>\n",
       "      <th>description</th>\n",
       "      <th>narrative</th>\n",
       "    </tr>\n",
       "  </thead>\n",
       "  <tbody>\n",
       "    <tr>\n",
       "      <th>0</th>\n",
       "      <td>1</td>\n",
       "      <td>the frequency of solar storms with impact on e...</td>\n",
       "      <td>\\n      How often do solar storms occur which ...</td>\n",
       "      <td>\\n      Scientific publications or articles wh...</td>\n",
       "    </tr>\n",
       "    <tr>\n",
       "      <th>1</th>\n",
       "      <td>2</td>\n",
       "      <td>popular pastries in germany</td>\n",
       "      <td>\\n      Which are the best-selling pastries in...</td>\n",
       "      <td>\\n      Find statistics, news articles or othe...</td>\n",
       "    </tr>\n",
       "    <tr>\n",
       "      <th>2</th>\n",
       "      <td>3</td>\n",
       "      <td>flights Frankfurt to Rome</td>\n",
       "      <td>\\n      Show flight connections from Frankfurt...</td>\n",
       "      <td>\\n      Relevant are all future flight connect...</td>\n",
       "    </tr>\n",
       "    <tr>\n",
       "      <th>3</th>\n",
       "      <td>4</td>\n",
       "      <td>remove wine stains</td>\n",
       "      <td>\\n      How can wine stains be removed?\\n</td>\n",
       "      <td>\\n      Relevant is all information about wine...</td>\n",
       "    </tr>\n",
       "    <tr>\n",
       "      <th>4</th>\n",
       "      <td>5</td>\n",
       "      <td>tipping in us</td>\n",
       "      <td>\\n      What tipping is considered appropriate...</td>\n",
       "      <td>\\n      We ask for some guidelines of how to c...</td>\n",
       "    </tr>\n",
       "  </tbody>\n",
       "</table>\n",
       "</div>"
      ],
      "text/plain": [
       "   number                                              title  \\\n",
       "0       1  the frequency of solar storms with impact on e...   \n",
       "1       2                        popular pastries in germany   \n",
       "2       3                          flights Frankfurt to Rome   \n",
       "3       4                                 remove wine stains   \n",
       "4       5                                      tipping in us   \n",
       "\n",
       "                                         description  \\\n",
       "0  \\n      How often do solar storms occur which ...   \n",
       "1  \\n      Which are the best-selling pastries in...   \n",
       "2  \\n      Show flight connections from Frankfurt...   \n",
       "3      \\n      How can wine stains be removed?\\n       \n",
       "4  \\n      What tipping is considered appropriate...   \n",
       "\n",
       "                                           narrative  \n",
       "0  \\n      Scientific publications or articles wh...  \n",
       "1  \\n      Find statistics, news articles or othe...  \n",
       "2  \\n      Relevant are all future flight connect...  \n",
       "3  \\n      Relevant is all information about wine...  \n",
       "4  \\n      We ask for some guidelines of how to c...  "
      ]
     },
     "execution_count": 2,
     "metadata": {},
     "output_type": "execute_result"
    }
   ],
   "source": [
    "df = pd.read_xml(\"topics-anonymized.xml\")\n",
    "df.head()"
   ]
  },
  {
   "cell_type": "code",
   "execution_count": 3,
   "metadata": {},
   "outputs": [
    {
     "data": {
      "text/html": [
       "<div>\n",
       "<style scoped>\n",
       "    .dataframe tbody tr th:only-of-type {\n",
       "        vertical-align: middle;\n",
       "    }\n",
       "\n",
       "    .dataframe tbody tr th {\n",
       "        vertical-align: top;\n",
       "    }\n",
       "\n",
       "    .dataframe thead th {\n",
       "        text-align: right;\n",
       "    }\n",
       "</style>\n",
       "<table border=\"1\" class=\"dataframe\">\n",
       "  <thead>\n",
       "    <tr style=\"text-align: right;\">\n",
       "      <th></th>\n",
       "      <th>number</th>\n",
       "      <th>title</th>\n",
       "      <th>description</th>\n",
       "      <th>narrative</th>\n",
       "      <th>length</th>\n",
       "      <th>word_count</th>\n",
       "    </tr>\n",
       "  </thead>\n",
       "  <tbody>\n",
       "    <tr>\n",
       "      <th>0</th>\n",
       "      <td>1</td>\n",
       "      <td>the frequency of solar storms with impact on e...</td>\n",
       "      <td>\\n      How often do solar storms occur which ...</td>\n",
       "      <td>\\n      Scientific publications or articles wh...</td>\n",
       "      <td>71</td>\n",
       "      <td>12</td>\n",
       "    </tr>\n",
       "    <tr>\n",
       "      <th>1</th>\n",
       "      <td>2</td>\n",
       "      <td>popular pastries in germany</td>\n",
       "      <td>\\n      Which are the best-selling pastries in...</td>\n",
       "      <td>\\n      Find statistics, news articles or othe...</td>\n",
       "      <td>27</td>\n",
       "      <td>4</td>\n",
       "    </tr>\n",
       "    <tr>\n",
       "      <th>2</th>\n",
       "      <td>3</td>\n",
       "      <td>flights Frankfurt to Rome</td>\n",
       "      <td>\\n      Show flight connections from Frankfurt...</td>\n",
       "      <td>\\n      Relevant are all future flight connect...</td>\n",
       "      <td>25</td>\n",
       "      <td>4</td>\n",
       "    </tr>\n",
       "    <tr>\n",
       "      <th>3</th>\n",
       "      <td>4</td>\n",
       "      <td>remove wine stains</td>\n",
       "      <td>\\n      How can wine stains be removed?\\n</td>\n",
       "      <td>\\n      Relevant is all information about wine...</td>\n",
       "      <td>18</td>\n",
       "      <td>3</td>\n",
       "    </tr>\n",
       "    <tr>\n",
       "      <th>4</th>\n",
       "      <td>5</td>\n",
       "      <td>tipping in us</td>\n",
       "      <td>\\n      What tipping is considered appropriate...</td>\n",
       "      <td>\\n      We ask for some guidelines of how to c...</td>\n",
       "      <td>13</td>\n",
       "      <td>3</td>\n",
       "    </tr>\n",
       "  </tbody>\n",
       "</table>\n",
       "</div>"
      ],
      "text/plain": [
       "   number                                              title  \\\n",
       "0       1  the frequency of solar storms with impact on e...   \n",
       "1       2                        popular pastries in germany   \n",
       "2       3                          flights Frankfurt to Rome   \n",
       "3       4                                 remove wine stains   \n",
       "4       5                                      tipping in us   \n",
       "\n",
       "                                         description  \\\n",
       "0  \\n      How often do solar storms occur which ...   \n",
       "1  \\n      Which are the best-selling pastries in...   \n",
       "2  \\n      Show flight connections from Frankfurt...   \n",
       "3      \\n      How can wine stains be removed?\\n       \n",
       "4  \\n      What tipping is considered appropriate...   \n",
       "\n",
       "                                           narrative  length  word_count  \n",
       "0  \\n      Scientific publications or articles wh...      71          12  \n",
       "1  \\n      Find statistics, news articles or othe...      27           4  \n",
       "2  \\n      Relevant are all future flight connect...      25           4  \n",
       "3  \\n      Relevant is all information about wine...      18           3  \n",
       "4  \\n      We ask for some guidelines of how to c...      13           3  "
      ]
     },
     "execution_count": 3,
     "metadata": {},
     "output_type": "execute_result"
    }
   ],
   "source": [
    "df[\"length\"] = df[\"title\"].map(lambda x: len(x))\n",
    "# Calculation of the number of words in the title using the pyterrier tokenizer\n",
    "# https://pyterrier.readthedocs.io/en/latest/text.html#working-with-passages-rather-than-documents : r'\\s+' instead of ' '\n",
    "df[\"word_count\"] = df[\"title\"].map(lambda x: len(re.split(r'\\s+', x)))\n",
    "df.head()"
   ]
  },
  {
   "cell_type": "code",
   "execution_count": 4,
   "metadata": {},
   "outputs": [
    {
     "data": {
      "text/plain": [
       "array([[<Axes: title={'center': 'length'}>]], dtype=object)"
      ]
     },
     "execution_count": 4,
     "metadata": {},
     "output_type": "execute_result"
    },
    {
     "data": {
      "image/png": "[encoded data removed]",
      "text/plain": [
       "<Figure size 640x480 with 1 Axes>"
      ]
     },
     "metadata": {},
     "output_type": "display_data"
    },
    {
     "data": {
      "image/png": "[encoded data removed]",
      "text/plain": [
       "<Figure size 640x480 with 1 Axes>"
      ]
     },
     "metadata": {},
     "output_type": "display_data"
    }
   ],
   "source": [
    "df.hist(column=\"word_count\")\n",
    "df.hist(column=\"length\", bins=20)"
   ]
  },
  {
   "cell_type": "code",
   "execution_count": 5,
   "metadata": {},
   "outputs": [
    {
     "data": {
      "text/html": [
       "<style type=\"text/css\">\n",
       "#T_4f12e_row0_col1, #T_4f12e_row1_col2 {\n",
       "  font-weight: bold;\n",
       "}\n",
       "</style>\n",
       "<table id=\"T_4f12e\">\n",
       "  <thead>\n",
       "    <tr>\n",
       "      <th class=\"blank level0\" >&nbsp;</th>\n",
       "      <th id=\"T_4f12e_level0_col0\" class=\"col_heading level0 col0\" >median = 4.0</th>\n",
       "      <th id=\"T_4f12e_level0_col1\" class=\"col_heading level0 col1\" ># topics with median not included</th>\n",
       "      <th id=\"T_4f12e_level0_col2\" class=\"col_heading level0 col2\" ># topics with median included</th>\n",
       "    </tr>\n",
       "  </thead>\n",
       "  <tbody>\n",
       "    <tr>\n",
       "      <th id=\"T_4f12e_level0_row0\" class=\"row_heading level0 row0\" >0</th>\n",
       "      <td id=\"T_4f12e_row0_col0\" class=\"data row0 col0\" >below</td>\n",
       "      <td id=\"T_4f12e_row0_col1\" class=\"data row0 col1\" >25</td>\n",
       "      <td id=\"T_4f12e_row0_col2\" class=\"data row0 col2\" >42</td>\n",
       "    </tr>\n",
       "    <tr>\n",
       "      <th id=\"T_4f12e_level0_row1\" class=\"row_heading level0 row1\" >1</th>\n",
       "      <td id=\"T_4f12e_row1_col0\" class=\"data row1 col0\" >above</td>\n",
       "      <td id=\"T_4f12e_row1_col1\" class=\"data row1 col1\" >13</td>\n",
       "      <td id=\"T_4f12e_row1_col2\" class=\"data row1 col2\" >30</td>\n",
       "    </tr>\n",
       "  </tbody>\n",
       "</table>\n"
      ],
      "text/plain": [
       "<pandas.io.formats.style.Styler at 0x778e89f0ac80>"
      ]
     },
     "execution_count": 5,
     "metadata": {},
     "output_type": "execute_result"
    }
   ],
   "source": [
    "median = df[\"word_count\"].median()\n",
    "groups_df = pd.DataFrame({f\"median = {median}\": [\"below\", \"above\"], \n",
    "                           \"# topics with median not included\": [len(df[df[\"word_count\"] < median]), len(df[df[\"word_count\"] > median])], \n",
    "                           \"# topics with median included\": [len(df[df[\"word_count\"] <= median]), len(df[df[\"word_count\"] >= median])]})\n",
    "groups_df = groups_df.style.highlight_max(\"# topics with median not included\", props=\"font-weight: bold\").highlight_min(\"# topics with median included\", props=\"font-weight: bold\")\n",
    "groups_df"
   ]
  }
 ],
 "metadata": {
  "kernelspec": {
   "display_name": "IR",
   "language": "python",
   "name": "python3"
  },
  "language_info": {
   "codemirror_mode": {
    "name": "ipython",
    "version": 3
   },
   "file_extension": ".py",
   "mimetype": "text/x-python",
   "name": "python",
   "nbconvert_exporter": "python",
   "pygments_lexer": "ipython3",
   "version": "3.10.12"
  }
 },
 "nbformat": 4,
 "nbformat_minor": 2
}
