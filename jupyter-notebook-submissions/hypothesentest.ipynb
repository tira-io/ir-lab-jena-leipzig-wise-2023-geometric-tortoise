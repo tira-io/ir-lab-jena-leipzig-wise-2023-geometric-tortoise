{
 "cells": [
  {
   "cell_type": "code",
   "execution_count": 1,
   "metadata": {},
   "outputs": [
    {
     "name": "stdout",
     "output_type": "stream",
     "text": [
      "Failed to execute process '/home/paul/git/ir-lab/.venv/bin/pip3'. Reason:\n",
      "The file '/home/paul/git/ir-lab/.venv/bin/pip3' specified the interpreter '/home/paul/git/ir-lab-jena-leipzig-wise-2023-geometric-tortoise/.venv/bin/python', which is not an executable command.\n"
     ]
    }
   ],
   "source": [
    "!pip3 install numpy pandas matplotlib scipy\n",
    "import os\n",
    "import numpy as np\n",
    "import pandas as pd\n",
    "from scipy import stats\n",
    "import re"
   ]
  },
  {
   "cell_type": "code",
   "execution_count": 2,
   "metadata": {},
   "outputs": [
    {
     "name": "stdout",
     "output_type": "stream",
     "text": [
      "Failed to execute process '/home/paul/git/ir-lab/.venv/bin/pip3'. Reason:\n",
      "The file '/home/paul/git/ir-lab/.venv/bin/pip3' specified the interpreter '/home/paul/git/ir-lab-jena-leipzig-wise-2023-geometric-tortoise/.venv/bin/python', which is not an executable command.\n"
     ]
    }
   ],
   "source": [
    "if 'TIRA_DATASET_ID' not in os.environ:\n",
    "    !pip3 install python-terrier tira==0.0.88\n",
    "else:\n",
    "    print('We are in the TIRA sandbox.')"
   ]
  },
  {
   "cell_type": "code",
   "execution_count": 3,
   "metadata": {},
   "outputs": [
    {
     "name": "stderr",
     "output_type": "stream",
     "text": [
      "/home/paul/git/ir-lab/.venv/lib/python3.10/site-packages/tqdm/auto.py:21: TqdmWarning: IProgress not found. Please update jupyter and ipywidgets. See https://ipywidgets.readthedocs.io/en/stable/user_install.html\n",
      "  from .autonotebook import tqdm as notebook_tqdm\n",
      "PyTerrier 0.10.0 has loaded Terrier 5.7 (built by craigm on 2022-11-10 18:30) and terrier-helper 0.0.7\n",
      "\n",
      "No etc/terrier.properties, using terrier.default.properties for bootstrap configuration.\n"
     ]
    },
    {
     "name": "stdout",
     "output_type": "stream",
     "text": [
      "Due to execution in TIRA, I have patched ir_datasets to always return the single input dataset mounted to the sandbox.\n",
      "Start PyTerrier with version=5.7, helper_version=0.0.7, no_download=True\n"
     ]
    }
   ],
   "source": [
    "from tira.third_party_integrations import ensure_pyterrier_is_loaded, persist_and_normalize_run\n",
    "\n",
    "# this loads and starts pyterrier so that it also works in the TIRA\n",
    "ensure_pyterrier_is_loaded()\n",
    "\n",
    "# PyTerrier must be imported after the call to ensure_pyterrier_is_loaded in TIRA.\n",
    "import pyterrier as pt"
   ]
  },
  {
   "cell_type": "markdown",
   "metadata": {},
   "source": [
    "### Herausfinden des Schwellwerts"
   ]
  },
  {
   "cell_type": "code",
   "execution_count": 4,
   "metadata": {},
   "outputs": [
    {
     "data": {
      "text/html": [
       "<div>\n",
       "<style scoped>\n",
       "    .dataframe tbody tr th:only-of-type {\n",
       "        vertical-align: middle;\n",
       "    }\n",
       "\n",
       "    .dataframe tbody tr th {\n",
       "        vertical-align: top;\n",
       "    }\n",
       "\n",
       "    .dataframe thead th {\n",
       "        text-align: right;\n",
       "    }\n",
       "</style>\n",
       "<table border=\"1\" class=\"dataframe\">\n",
       "  <thead>\n",
       "    <tr style=\"text-align: right;\">\n",
       "      <th></th>\n",
       "      <th>number</th>\n",
       "      <th>title</th>\n",
       "      <th>description</th>\n",
       "      <th>narrative</th>\n",
       "    </tr>\n",
       "  </thead>\n",
       "  <tbody>\n",
       "    <tr>\n",
       "      <th>0</th>\n",
       "      <td>1</td>\n",
       "      <td>the frequency of solar storms with impact on e...</td>\n",
       "      <td>\\n      How often do solar storms occur which ...</td>\n",
       "      <td>\\n      Scientific publications or articles wh...</td>\n",
       "    </tr>\n",
       "    <tr>\n",
       "      <th>1</th>\n",
       "      <td>2</td>\n",
       "      <td>popular pastries in germany</td>\n",
       "      <td>\\n      Which are the best-selling pastries in...</td>\n",
       "      <td>\\n      Find statistics, news articles or othe...</td>\n",
       "    </tr>\n",
       "    <tr>\n",
       "      <th>2</th>\n",
       "      <td>3</td>\n",
       "      <td>flights Frankfurt to Rome</td>\n",
       "      <td>\\n      Show flight connections from Frankfurt...</td>\n",
       "      <td>\\n      Relevant are all future flight connect...</td>\n",
       "    </tr>\n",
       "    <tr>\n",
       "      <th>3</th>\n",
       "      <td>4</td>\n",
       "      <td>remove wine stains</td>\n",
       "      <td>\\n      How can wine stains be removed?\\n</td>\n",
       "      <td>\\n      Relevant is all information about wine...</td>\n",
       "    </tr>\n",
       "    <tr>\n",
       "      <th>4</th>\n",
       "      <td>5</td>\n",
       "      <td>tipping in us</td>\n",
       "      <td>\\n      What tipping is considered appropriate...</td>\n",
       "      <td>\\n      We ask for some guidelines of how to c...</td>\n",
       "    </tr>\n",
       "  </tbody>\n",
       "</table>\n",
       "</div>"
      ],
      "text/plain": [
       "   number                                              title  \\\n",
       "0       1  the frequency of solar storms with impact on e...   \n",
       "1       2                        popular pastries in germany   \n",
       "2       3                          flights Frankfurt to Rome   \n",
       "3       4                                 remove wine stains   \n",
       "4       5                                      tipping in us   \n",
       "\n",
       "                                         description  \\\n",
       "0  \\n      How often do solar storms occur which ...   \n",
       "1  \\n      Which are the best-selling pastries in...   \n",
       "2  \\n      Show flight connections from Frankfurt...   \n",
       "3      \\n      How can wine stains be removed?\\n       \n",
       "4  \\n      What tipping is considered appropriate...   \n",
       "\n",
       "                                           narrative  \n",
       "0  \\n      Scientific publications or articles wh...  \n",
       "1  \\n      Find statistics, news articles or othe...  \n",
       "2  \\n      Relevant are all future flight connect...  \n",
       "3  \\n      Relevant is all information about wine...  \n",
       "4  \\n      We ask for some guidelines of how to c...  "
      ]
     },
     "execution_count": 4,
     "metadata": {},
     "output_type": "execute_result"
    }
   ],
   "source": [
    "df = pd.read_xml(\"topics-anonymized.xml\")\n",
    "df.head()"
   ]
  },
  {
   "cell_type": "code",
   "execution_count": 5,
   "metadata": {},
   "outputs": [
    {
     "data": {
      "text/html": [
       "<div>\n",
       "<style scoped>\n",
       "    .dataframe tbody tr th:only-of-type {\n",
       "        vertical-align: middle;\n",
       "    }\n",
       "\n",
       "    .dataframe tbody tr th {\n",
       "        vertical-align: top;\n",
       "    }\n",
       "\n",
       "    .dataframe thead th {\n",
       "        text-align: right;\n",
       "    }\n",
       "</style>\n",
       "<table border=\"1\" class=\"dataframe\">\n",
       "  <thead>\n",
       "    <tr style=\"text-align: right;\">\n",
       "      <th></th>\n",
       "      <th>number</th>\n",
       "      <th>title</th>\n",
       "      <th>description</th>\n",
       "      <th>narrative</th>\n",
       "      <th>length</th>\n",
       "      <th>word_count</th>\n",
       "    </tr>\n",
       "  </thead>\n",
       "  <tbody>\n",
       "    <tr>\n",
       "      <th>0</th>\n",
       "      <td>1</td>\n",
       "      <td>the frequency of solar storms with impact on e...</td>\n",
       "      <td>\\n      How often do solar storms occur which ...</td>\n",
       "      <td>\\n      Scientific publications or articles wh...</td>\n",
       "      <td>71</td>\n",
       "      <td>12</td>\n",
       "    </tr>\n",
       "    <tr>\n",
       "      <th>1</th>\n",
       "      <td>2</td>\n",
       "      <td>popular pastries in germany</td>\n",
       "      <td>\\n      Which are the best-selling pastries in...</td>\n",
       "      <td>\\n      Find statistics, news articles or othe...</td>\n",
       "      <td>27</td>\n",
       "      <td>4</td>\n",
       "    </tr>\n",
       "    <tr>\n",
       "      <th>2</th>\n",
       "      <td>3</td>\n",
       "      <td>flights Frankfurt to Rome</td>\n",
       "      <td>\\n      Show flight connections from Frankfurt...</td>\n",
       "      <td>\\n      Relevant are all future flight connect...</td>\n",
       "      <td>25</td>\n",
       "      <td>4</td>\n",
       "    </tr>\n",
       "    <tr>\n",
       "      <th>3</th>\n",
       "      <td>4</td>\n",
       "      <td>remove wine stains</td>\n",
       "      <td>\\n      How can wine stains be removed?\\n</td>\n",
       "      <td>\\n      Relevant is all information about wine...</td>\n",
       "      <td>18</td>\n",
       "      <td>3</td>\n",
       "    </tr>\n",
       "    <tr>\n",
       "      <th>4</th>\n",
       "      <td>5</td>\n",
       "      <td>tipping in us</td>\n",
       "      <td>\\n      What tipping is considered appropriate...</td>\n",
       "      <td>\\n      We ask for some guidelines of how to c...</td>\n",
       "      <td>13</td>\n",
       "      <td>3</td>\n",
       "    </tr>\n",
       "  </tbody>\n",
       "</table>\n",
       "</div>"
      ],
      "text/plain": [
       "   number                                              title  \\\n",
       "0       1  the frequency of solar storms with impact on e...   \n",
       "1       2                        popular pastries in germany   \n",
       "2       3                          flights Frankfurt to Rome   \n",
       "3       4                                 remove wine stains   \n",
       "4       5                                      tipping in us   \n",
       "\n",
       "                                         description  \\\n",
       "0  \\n      How often do solar storms occur which ...   \n",
       "1  \\n      Which are the best-selling pastries in...   \n",
       "2  \\n      Show flight connections from Frankfurt...   \n",
       "3      \\n      How can wine stains be removed?\\n       \n",
       "4  \\n      What tipping is considered appropriate...   \n",
       "\n",
       "                                           narrative  length  word_count  \n",
       "0  \\n      Scientific publications or articles wh...      71          12  \n",
       "1  \\n      Find statistics, news articles or othe...      27           4  \n",
       "2  \\n      Relevant are all future flight connect...      25           4  \n",
       "3  \\n      Relevant is all information about wine...      18           3  \n",
       "4  \\n      We ask for some guidelines of how to c...      13           3  "
      ]
     },
     "execution_count": 5,
     "metadata": {},
     "output_type": "execute_result"
    }
   ],
   "source": [
    "df[\"length\"] = df[\"title\"].map(lambda x: len(x))\n",
    "df[\"word_count\"] = df[\"title\"].map(lambda x: x.count(\" \")+1)\n",
    "df.head()"
   ]
  },
  {
   "cell_type": "code",
   "execution_count": 6,
   "metadata": {},
   "outputs": [
    {
     "data": {
      "text/plain": [
       "array([[<Axes: title={'center': 'length'}>]], dtype=object)"
      ]
     },
     "execution_count": 6,
     "metadata": {},
     "output_type": "execute_result"
    },
    {
     "data": {
      "image/png": "[encoded data removed]",
      "text/plain": [
       "<Figure size 640x480 with 1 Axes>"
      ]
     },
     "metadata": {},
     "output_type": "display_data"
    },
    {
     "data": {
      "image/png": "[encoded data removed]",
      "text/plain": [
       "<Figure size 640x480 with 1 Axes>"
      ]
     },
     "metadata": {},
     "output_type": "display_data"
    }
   ],
   "source": [
    "df.hist(column=\"word_count\")\n",
    "df.hist(column=\"length\", bins=20)"
   ]
  },
  {
   "cell_type": "code",
   "execution_count": 7,
   "metadata": {},
   "outputs": [
    {
     "data": {
      "text/html": [
       "<style type=\"text/css\">\n",
       "#T_00bfe_row0_col1, #T_00bfe_row1_col2 {\n",
       "  font-weight: bold;\n",
       "}\n",
       "</style>\n",
       "<table id=\"T_00bfe\">\n",
       "  <thead>\n",
       "    <tr>\n",
       "      <th class=\"blank level0\" >&nbsp;</th>\n",
       "      <th id=\"T_00bfe_level0_col0\" class=\"col_heading level0 col0\" >median = 4.0</th>\n",
       "      <th id=\"T_00bfe_level0_col1\" class=\"col_heading level0 col1\" ># topics with median not included</th>\n",
       "      <th id=\"T_00bfe_level0_col2\" class=\"col_heading level0 col2\" ># topics with median included</th>\n",
       "    </tr>\n",
       "  </thead>\n",
       "  <tbody>\n",
       "    <tr>\n",
       "      <th id=\"T_00bfe_level0_row0\" class=\"row_heading level0 row0\" >0</th>\n",
       "      <td id=\"T_00bfe_row0_col0\" class=\"data row0 col0\" >below</td>\n",
       "      <td id=\"T_00bfe_row0_col1\" class=\"data row0 col1\" >25</td>\n",
       "      <td id=\"T_00bfe_row0_col2\" class=\"data row0 col2\" >42</td>\n",
       "    </tr>\n",
       "    <tr>\n",
       "      <th id=\"T_00bfe_level0_row1\" class=\"row_heading level0 row1\" >1</th>\n",
       "      <td id=\"T_00bfe_row1_col0\" class=\"data row1 col0\" >above</td>\n",
       "      <td id=\"T_00bfe_row1_col1\" class=\"data row1 col1\" >13</td>\n",
       "      <td id=\"T_00bfe_row1_col2\" class=\"data row1 col2\" >30</td>\n",
       "    </tr>\n",
       "  </tbody>\n",
       "</table>\n"
      ],
      "text/plain": [
       "<pandas.io.formats.style.Styler at 0x7a04498c3310>"
      ]
     },
     "execution_count": 7,
     "metadata": {},
     "output_type": "execute_result"
    }
   ],
   "source": [
    "median = df[\"word_count\"].median()\n",
    "groups_df = pd.DataFrame({f\"median = {median}\": [\"below\", \"above\"], \n",
    "                           \"# topics with median not included\": [len(df[df[\"word_count\"] < median]), len(df[df[\"word_count\"] > median])], \n",
    "                           \"# topics with median included\": [len(df[df[\"word_count\"] <= median]), len(df[df[\"word_count\"] >= median])]})\n",
    "groups_df = groups_df.style.highlight_max(\"# topics with median not included\", props=\"font-weight: bold\").highlight_min(\"# topics with median included\", props=\"font-weight: bold\")\n",
    "groups_df"
   ]
  },
  {
   "cell_type": "markdown",
   "metadata": {},
   "source": [
    "### Index bauen"
   ]
  },
  {
   "cell_type": "code",
   "execution_count": 8,
   "metadata": {},
   "outputs": [
    {
     "name": "stdout",
     "output_type": "stream",
     "text": [
      "Load ir_dataset \"ir-lab-jena-leipzig-wise-2023/validation-20231104-training\" from tira.\n"
     ]
    }
   ],
   "source": [
    "data = pt.get_dataset('irds:ir-lab-jena-leipzig-wise-2023/validation-20231104-training')"
   ]
  },
  {
   "cell_type": "code",
   "execution_count": 9,
   "metadata": {},
   "outputs": [
    {
     "name": "stdout",
     "output_type": "stream",
     "text": [
      "Build index:\n"
     ]
    },
    {
     "name": "stdout",
     "output_type": "stream",
     "text": [
      "No settings given in /home/paul/.tira/.tira-settings.json. I will use defaults.\n",
      "No settings given in /home/paul/.tira/.tira-settings.json. I will use defaults.\n"
     ]
    },
    {
     "name": "stderr",
     "output_type": "stream",
     "text": [
      "ir-lab-jena-leipzig-wise-2023/validation-20231104-training documents:   0%|          | 0/61307 [00:00<?, ?it/s]"
     ]
    },
    {
     "name": "stdout",
     "output_type": "stream",
     "text": [
      "No settings given in /home/paul/.tira/.tira-settings.json. I will use defaults.\n",
      "No settings given in /home/paul/.tira/.tira-settings.json. I will use defaults.\n"
     ]
    },
    {
     "name": "stderr",
     "output_type": "stream",
     "text": [
      "ir-lab-jena-leipzig-wise-2023/validation-20231104-training documents: 100%|██████████| 61307/61307 [00:32<00:00, 1908.34it/s]\n"
     ]
    },
    {
     "name": "stdout",
     "output_type": "stream",
     "text": [
      "Done. Index is created\n"
     ]
    }
   ],
   "source": [
    "print('Build index:')\n",
    "iter_indexer = pt.IterDictIndexer(\"/tmp/index\", meta={'docno': 100}, verbose=True)\n",
    "!rm -Rf /tmp/index\n",
    "indexref = iter_indexer.index(data.get_corpus_iter())\n",
    "print('Done. Index is created')"
   ]
  },
  {
   "cell_type": "markdown",
   "metadata": {},
   "source": [
    "### Unsere Retrieval Pipeline"
   ]
  },
  {
   "cell_type": "code",
   "execution_count": 10,
   "metadata": {},
   "outputs": [],
   "source": [
    "bo1 = pt.rewrite.Bo1QueryExpansion(indexref, verbose=True)\n",
    "rm3 = pt.rewrite.RM3(indexref, verbose=True)\n",
    "bm25 = pt.BatchRetrieve(indexref, wmodel=\"BM25\", verbose=True)\n",
    "tf_idf = pt.BatchRetrieve(indexref, wmodel=\"TF_IDF\", verbose=True)\n",
    "non_qe_pipeline = tf_idf\n",
    "qe_pipeline = tf_idf >> bo1 >> tf_idf"
   ]
  },
  {
   "cell_type": "code",
   "execution_count": 11,
   "metadata": {},
   "outputs": [
    {
     "name": "stdout",
     "output_type": "stream",
     "text": [
      "No settings given in /home/paul/.tira/.tira-settings.json. I will use defaults.\n",
      "No settings given in /home/paul/.tira/.tira-settings.json. I will use defaults.\n",
      "There are multiple query fields available: ('text', 'title', 'query', 'description', 'narrative'). To use with pyterrier, provide variant or modify dataframe to add query column.\n"
     ]
    },
    {
     "name": "stderr",
     "output_type": "stream",
     "text": [
      "BR(BM25):  20%|██        | 1/5 [00:00<00:00,  7.79q/s]"
     ]
    },
    {
     "name": "stderr",
     "output_type": "stream",
     "text": [
      "BR(BM25): 100%|██████████| 5/5 [00:00<00:00, 24.33q/s]\n",
      "Transformer: 100%|██████████| 5/5 [00:00<00:00, 93.88q/s]\n",
      "BR(BM25): 100%|██████████| 5/5 [00:00<00:00, 68.05q/s]\n",
      "Transformer: 100%|██████████| 5/5 [00:00<00:00, 114.12q/s]\n",
      "BR(TF_IDF): 100%|██████████| 5/5 [00:00<00:00, 46.72q/s]\n",
      "Transformer: 100%|██████████| 5/5 [00:00<00:00, 415.67q/s]\n",
      "BR(TF_IDF): 100%|██████████| 5/5 [00:00<00:00, 73.28q/s]\n",
      "Transformer: 100%|██████████| 5/5 [00:00<00:00, 331.98q/s]"
     ]
    },
    {
     "name": "stdout",
     "output_type": "stream",
     "text": [
      "\n",
      "    qid:          q072224\n",
      "    query:        purchase money\n",
      "    bm25_bo1_r:   applypipeline:off purchas^1.124916191 monei^1.171398406 buyer^0.114867291 seller^0.090024680 length^0.059362351 deposit^0.057799048 properti^0.052173303 cash^0.049139810 sale^0.041757400 estat^0.041346815\n",
      "    bm25_rm3_r:   applypipeline:off purchas^0.300000012 buyer^0.060062546 agreement^0.028948911 estat^0.035443090 capit^0.036937352 gain^0.027703013 seller^0.058997158 levi^0.027703013 monei^0.300000012 deposit^0.036903422 taxat^0.046171684 launder^0.041129794\n",
      "    tf_idf_bo1_r: applypipeline:off purchas^1.124916191 monei^1.171398406 buyer^0.114867291 seller^0.090024680 length^0.059362351 deposit^0.057799048 properti^0.052173303 cash^0.049139810 sale^0.041757400 estat^0.041346815\n",
      "    tf_idf_rm3_r: applypipeline:off purchas^0.300000012 buyer^0.060062546 agreement^0.028948911 estat^0.035443090 capit^0.036937352 gain^0.027703013 seller^0.058997158 levi^0.027703013 monei^0.300000012 deposit^0.036903422 taxat^0.046171684 launder^0.041129794\n",
      "    \n",
      "\n",
      "    qid:          q072226\n",
      "    query:        purchase used car\n",
      "    bm25_bo1_r:   applypipeline:off purchas^1.187593826 car^1.123690529 auto^0.111069380 acquir^0.109464823 bui^0.098856957 servic^0.058506396 guarante^0.054838198 vehicl^0.051148933 opportun^0.048437462 garag^0.032181556\n",
      "    bm25_rm3_r:   applypipeline:off purchas^0.300000012 opportun^0.058688913 appro^0.024642479 ahuriss^0.024642479 bonu^0.024642479 auto^0.052948900 car^0.300000012 agent^0.030814348 insur^0.025077211 occas^0.041070800 trade^0.090355754 creditstor^0.027116625\n",
      "    tf_idf_bo1_r: applypipeline:off purchas^1.187593826 car^1.123690529 auto^0.111069380 acquir^0.109464823 bui^0.098856957 servic^0.058506396 guarante^0.054838198 vehicl^0.051148933 opportun^0.048437462 garag^0.032181556\n",
      "    tf_idf_rm3_r: applypipeline:off purchas^0.300000012 opportun^0.058688913 appro^0.024642479 ahuriss^0.024642479 bonu^0.024642479 auto^0.052948900 car^0.300000012 agent^0.030814348 insur^0.025077211 occas^0.041070800 trade^0.090355754 creditstor^0.027116625\n",
      "    \n",
      "\n",
      "    qid:          q072232\n",
      "    query:        buy gold silver\n",
      "    bm25_bo1_r:   applypipeline:off bui^1.000000000 gold^1.338198991 silver^1.191319865 bdor^0.201692745 lingot^0.175441082 ingot^0.162907845 preciou^0.122214150 coin^0.120735130 bullion^0.096368434 metal^0.084643895 invest^0.084329883\n",
      "    bm25_rm3_r:   applypipeline:off ingot^0.026659532 lingot^0.021669500 gold^0.318650126 preciou^0.019645726 bui^0.200000018 expert^0.020053988 metal^0.023481114 invest^0.035390612 coin^0.030848602 bdor^0.017789405 silver^0.285811365\n",
      "    tf_idf_bo1_r: applypipeline:off bui^1.000000000 gold^1.338198991 silver^1.191319865 bdor^0.201692745 lingot^0.175441082 ingot^0.162907845 preciou^0.122214150 coin^0.120735130 bullion^0.096368434 metal^0.084643895 invest^0.084329883\n",
      "    tf_idf_rm3_r: applypipeline:off ingot^0.026659532 lingot^0.021669500 gold^0.318650126 preciou^0.019645726 bui^0.200000018 expert^0.020053988 metal^0.023481114 invest^0.035390612 coin^0.030848602 bdor^0.017789407 silver^0.285811365\n",
      "    \n",
      "\n",
      "    qid:          q072240\n",
      "    query:        adenovirus\n",
      "    bm25_bo1_r:   applypipeline:off adenoviru^1.685079698 human^0.172055379 sapien^0.157294148 gene^0.147498158 reactiv^0.089180315 homo^0.079886987 elisa^0.072065036 adinoviru^0.060504742 250ul^0.057959505 gentaur^0.056991888\n",
      "    bm25_rm3_r:   applypipeline:off pud^0.012542539 ha^0.032170720 reactiv^0.018415911 sapien^0.024554547 altern^0.015201885 human^0.098218188 adenoviru^0.723833799 gene^0.033907209 alpha^0.016070129 infect^0.025085079\n",
      "    tf_idf_bo1_r: applypipeline:off adenoviru^1.685079698 human^0.172055379 sapien^0.157294148 gene^0.147498158 reactiv^0.089180315 homo^0.079886987 elisa^0.072065036 adinoviru^0.060504742 250ul^0.057959505 gentaur^0.056991888\n",
      "    tf_idf_rm3_r: applypipeline:off pud^0.012542539 ha^0.032170720 reactiv^0.018415911 sapien^0.024554547 altern^0.015201885 human^0.098218188 adenoviru^0.723833799 gene^0.033907209 alpha^0.016070129 infect^0.025085079\n",
      "    \n",
      "\n",
      "    qid:          q072242\n",
      "    query:        Water softener\n",
      "    bm25_bo1_r:   applypipeline:off water^1.193651138 soften^1.527394817 hard^0.118971606 calcium^0.103039590 ion^0.102067056 sodium^0.093137821 salt^0.082955085 magnesium^0.072603120 resin^0.068076354 miner^0.065907694\n",
      "    bm25_rm3_r:   applypipeline:off resin^0.017754203 salt^0.033241674 ion^0.025166448 hard^0.047913633 valv^0.019760218 devic^0.025581639 soften^0.471078813 exchang^0.019309636 water^0.300000012 limeston^0.019209556 calcium^0.020984158\n",
      "    tf_idf_bo1_r: applypipeline:off water^1.193651138 soften^1.527394817 hard^0.118971606 calcium^0.103039590 ion^0.102067056 sodium^0.093137821 salt^0.082955085 magnesium^0.072603120 resin^0.068076354 miner^0.065907694\n",
      "    tf_idf_rm3_r: applypipeline:off resin^0.017754203 salt^0.033241674 ion^0.025166448 hard^0.047913633 valv^0.019760218 devic^0.025581639 soften^0.471078813 exchang^0.019309636 water^0.300000012 limeston^0.019209556 calcium^0.020984158\n",
      "    \n"
     ]
    },
    {
     "name": "stderr",
     "output_type": "stream",
     "text": [
      "\n"
     ]
    }
   ],
   "source": [
    "qe_test_queryDf = data.get_topics()[[\"qid\",\"title\"]].rename(columns={\"title\": \"query\"}).head()\n",
    "\n",
    "qe_results = [ {\"pipe\": \"bm25_bo1_r\",    \"df\":   (bm25 >> bo1).transform(qe_test_queryDf) },\n",
    "               {\"pipe\": \"bm25_rm3_r\",    \"df\":   (bm25 >> rm3).transform(qe_test_queryDf) },\n",
    "               {\"pipe\": \"tf_idf_bo1_r\",  \"df\": (tf_idf >> bo1).transform(qe_test_queryDf) },\n",
    "               {\"pipe\": \"tf_idf_rm3_r\",  \"df\": (tf_idf >> rm3).transform(qe_test_queryDf) } ]\n",
    "df = qe_results[0][\"df\"][[\"qid\", \"query_0\"]].rename(columns={\"query_0\": \"query\"})\n",
    "for result in qe_results:\n",
    "    result[\"df\"].rename(columns={\"query\": result[\"pipe\"]}, inplace=True)\n",
    "    result[\"df\"].drop(columns=[\"query_0\"], inplace=True)\n",
    "    df = df.merge(result[\"df\"], on=[\"qid\"])\n",
    "\n",
    "for r in df.iterrows():\n",
    "    print(f\"\"\"\n",
    "    qid:          {r[1][\"qid\"]}\n",
    "    query:        {r[1][\"query\"]}\n",
    "    bm25_bo1_r:   {r[1][\"bm25_bo1_r\"]}\n",
    "    bm25_rm3_r:   {r[1][\"bm25_rm3_r\"]}\n",
    "    tf_idf_bo1_r: {r[1][\"tf_idf_bo1_r\"]}\n",
    "    tf_idf_rm3_r: {r[1][\"tf_idf_rm3_r\"]}\n",
    "    \"\"\")"
   ]
  },
  {
   "cell_type": "code",
   "execution_count": 12,
   "metadata": {},
   "outputs": [
    {
     "name": "stdout",
     "output_type": "stream",
     "text": [
      "There are multiple query fields available: ('text', 'title', 'query', 'description', 'narrative'). To use with pyterrier, provide variant or modify dataframe to add query column.\n"
     ]
    },
    {
     "data": {
      "text/html": [
       "<div>\n",
       "<style scoped>\n",
       "    .dataframe tbody tr th:only-of-type {\n",
       "        vertical-align: middle;\n",
       "    }\n",
       "\n",
       "    .dataframe tbody tr th {\n",
       "        vertical-align: top;\n",
       "    }\n",
       "\n",
       "    .dataframe thead th {\n",
       "        text-align: right;\n",
       "    }\n",
       "</style>\n",
       "<table border=\"1\" class=\"dataframe\">\n",
       "  <thead>\n",
       "    <tr style=\"text-align: right;\">\n",
       "      <th></th>\n",
       "      <th>qid</th>\n",
       "      <th>text</th>\n",
       "      <th>title</th>\n",
       "      <th>query</th>\n",
       "      <th>description</th>\n",
       "      <th>narrative</th>\n",
       "    </tr>\n",
       "  </thead>\n",
       "  <tbody>\n",
       "    <tr>\n",
       "      <th>0</th>\n",
       "      <td>q072224</td>\n",
       "      <td>purchase money</td>\n",
       "      <td>purchase money</td>\n",
       "      <td>purchase money</td>\n",
       "      <td>None</td>\n",
       "      <td>None</td>\n",
       "    </tr>\n",
       "    <tr>\n",
       "      <th>1</th>\n",
       "      <td>q072226</td>\n",
       "      <td>purchase used car</td>\n",
       "      <td>purchase used car</td>\n",
       "      <td>purchase used car</td>\n",
       "      <td>None</td>\n",
       "      <td>None</td>\n",
       "    </tr>\n",
       "    <tr>\n",
       "      <th>2</th>\n",
       "      <td>q072232</td>\n",
       "      <td>buy gold silver</td>\n",
       "      <td>buy gold silver</td>\n",
       "      <td>buy gold silver</td>\n",
       "      <td>None</td>\n",
       "      <td>None</td>\n",
       "    </tr>\n",
       "    <tr>\n",
       "      <th>3</th>\n",
       "      <td>q072240</td>\n",
       "      <td>adenovirus</td>\n",
       "      <td>adenovirus</td>\n",
       "      <td>adenovirus</td>\n",
       "      <td>None</td>\n",
       "      <td>None</td>\n",
       "    </tr>\n",
       "    <tr>\n",
       "      <th>4</th>\n",
       "      <td>q072242</td>\n",
       "      <td>Water softener</td>\n",
       "      <td>Water softener</td>\n",
       "      <td>water softener</td>\n",
       "      <td>None</td>\n",
       "      <td>None</td>\n",
       "    </tr>\n",
       "  </tbody>\n",
       "</table>\n",
       "</div>"
      ],
      "text/plain": [
       "       qid               text              title              query  \\\n",
       "0  q072224     purchase money     purchase money     purchase money   \n",
       "1  q072226  purchase used car  purchase used car  purchase used car   \n",
       "2  q072232    buy gold silver    buy gold silver    buy gold silver   \n",
       "3  q072240         adenovirus         adenovirus         adenovirus   \n",
       "4  q072242     Water softener     Water softener     water softener   \n",
       "\n",
       "  description narrative  \n",
       "0        None      None  \n",
       "1        None      None  \n",
       "2        None      None  \n",
       "3        None      None  \n",
       "4        None      None  "
      ]
     },
     "execution_count": 12,
     "metadata": {},
     "output_type": "execute_result"
    }
   ],
   "source": [
    "topics = data.get_topics()\n",
    "topics.head()"
   ]
  },
  {
   "cell_type": "code",
   "execution_count": 13,
   "metadata": {},
   "outputs": [
    {
     "data": {
      "text/html": [
       "<div>\n",
       "<style scoped>\n",
       "    .dataframe tbody tr th:only-of-type {\n",
       "        vertical-align: middle;\n",
       "    }\n",
       "\n",
       "    .dataframe tbody tr th {\n",
       "        vertical-align: top;\n",
       "    }\n",
       "\n",
       "    .dataframe thead th {\n",
       "        text-align: right;\n",
       "    }\n",
       "</style>\n",
       "<table border=\"1\" class=\"dataframe\">\n",
       "  <thead>\n",
       "    <tr style=\"text-align: right;\">\n",
       "      <th></th>\n",
       "      <th>qid</th>\n",
       "      <th>text</th>\n",
       "      <th>title</th>\n",
       "      <th>query</th>\n",
       "      <th>description</th>\n",
       "      <th>narrative</th>\n",
       "      <th>word_count_old</th>\n",
       "      <th>length</th>\n",
       "      <th>word_count</th>\n",
       "    </tr>\n",
       "  </thead>\n",
       "  <tbody>\n",
       "    <tr>\n",
       "      <th>0</th>\n",
       "      <td>q072224</td>\n",
       "      <td>purchase money</td>\n",
       "      <td>purchase money</td>\n",
       "      <td>purchase money</td>\n",
       "      <td>None</td>\n",
       "      <td>None</td>\n",
       "      <td>2</td>\n",
       "      <td>14</td>\n",
       "      <td>2</td>\n",
       "    </tr>\n",
       "    <tr>\n",
       "      <th>1</th>\n",
       "      <td>q072226</td>\n",
       "      <td>purchase used car</td>\n",
       "      <td>purchase used car</td>\n",
       "      <td>purchase used car</td>\n",
       "      <td>None</td>\n",
       "      <td>None</td>\n",
       "      <td>3</td>\n",
       "      <td>17</td>\n",
       "      <td>3</td>\n",
       "    </tr>\n",
       "    <tr>\n",
       "      <th>2</th>\n",
       "      <td>q072232</td>\n",
       "      <td>buy gold silver</td>\n",
       "      <td>buy gold silver</td>\n",
       "      <td>buy gold silver</td>\n",
       "      <td>None</td>\n",
       "      <td>None</td>\n",
       "      <td>3</td>\n",
       "      <td>15</td>\n",
       "      <td>3</td>\n",
       "    </tr>\n",
       "    <tr>\n",
       "      <th>3</th>\n",
       "      <td>q072240</td>\n",
       "      <td>adenovirus</td>\n",
       "      <td>adenovirus</td>\n",
       "      <td>adenovirus</td>\n",
       "      <td>None</td>\n",
       "      <td>None</td>\n",
       "      <td>1</td>\n",
       "      <td>10</td>\n",
       "      <td>1</td>\n",
       "    </tr>\n",
       "    <tr>\n",
       "      <th>4</th>\n",
       "      <td>q072242</td>\n",
       "      <td>Water softener</td>\n",
       "      <td>Water softener</td>\n",
       "      <td>water softener</td>\n",
       "      <td>None</td>\n",
       "      <td>None</td>\n",
       "      <td>2</td>\n",
       "      <td>14</td>\n",
       "      <td>2</td>\n",
       "    </tr>\n",
       "  </tbody>\n",
       "</table>\n",
       "</div>"
      ],
      "text/plain": [
       "       qid               text              title              query  \\\n",
       "0  q072224     purchase money     purchase money     purchase money   \n",
       "1  q072226  purchase used car  purchase used car  purchase used car   \n",
       "2  q072232    buy gold silver    buy gold silver    buy gold silver   \n",
       "3  q072240         adenovirus         adenovirus         adenovirus   \n",
       "4  q072242     Water softener     Water softener     water softener   \n",
       "\n",
       "  description narrative  word_count_old  length  word_count  \n",
       "0        None      None               2      14           2  \n",
       "1        None      None               3      17           3  \n",
       "2        None      None               3      15           3  \n",
       "3        None      None               1      10           1  \n",
       "4        None      None               2      14           2  "
      ]
     },
     "execution_count": 13,
     "metadata": {},
     "output_type": "execute_result"
    }
   ],
   "source": [
    "# Calculation of the number of words in the title\n",
    "topics[\"word_count_old\"] = topics[\"title\"].map(lambda x: x.count(\" \")+1)\n",
    "# Calculation of the number of characters in the title\n",
    "topics[\"length\"] = topics[\"title\"].map(lambda x: len(x))\n",
    "\n",
    "# Calculation of the number of words in the title using the pyterrier tokenizer\n",
    "# https://pyterrier.readthedocs.io/en/latest/text.html#working-with-passages-rather-than-documents : r'\\s+' instead of ' '\n",
    "topics[\"word_count\"] = topics[\"title\"].map(lambda x: len(re.split(r'\\s+', x)))\n",
    "\n",
    "topics.head()"
   ]
  },
  {
   "cell_type": "code",
   "execution_count": 14,
   "metadata": {},
   "outputs": [],
   "source": [
    "# Calulation of the Threshold\n",
    "topics[\"word_count\"] = topics[\"title\"].map(lambda x: x.count(\" \")+1)\n",
    "threshold = topics[\"word_count\"].median()\n",
    "if len(topics[topics[\"word_count\"] > threshold]) > len(topics[topics[\"word_count\"] < threshold]):\n",
    "    topics[\"is_long\"] = topics[\"word_count\"] > threshold\n",
    "else:\n",
    "    topics[\"is_long\"] = topics[\"word_count\"] >= threshold"
   ]
  },
  {
   "cell_type": "code",
   "execution_count": 15,
   "metadata": {},
   "outputs": [
    {
     "name": "stdout",
     "output_type": "stream",
     "text": [
      "No settings given in /home/paul/.tira/.tira-settings.json. I will use defaults.\n",
      "No settings given in /home/paul/.tira/.tira-settings.json. I will use defaults.\n"
     ]
    },
    {
     "name": "stderr",
     "output_type": "stream",
     "text": [
      "BR(TF_IDF):   2%|▏         | 14/882 [00:00<00:15, 56.41q/s]"
     ]
    },
    {
     "name": "stderr",
     "output_type": "stream",
     "text": [
      "BR(TF_IDF): 100%|██████████| 882/882 [00:13<00:00, 67.69q/s]\n",
      "BR(TF_IDF): 100%|██████████| 882/882 [00:12<00:00, 68.97q/s]\n",
      "Transformer: 100%|██████████| 878/878 [00:23<00:00, 37.15q/s]\n",
      "BR(TF_IDF): 100%|██████████| 878/878 [00:15<00:00, 55.46q/s]\n"
     ]
    }
   ],
   "source": [
    "# Experiment over all topics and the two pipelines\n",
    "experiment = pt.Experiment(\n",
    "    [non_qe_pipeline, qe_pipeline],\n",
    "    topics, data.get_qrels(),\n",
    "    [\"ndcg_cut_5\"],\n",
    "    [\"ohne QE\", \"mit QE\"],\n",
    "    perquery=True\n",
    ")"
   ]
  },
  {
   "cell_type": "code",
   "execution_count": 16,
   "metadata": {},
   "outputs": [
    {
     "data": {
      "text/html": [
       "<div>\n",
       "<style scoped>\n",
       "    .dataframe tbody tr th:only-of-type {\n",
       "        vertical-align: middle;\n",
       "    }\n",
       "\n",
       "    .dataframe tbody tr th {\n",
       "        vertical-align: top;\n",
       "    }\n",
       "\n",
       "    .dataframe thead th {\n",
       "        text-align: right;\n",
       "    }\n",
       "</style>\n",
       "<table border=\"1\" class=\"dataframe\">\n",
       "  <thead>\n",
       "    <tr style=\"text-align: right;\">\n",
       "      <th></th>\n",
       "      <th>name</th>\n",
       "      <th>qid</th>\n",
       "      <th>measure</th>\n",
       "      <th>value</th>\n",
       "      <th>text</th>\n",
       "      <th>title</th>\n",
       "      <th>query</th>\n",
       "      <th>description</th>\n",
       "      <th>narrative</th>\n",
       "      <th>word_count_old</th>\n",
       "      <th>length</th>\n",
       "      <th>word_count</th>\n",
       "      <th>is_long</th>\n",
       "    </tr>\n",
       "  </thead>\n",
       "  <tbody>\n",
       "    <tr>\n",
       "      <th>0</th>\n",
       "      <td>mit QE</td>\n",
       "      <td>q072210025</td>\n",
       "      <td>ndcg_cut_5</td>\n",
       "      <td>0.0</td>\n",
       "      <td>recipe spring roll</td>\n",
       "      <td>recipe spring roll</td>\n",
       "      <td>recipe spring roll</td>\n",
       "      <td>None</td>\n",
       "      <td>None</td>\n",
       "      <td>3</td>\n",
       "      <td>18</td>\n",
       "      <td>3</td>\n",
       "      <td>True</td>\n",
       "    </tr>\n",
       "    <tr>\n",
       "      <th>1</th>\n",
       "      <td>ohne QE</td>\n",
       "      <td>q072210025</td>\n",
       "      <td>ndcg_cut_5</td>\n",
       "      <td>0.0</td>\n",
       "      <td>recipe spring roll</td>\n",
       "      <td>recipe spring roll</td>\n",
       "      <td>recipe spring roll</td>\n",
       "      <td>None</td>\n",
       "      <td>None</td>\n",
       "      <td>3</td>\n",
       "      <td>18</td>\n",
       "      <td>3</td>\n",
       "      <td>True</td>\n",
       "    </tr>\n",
       "    <tr>\n",
       "      <th>2</th>\n",
       "      <td>mit QE</td>\n",
       "      <td>q072210054</td>\n",
       "      <td>ndcg_cut_5</td>\n",
       "      <td>0.0</td>\n",
       "      <td>chateaux relays</td>\n",
       "      <td>chateaux relays</td>\n",
       "      <td>chateaux relays</td>\n",
       "      <td>None</td>\n",
       "      <td>None</td>\n",
       "      <td>2</td>\n",
       "      <td>15</td>\n",
       "      <td>2</td>\n",
       "      <td>False</td>\n",
       "    </tr>\n",
       "    <tr>\n",
       "      <th>3</th>\n",
       "      <td>ohne QE</td>\n",
       "      <td>q072210054</td>\n",
       "      <td>ndcg_cut_5</td>\n",
       "      <td>0.0</td>\n",
       "      <td>chateaux relays</td>\n",
       "      <td>chateaux relays</td>\n",
       "      <td>chateaux relays</td>\n",
       "      <td>None</td>\n",
       "      <td>None</td>\n",
       "      <td>2</td>\n",
       "      <td>15</td>\n",
       "      <td>2</td>\n",
       "      <td>False</td>\n",
       "    </tr>\n",
       "    <tr>\n",
       "      <th>4</th>\n",
       "      <td>mit QE</td>\n",
       "      <td>q072210114</td>\n",
       "      <td>ndcg_cut_5</td>\n",
       "      <td>0.0</td>\n",
       "      <td>Thermal curtain</td>\n",
       "      <td>Thermal curtain</td>\n",
       "      <td>thermal curtain</td>\n",
       "      <td>None</td>\n",
       "      <td>None</td>\n",
       "      <td>2</td>\n",
       "      <td>15</td>\n",
       "      <td>2</td>\n",
       "      <td>False</td>\n",
       "    </tr>\n",
       "  </tbody>\n",
       "</table>\n",
       "</div>"
      ],
      "text/plain": [
       "      name         qid     measure  value                text  \\\n",
       "0   mit QE  q072210025  ndcg_cut_5    0.0  recipe spring roll   \n",
       "1  ohne QE  q072210025  ndcg_cut_5    0.0  recipe spring roll   \n",
       "2   mit QE  q072210054  ndcg_cut_5    0.0     chateaux relays   \n",
       "3  ohne QE  q072210054  ndcg_cut_5    0.0     chateaux relays   \n",
       "4   mit QE  q072210114  ndcg_cut_5    0.0     Thermal curtain   \n",
       "\n",
       "                title               query description narrative  \\\n",
       "0  recipe spring roll  recipe spring roll        None      None   \n",
       "1  recipe spring roll  recipe spring roll        None      None   \n",
       "2     chateaux relays     chateaux relays        None      None   \n",
       "3     chateaux relays     chateaux relays        None      None   \n",
       "4     Thermal curtain     thermal curtain        None      None   \n",
       "\n",
       "   word_count_old  length  word_count  is_long  \n",
       "0               3      18           3     True  \n",
       "1               3      18           3     True  \n",
       "2               2      15           2    False  \n",
       "3               2      15           2    False  \n",
       "4               2      15           2    False  "
      ]
     },
     "execution_count": 16,
     "metadata": {},
     "output_type": "execute_result"
    }
   ],
   "source": [
    "# merge the topics with the results\n",
    "eval_all = experiment.merge(topics, on=\"qid\")\n",
    "eval_all.head()"
   ]
  },
  {
   "cell_type": "code",
   "execution_count": 17,
   "metadata": {},
   "outputs": [
    {
     "data": {
      "text/html": [
       "<div>\n",
       "<style scoped>\n",
       "    .dataframe tbody tr th:only-of-type {\n",
       "        vertical-align: middle;\n",
       "    }\n",
       "\n",
       "    .dataframe tbody tr th {\n",
       "        vertical-align: top;\n",
       "    }\n",
       "\n",
       "    .dataframe thead th {\n",
       "        text-align: right;\n",
       "    }\n",
       "</style>\n",
       "<table border=\"1\" class=\"dataframe\">\n",
       "  <thead>\n",
       "    <tr style=\"text-align: right;\">\n",
       "      <th></th>\n",
       "      <th>qid</th>\n",
       "      <th>text</th>\n",
       "      <th>title</th>\n",
       "      <th>query</th>\n",
       "      <th>description</th>\n",
       "      <th>narrative</th>\n",
       "      <th>word_count_old</th>\n",
       "      <th>length</th>\n",
       "      <th>word_count</th>\n",
       "      <th>is_long</th>\n",
       "      <th>ndcg_without_qe</th>\n",
       "      <th>ndcg_with_qe</th>\n",
       "    </tr>\n",
       "  </thead>\n",
       "  <tbody>\n",
       "    <tr>\n",
       "      <th>0</th>\n",
       "      <td>q072224</td>\n",
       "      <td>purchase money</td>\n",
       "      <td>purchase money</td>\n",
       "      <td>purchase money</td>\n",
       "      <td>None</td>\n",
       "      <td>None</td>\n",
       "      <td>2</td>\n",
       "      <td>14</td>\n",
       "      <td>2</td>\n",
       "      <td>False</td>\n",
       "      <td>0.000000</td>\n",
       "      <td>0.0</td>\n",
       "    </tr>\n",
       "    <tr>\n",
       "      <th>1</th>\n",
       "      <td>q072226</td>\n",
       "      <td>purchase used car</td>\n",
       "      <td>purchase used car</td>\n",
       "      <td>purchase used car</td>\n",
       "      <td>None</td>\n",
       "      <td>None</td>\n",
       "      <td>3</td>\n",
       "      <td>17</td>\n",
       "      <td>3</td>\n",
       "      <td>True</td>\n",
       "      <td>0.000000</td>\n",
       "      <td>0.0</td>\n",
       "    </tr>\n",
       "    <tr>\n",
       "      <th>2</th>\n",
       "      <td>q072232</td>\n",
       "      <td>buy gold silver</td>\n",
       "      <td>buy gold silver</td>\n",
       "      <td>buy gold silver</td>\n",
       "      <td>None</td>\n",
       "      <td>None</td>\n",
       "      <td>3</td>\n",
       "      <td>15</td>\n",
       "      <td>3</td>\n",
       "      <td>True</td>\n",
       "      <td>0.000000</td>\n",
       "      <td>0.0</td>\n",
       "    </tr>\n",
       "    <tr>\n",
       "      <th>3</th>\n",
       "      <td>q072240</td>\n",
       "      <td>adenovirus</td>\n",
       "      <td>adenovirus</td>\n",
       "      <td>adenovirus</td>\n",
       "      <td>None</td>\n",
       "      <td>None</td>\n",
       "      <td>1</td>\n",
       "      <td>10</td>\n",
       "      <td>1</td>\n",
       "      <td>False</td>\n",
       "      <td>0.351239</td>\n",
       "      <td>0.0</td>\n",
       "    </tr>\n",
       "    <tr>\n",
       "      <th>4</th>\n",
       "      <td>q072242</td>\n",
       "      <td>Water softener</td>\n",
       "      <td>Water softener</td>\n",
       "      <td>water softener</td>\n",
       "      <td>None</td>\n",
       "      <td>None</td>\n",
       "      <td>2</td>\n",
       "      <td>14</td>\n",
       "      <td>2</td>\n",
       "      <td>False</td>\n",
       "      <td>0.264068</td>\n",
       "      <td>0.0</td>\n",
       "    </tr>\n",
       "  </tbody>\n",
       "</table>\n",
       "</div>"
      ],
      "text/plain": [
       "       qid               text              title              query  \\\n",
       "0  q072224     purchase money     purchase money     purchase money   \n",
       "1  q072226  purchase used car  purchase used car  purchase used car   \n",
       "2  q072232    buy gold silver    buy gold silver    buy gold silver   \n",
       "3  q072240         adenovirus         adenovirus         adenovirus   \n",
       "4  q072242     Water softener     Water softener     water softener   \n",
       "\n",
       "  description narrative  word_count_old  length  word_count  is_long  \\\n",
       "0        None      None               2      14           2    False   \n",
       "1        None      None               3      17           3     True   \n",
       "2        None      None               3      15           3     True   \n",
       "3        None      None               1      10           1    False   \n",
       "4        None      None               2      14           2    False   \n",
       "\n",
       "   ndcg_without_qe  ndcg_with_qe  \n",
       "0         0.000000           0.0  \n",
       "1         0.000000           0.0  \n",
       "2         0.000000           0.0  \n",
       "3         0.351239           0.0  \n",
       "4         0.264068           0.0  "
      ]
     },
     "execution_count": 17,
     "metadata": {},
     "output_type": "execute_result"
    }
   ],
   "source": [
    "# combine the results of the two pipelines into one dataframe\n",
    "without_qe = eval_all[eval_all[\"name\"] == \"ohne QE\"][[\"qid\", \"value\"]]\n",
    "with_qe = eval_all[eval_all[\"name\"] == \"mit QE\"][[\"qid\", \"value\"]]\n",
    "\n",
    "eval = topics.copy()\n",
    "eval[\"ndcg_without_qe\"] = eval[\"qid\"].map(without_qe.set_index(\"qid\")[\"value\"])\n",
    "eval[\"ndcg_with_qe\"] = eval[\"qid\"].map(with_qe.set_index(\"qid\")[\"value\"])\n",
    "\n",
    "eval.head()"
   ]
  },
  {
   "cell_type": "code",
   "execution_count": 18,
   "metadata": {},
   "outputs": [
    {
     "data": {
      "text/html": [
       "<div>\n",
       "<style scoped>\n",
       "    .dataframe tbody tr th:only-of-type {\n",
       "        vertical-align: middle;\n",
       "    }\n",
       "\n",
       "    .dataframe tbody tr th {\n",
       "        vertical-align: top;\n",
       "    }\n",
       "\n",
       "    .dataframe thead th {\n",
       "        text-align: right;\n",
       "    }\n",
       "</style>\n",
       "<table border=\"1\" class=\"dataframe\">\n",
       "  <thead>\n",
       "    <tr style=\"text-align: right;\">\n",
       "      <th></th>\n",
       "      <th>qid</th>\n",
       "      <th>text</th>\n",
       "      <th>title</th>\n",
       "      <th>query</th>\n",
       "      <th>description</th>\n",
       "      <th>narrative</th>\n",
       "      <th>word_count_old</th>\n",
       "      <th>length</th>\n",
       "      <th>word_count</th>\n",
       "      <th>is_long</th>\n",
       "      <th>ndcg_without_qe</th>\n",
       "      <th>ndcg_with_qe</th>\n",
       "      <th>diff_improvement</th>\n",
       "    </tr>\n",
       "  </thead>\n",
       "  <tbody>\n",
       "    <tr>\n",
       "      <th>0</th>\n",
       "      <td>q072224</td>\n",
       "      <td>purchase money</td>\n",
       "      <td>purchase money</td>\n",
       "      <td>purchase money</td>\n",
       "      <td>None</td>\n",
       "      <td>None</td>\n",
       "      <td>2</td>\n",
       "      <td>14</td>\n",
       "      <td>2</td>\n",
       "      <td>False</td>\n",
       "      <td>0.000000</td>\n",
       "      <td>0.0</td>\n",
       "      <td>0.000000</td>\n",
       "    </tr>\n",
       "    <tr>\n",
       "      <th>1</th>\n",
       "      <td>q072226</td>\n",
       "      <td>purchase used car</td>\n",
       "      <td>purchase used car</td>\n",
       "      <td>purchase used car</td>\n",
       "      <td>None</td>\n",
       "      <td>None</td>\n",
       "      <td>3</td>\n",
       "      <td>17</td>\n",
       "      <td>3</td>\n",
       "      <td>True</td>\n",
       "      <td>0.000000</td>\n",
       "      <td>0.0</td>\n",
       "      <td>0.000000</td>\n",
       "    </tr>\n",
       "    <tr>\n",
       "      <th>2</th>\n",
       "      <td>q072232</td>\n",
       "      <td>buy gold silver</td>\n",
       "      <td>buy gold silver</td>\n",
       "      <td>buy gold silver</td>\n",
       "      <td>None</td>\n",
       "      <td>None</td>\n",
       "      <td>3</td>\n",
       "      <td>15</td>\n",
       "      <td>3</td>\n",
       "      <td>True</td>\n",
       "      <td>0.000000</td>\n",
       "      <td>0.0</td>\n",
       "      <td>0.000000</td>\n",
       "    </tr>\n",
       "    <tr>\n",
       "      <th>3</th>\n",
       "      <td>q072240</td>\n",
       "      <td>adenovirus</td>\n",
       "      <td>adenovirus</td>\n",
       "      <td>adenovirus</td>\n",
       "      <td>None</td>\n",
       "      <td>None</td>\n",
       "      <td>1</td>\n",
       "      <td>10</td>\n",
       "      <td>1</td>\n",
       "      <td>False</td>\n",
       "      <td>0.351239</td>\n",
       "      <td>0.0</td>\n",
       "      <td>-0.351239</td>\n",
       "    </tr>\n",
       "    <tr>\n",
       "      <th>4</th>\n",
       "      <td>q072242</td>\n",
       "      <td>Water softener</td>\n",
       "      <td>Water softener</td>\n",
       "      <td>water softener</td>\n",
       "      <td>None</td>\n",
       "      <td>None</td>\n",
       "      <td>2</td>\n",
       "      <td>14</td>\n",
       "      <td>2</td>\n",
       "      <td>False</td>\n",
       "      <td>0.264068</td>\n",
       "      <td>0.0</td>\n",
       "      <td>-0.264068</td>\n",
       "    </tr>\n",
       "  </tbody>\n",
       "</table>\n",
       "</div>"
      ],
      "text/plain": [
       "       qid               text              title              query  \\\n",
       "0  q072224     purchase money     purchase money     purchase money   \n",
       "1  q072226  purchase used car  purchase used car  purchase used car   \n",
       "2  q072232    buy gold silver    buy gold silver    buy gold silver   \n",
       "3  q072240         adenovirus         adenovirus         adenovirus   \n",
       "4  q072242     Water softener     Water softener     water softener   \n",
       "\n",
       "  description narrative  word_count_old  length  word_count  is_long  \\\n",
       "0        None      None               2      14           2    False   \n",
       "1        None      None               3      17           3     True   \n",
       "2        None      None               3      15           3     True   \n",
       "3        None      None               1      10           1    False   \n",
       "4        None      None               2      14           2    False   \n",
       "\n",
       "   ndcg_without_qe  ndcg_with_qe  diff_improvement  \n",
       "0         0.000000           0.0          0.000000  \n",
       "1         0.000000           0.0          0.000000  \n",
       "2         0.000000           0.0          0.000000  \n",
       "3         0.351239           0.0         -0.351239  \n",
       "4         0.264068           0.0         -0.264068  "
      ]
     },
     "execution_count": 18,
     "metadata": {},
     "output_type": "execute_result"
    }
   ],
   "source": [
    "eval[\"diff_improvement\"] = eval[\"ndcg_with_qe\"] - eval[\"ndcg_without_qe\"]\n",
    "eval.head()"
   ]
  },
  {
   "cell_type": "code",
   "execution_count": 19,
   "metadata": {},
   "outputs": [
    {
     "data": {
      "text/plain": [
       "array([[<Axes: title={'center': 'diff_improvement'}>]], dtype=object)"
      ]
     },
     "execution_count": 19,
     "metadata": {},
     "output_type": "execute_result"
    },
    {
     "data": {
      "image/png": "[encoded data removed]",
      "text/plain": [
       "<Figure size 640x480 with 1 Axes>"
      ]
     },
     "metadata": {},
     "output_type": "display_data"
    }
   ],
   "source": [
    "eval.hist(column=\"diff_improvement\", bins=20, log=[True, False])"
   ]
  },
  {
   "cell_type": "markdown",
   "metadata": {},
   "source": [
    "##### Overall Improvement"
   ]
  },
  {
   "cell_type": "code",
   "execution_count": 20,
   "metadata": {},
   "outputs": [
    {
     "name": "stdout",
     "output_type": "stream",
     "text": [
      "diff_improvement: 0.000526406048693695\n"
     ]
    }
   ],
   "source": [
    "ndcg_cut_5_all = eval[['ndcg_without_qe', 'ndcg_with_qe']].mean()\n",
    "print(f\"diff_improvement: {ndcg_cut_5_all['ndcg_with_qe'] - ndcg_cut_5_all['ndcg_without_qe']}\")"
   ]
  },
  {
   "cell_type": "markdown",
   "metadata": {},
   "source": [
    "##### Improvement for short and long queries"
   ]
  },
  {
   "cell_type": "code",
   "execution_count": 21,
   "metadata": {},
   "outputs": [
    {
     "data": {
      "text/html": [
       "<div>\n",
       "<style scoped>\n",
       "    .dataframe tbody tr th:only-of-type {\n",
       "        vertical-align: middle;\n",
       "    }\n",
       "\n",
       "    .dataframe tbody tr th {\n",
       "        vertical-align: top;\n",
       "    }\n",
       "\n",
       "    .dataframe thead th {\n",
       "        text-align: right;\n",
       "    }\n",
       "</style>\n",
       "<table border=\"1\" class=\"dataframe\">\n",
       "  <thead>\n",
       "    <tr style=\"text-align: right;\">\n",
       "      <th></th>\n",
       "      <th>diff_improvement</th>\n",
       "    </tr>\n",
       "    <tr>\n",
       "      <th>is_long</th>\n",
       "      <th></th>\n",
       "    </tr>\n",
       "  </thead>\n",
       "  <tbody>\n",
       "    <tr>\n",
       "      <th>False</th>\n",
       "      <td>-0.008116</td>\n",
       "    </tr>\n",
       "    <tr>\n",
       "      <th>True</th>\n",
       "      <td>0.009904</td>\n",
       "    </tr>\n",
       "  </tbody>\n",
       "</table>\n",
       "</div>"
      ],
      "text/plain": [
       "         diff_improvement\n",
       "is_long                  \n",
       "False           -0.008116\n",
       "True             0.009904"
      ]
     },
     "execution_count": 21,
     "metadata": {},
     "output_type": "execute_result"
    }
   ],
   "source": [
    "# average diff_improvement\n",
    "eval[[\"is_long\", \"diff_improvement\"]].groupby(\"is_long\").mean()"
   ]
  },
  {
   "cell_type": "markdown",
   "metadata": {},
   "source": [
    "### Hypothesentest\n",
    "\n",
    "##### Hypothesen:\n",
    "1. Die Differenz der Effektivität (ndcg) zwischen Retrieval ohne query expansion und mit query expansion bei kleinen Anfragen signifikant unterscheidet signifikant (Signifikanzlevel von 5%).\n",
    "2. **Die Differenz der Effektivität (ndcg) zwischen Retrieval ohne query expansion und mit query expansion ist bei kleinen Anfragen signifikant größer als bei großen Anfragen mit Signifikanzlevel von 5%.**\n",
    "3. Die Differenz der Effektivität (ndcg) zwischen Retrieval ohne query expansion und mit query expansion ist bei kleinen Anfragen signifikant kleiner als bei großen Anfragen mit Signifikanzlevel von 5%."
   ]
  },
  {
   "cell_type": "code",
   "execution_count": 22,
   "metadata": {},
   "outputs": [
    {
     "name": "stdout",
     "output_type": "stream",
     "text": [
      "short_improvement: [0.0, -0.35123899361230887, -0.2640681225725909, 0.0, 0.0, -0.38685280723454163, 0.12355844355602613...\n",
      "long_improvement: [0.0, 0.0, 0.0, 0.0, -0.22629438553091674, 0.0, 0.0, 0.38685280723454163, 0.0, 0.12663167705327652, ...\n"
     ]
    }
   ],
   "source": [
    "# necessary Data\n",
    "short_improvement = list(eval[eval[\"is_long\"] == False][\"diff_improvement\"])\n",
    "long_improvement = list(eval[eval[\"is_long\"] == True][\"diff_improvement\"])\n",
    "print(f\"short_improvement: {str(short_improvement)[:100]}...\")\n",
    "print(f\"long_improvement: {str(long_improvement)[:100]}...\")\n"
   ]
  },
  {
   "cell_type": "code",
   "execution_count": 55,
   "metadata": {},
   "outputs": [
    {
     "data": {
      "text/html": [
       "<div>\n",
       "<style scoped>\n",
       "    .dataframe tbody tr th:only-of-type {\n",
       "        vertical-align: middle;\n",
       "    }\n",
       "\n",
       "    .dataframe tbody tr th {\n",
       "        vertical-align: top;\n",
       "    }\n",
       "\n",
       "    .dataframe thead th {\n",
       "        text-align: right;\n",
       "    }\n",
       "</style>\n",
       "<table border=\"1\" class=\"dataframe\">\n",
       "  <thead>\n",
       "    <tr style=\"text-align: right;\">\n",
       "      <th></th>\n",
       "      <th>T-Test</th>\n",
       "      <th>T-statistic</th>\n",
       "      <th>P-value</th>\n",
       "      <th>necessary significance</th>\n",
       "      <th>accepted</th>\n",
       "    </tr>\n",
       "  </thead>\n",
       "  <tbody>\n",
       "    <tr>\n",
       "      <th>Hypothesis 1</th>\n",
       "      <td>Two-sided</td>\n",
       "      <td>-2.272347</td>\n",
       "      <td>0.023306</td>\n",
       "      <td>0.050</td>\n",
       "      <td>True</td>\n",
       "    </tr>\n",
       "    <tr>\n",
       "      <th>Hypothesis 2</th>\n",
       "      <td>One-sided (greater)</td>\n",
       "      <td>-2.272347</td>\n",
       "      <td>0.988347</td>\n",
       "      <td>0.025</td>\n",
       "      <td>False</td>\n",
       "    </tr>\n",
       "    <tr>\n",
       "      <th>Hypothesis 3</th>\n",
       "      <td>One-sided (less)</td>\n",
       "      <td>-2.272347</td>\n",
       "      <td>0.011653</td>\n",
       "      <td>0.025</td>\n",
       "      <td>True</td>\n",
       "    </tr>\n",
       "  </tbody>\n",
       "</table>\n",
       "</div>"
      ],
      "text/plain": [
       "                           T-Test  T-statistic   P-value  \\\n",
       "Hypothesis 1            Two-sided    -2.272347  0.023306   \n",
       "Hypothesis 2  One-sided (greater)    -2.272347  0.988347   \n",
       "Hypothesis 3     One-sided (less)    -2.272347  0.011653   \n",
       "\n",
       "              necessary significance  accepted  \n",
       "Hypothesis 1                   0.050      True  \n",
       "Hypothesis 2                   0.025     False  \n",
       "Hypothesis 3                   0.025      True  "
      ]
     },
     "execution_count": 55,
     "metadata": {},
     "output_type": "execute_result"
    }
   ],
   "source": [
    "# Perform a two-sample t-test\n",
    "\n",
    "ttest_results = pd.DataFrame([\n",
    "    [\"Two-sided\", *stats.ttest_ind(short_improvement, long_improvement), 0.05],\n",
    "    [\"One-sided (greater)\", *stats.ttest_ind(short_improvement, long_improvement, alternative=\"greater\"), 0.025],\n",
    "    [\"One-sided (less)\", *stats.ttest_ind(short_improvement, long_improvement, alternative=\"less\"), 0.025]], \n",
    "    columns=[\"T-Test\", \"T-statistic\", \"P-value\", \"necessary significance\"], \n",
    "    index=[\"Hypothesis 1\", \"Hypothesis 2\", \"Hypothesis 3\"])\n",
    "# From https://docs.scipy.org/doc/scipy/reference/generated/scipy.stats.ttest_ind.html:\n",
    "# This is a test for the null hypothesis that 2 independent samples have identical \n",
    "# average (expected) values. This test assumes that the populations have identical \n",
    "# variances by default.\n",
    "\n",
    "ttest_results[\"accepted\"] = ttest_results[\"P-value\"] < ttest_results[\"necessary significance\"]\n",
    "\n",
    "ttest_results"
   ]
  },
  {
   "cell_type": "code",
   "execution_count": null,
   "metadata": {},
   "outputs": [],
   "source": [
    "# TODO print to somewhere where we can read it"
   ]
  }
 ],
 "metadata": {
  "kernelspec": {
   "display_name": "IR",
   "language": "python",
   "name": "python3"
  },
  "language_info": {
   "codemirror_mode": {
    "name": "ipython",
    "version": 3
   },
   "file_extension": ".py",
   "mimetype": "text/x-python",
   "name": "python",
   "nbconvert_exporter": "python",
   "pygments_lexer": "ipython3",
   "version": "3.10.12"
  }
 },
 "nbformat": 4,
 "nbformat_minor": 2
}
