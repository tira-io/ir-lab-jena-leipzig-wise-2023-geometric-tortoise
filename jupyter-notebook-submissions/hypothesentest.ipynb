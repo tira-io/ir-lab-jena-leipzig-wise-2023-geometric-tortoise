{
 "cells": [
  {
   "cell_type": "code",
   "execution_count": 1,
   "metadata": {},
   "outputs": [
    {
     "name": "stdout",
     "output_type": "stream",
     "text": [
      "Requirement already satisfied: numpy in /Users/dominicwild/anaconda3/envs/IR/lib/python3.11/site-packages (1.26.2)\n",
      "Requirement already satisfied: pandas in /Users/dominicwild/anaconda3/envs/IR/lib/python3.11/site-packages (2.1.3)\n",
      "Requirement already satisfied: matplotlib in /Users/dominicwild/anaconda3/envs/IR/lib/python3.11/site-packages (3.8.2)\n",
      "Requirement already satisfied: python-dateutil>=2.8.2 in /Users/dominicwild/anaconda3/envs/IR/lib/python3.11/site-packages (from pandas) (2.8.2)\n",
      "Requirement already satisfied: pytz>=2020.1 in /Users/dominicwild/anaconda3/envs/IR/lib/python3.11/site-packages (from pandas) (2023.3.post1)\n",
      "Requirement already satisfied: tzdata>=2022.1 in /Users/dominicwild/anaconda3/envs/IR/lib/python3.11/site-packages (from pandas) (2023.3)\n",
      "Requirement already satisfied: contourpy>=1.0.1 in /Users/dominicwild/anaconda3/envs/IR/lib/python3.11/site-packages (from matplotlib) (1.2.0)\n",
      "Requirement already satisfied: cycler>=0.10 in /Users/dominicwild/anaconda3/envs/IR/lib/python3.11/site-packages (from matplotlib) (0.12.1)\n",
      "Requirement already satisfied: fonttools>=4.22.0 in /Users/dominicwild/anaconda3/envs/IR/lib/python3.11/site-packages (from matplotlib) (4.45.1)\n",
      "Requirement already satisfied: kiwisolver>=1.3.1 in /Users/dominicwild/anaconda3/envs/IR/lib/python3.11/site-packages (from matplotlib) (1.4.5)\n",
      "Requirement already satisfied: packaging>=20.0 in /Users/dominicwild/anaconda3/envs/IR/lib/python3.11/site-packages (from matplotlib) (23.2)\n",
      "Requirement already satisfied: pillow>=8 in /Users/dominicwild/anaconda3/envs/IR/lib/python3.11/site-packages (from matplotlib) (10.1.0)\n",
      "Requirement already satisfied: pyparsing>=2.3.1 in /Users/dominicwild/anaconda3/envs/IR/lib/python3.11/site-packages (from matplotlib) (3.1.1)\n",
      "Requirement already satisfied: six>=1.5 in /Users/dominicwild/anaconda3/envs/IR/lib/python3.11/site-packages (from python-dateutil>=2.8.2->pandas) (1.16.0)\n"
     ]
    }
   ],
   "source": [
    "!pip3 install numpy pandas matplotlib\n",
    "import os\n",
    "import numpy as np\n",
    "import pandas as pd\n",
    "import re"
   ]
  },
  {
   "cell_type": "code",
   "execution_count": 2,
   "metadata": {},
   "outputs": [
    {
     "name": "stdout",
     "output_type": "stream",
     "text": [
      "Requirement already satisfied: python-terrier in /Users/dominicwild/anaconda3/envs/IR/lib/python3.11/site-packages (0.10.0)\n",
      "Requirement already satisfied: tira==0.0.88 in /Users/dominicwild/anaconda3/envs/IR/lib/python3.11/site-packages (0.0.88)\n",
      "Requirement already satisfied: requests==2.*,>=2.26 in /Users/dominicwild/anaconda3/envs/IR/lib/python3.11/site-packages (from tira==0.0.88) (2.31.0)\n",
      "Requirement already satisfied: docker==6.*,>=6.0.0 in /Users/dominicwild/anaconda3/envs/IR/lib/python3.11/site-packages (from tira==0.0.88) (6.1.3)\n",
      "Requirement already satisfied: pandas in /Users/dominicwild/anaconda3/envs/IR/lib/python3.11/site-packages (from tira==0.0.88) (2.1.3)\n",
      "Requirement already satisfied: packaging>=14.0 in /Users/dominicwild/anaconda3/envs/IR/lib/python3.11/site-packages (from docker==6.*,>=6.0.0->tira==0.0.88) (23.2)\n",
      "Requirement already satisfied: urllib3>=1.26.0 in /Users/dominicwild/anaconda3/envs/IR/lib/python3.11/site-packages (from docker==6.*,>=6.0.0->tira==0.0.88) (2.1.0)\n",
      "Requirement already satisfied: websocket-client>=0.32.0 in /Users/dominicwild/anaconda3/envs/IR/lib/python3.11/site-packages (from docker==6.*,>=6.0.0->tira==0.0.88) (1.6.4)\n",
      "Requirement already satisfied: charset-normalizer<4,>=2 in /Users/dominicwild/anaconda3/envs/IR/lib/python3.11/site-packages (from requests==2.*,>=2.26->tira==0.0.88) (3.3.2)\n",
      "Requirement already satisfied: idna<4,>=2.5 in /Users/dominicwild/anaconda3/envs/IR/lib/python3.11/site-packages (from requests==2.*,>=2.26->tira==0.0.88) (3.4)\n",
      "Requirement already satisfied: certifi>=2017.4.17 in /Users/dominicwild/anaconda3/envs/IR/lib/python3.11/site-packages (from requests==2.*,>=2.26->tira==0.0.88) (2023.11.17)\n",
      "Requirement already satisfied: numpy in /Users/dominicwild/anaconda3/envs/IR/lib/python3.11/site-packages (from python-terrier) (1.26.2)\n",
      "Requirement already satisfied: wget in /Users/dominicwild/anaconda3/envs/IR/lib/python3.11/site-packages (from python-terrier) (3.2)\n",
      "Requirement already satisfied: tqdm in /Users/dominicwild/anaconda3/envs/IR/lib/python3.11/site-packages (from python-terrier) (4.66.1)\n",
      "Requirement already satisfied: pyjnius>=1.4.2 in /Users/dominicwild/anaconda3/envs/IR/lib/python3.11/site-packages (from python-terrier) (1.6.1)\n",
      "Requirement already satisfied: matchpy in /Users/dominicwild/anaconda3/envs/IR/lib/python3.11/site-packages (from python-terrier) (0.5.5)\n",
      "Requirement already satisfied: scikit-learn in /Users/dominicwild/anaconda3/envs/IR/lib/python3.11/site-packages (from python-terrier) (1.3.2)\n",
      "Requirement already satisfied: deprecated in /Users/dominicwild/anaconda3/envs/IR/lib/python3.11/site-packages (from python-terrier) (1.2.14)\n",
      "Requirement already satisfied: chest in /Users/dominicwild/anaconda3/envs/IR/lib/python3.11/site-packages (from python-terrier) (0.2.3)\n",
      "Requirement already satisfied: scipy in /Users/dominicwild/anaconda3/envs/IR/lib/python3.11/site-packages (from python-terrier) (1.11.4)\n",
      "Requirement already satisfied: joblib in /Users/dominicwild/anaconda3/envs/IR/lib/python3.11/site-packages (from python-terrier) (1.3.2)\n",
      "Requirement already satisfied: nptyping==1.4.4 in /Users/dominicwild/anaconda3/envs/IR/lib/python3.11/site-packages (from python-terrier) (1.4.4)\n",
      "Requirement already satisfied: more-itertools in /Users/dominicwild/anaconda3/envs/IR/lib/python3.11/site-packages (from python-terrier) (10.1.0)\n",
      "Requirement already satisfied: ir-datasets>=0.3.2 in /Users/dominicwild/anaconda3/envs/IR/lib/python3.11/site-packages (from python-terrier) (0.5.5)\n",
      "Requirement already satisfied: jinja2 in /Users/dominicwild/anaconda3/envs/IR/lib/python3.11/site-packages (from python-terrier) (3.1.2)\n",
      "Requirement already satisfied: statsmodels in /Users/dominicwild/anaconda3/envs/IR/lib/python3.11/site-packages (from python-terrier) (0.14.0)\n",
      "Requirement already satisfied: ir-measures>=0.3.1 in /Users/dominicwild/anaconda3/envs/IR/lib/python3.11/site-packages (from python-terrier) (0.3.3)\n",
      "Requirement already satisfied: dill in /Users/dominicwild/anaconda3/envs/IR/lib/python3.11/site-packages (from python-terrier) (0.3.7)\n",
      "Requirement already satisfied: pytrec-eval-terrier>=0.5.3 in /Users/dominicwild/anaconda3/envs/IR/lib/python3.11/site-packages (from python-terrier) (0.5.6)\n",
      "Requirement already satisfied: typish>=1.7.0 in /Users/dominicwild/anaconda3/envs/IR/lib/python3.11/site-packages (from nptyping==1.4.4->python-terrier) (1.9.3)\n",
      "Requirement already satisfied: beautifulsoup4>=4.4.1 in /Users/dominicwild/anaconda3/envs/IR/lib/python3.11/site-packages (from ir-datasets>=0.3.2->python-terrier) (4.12.2)\n",
      "Requirement already satisfied: inscriptis>=2.2.0 in /Users/dominicwild/anaconda3/envs/IR/lib/python3.11/site-packages (from ir-datasets>=0.3.2->python-terrier) (2.3.2)\n",
      "Requirement already satisfied: lxml>=4.5.2 in /Users/dominicwild/anaconda3/envs/IR/lib/python3.11/site-packages (from ir-datasets>=0.3.2->python-terrier) (4.9.3)\n",
      "Requirement already satisfied: pyyaml>=5.3.1 in /Users/dominicwild/anaconda3/envs/IR/lib/python3.11/site-packages (from ir-datasets>=0.3.2->python-terrier) (6.0.1)\n",
      "Requirement already satisfied: trec-car-tools>=2.5.4 in /Users/dominicwild/anaconda3/envs/IR/lib/python3.11/site-packages (from ir-datasets>=0.3.2->python-terrier) (2.6)\n",
      "Requirement already satisfied: lz4>=3.1.10 in /Users/dominicwild/anaconda3/envs/IR/lib/python3.11/site-packages (from ir-datasets>=0.3.2->python-terrier) (4.3.2)\n",
      "Requirement already satisfied: warc3-wet>=0.2.3 in /Users/dominicwild/anaconda3/envs/IR/lib/python3.11/site-packages (from ir-datasets>=0.3.2->python-terrier) (0.2.3)\n",
      "Requirement already satisfied: warc3-wet-clueweb09>=0.2.5 in /Users/dominicwild/anaconda3/envs/IR/lib/python3.11/site-packages (from ir-datasets>=0.3.2->python-terrier) (0.2.5)\n",
      "Requirement already satisfied: zlib-state>=0.1.3 in /Users/dominicwild/anaconda3/envs/IR/lib/python3.11/site-packages (from ir-datasets>=0.3.2->python-terrier) (0.1.6)\n",
      "Requirement already satisfied: ijson>=3.1.3 in /Users/dominicwild/anaconda3/envs/IR/lib/python3.11/site-packages (from ir-datasets>=0.3.2->python-terrier) (3.2.3)\n",
      "Requirement already satisfied: pyautocorpus>=0.1.1 in /Users/dominicwild/anaconda3/envs/IR/lib/python3.11/site-packages (from ir-datasets>=0.3.2->python-terrier) (0.1.12)\n",
      "Requirement already satisfied: unlzw3>=0.2.1 in /Users/dominicwild/anaconda3/envs/IR/lib/python3.11/site-packages (from ir-datasets>=0.3.2->python-terrier) (0.2.2)\n",
      "Requirement already satisfied: cwl-eval>=1.0.10 in /Users/dominicwild/anaconda3/envs/IR/lib/python3.11/site-packages (from ir-measures>=0.3.1->python-terrier) (1.0.12)\n",
      "Requirement already satisfied: heapdict in /Users/dominicwild/anaconda3/envs/IR/lib/python3.11/site-packages (from chest->python-terrier) (1.0.1)\n",
      "Requirement already satisfied: wrapt<2,>=1.10 in /Users/dominicwild/anaconda3/envs/IR/lib/python3.11/site-packages (from deprecated->python-terrier) (1.16.0)\n",
      "Requirement already satisfied: MarkupSafe>=2.0 in /Users/dominicwild/anaconda3/envs/IR/lib/python3.11/site-packages (from jinja2->python-terrier) (2.1.3)\n",
      "Requirement already satisfied: multiset<3.0,>=2.0 in /Users/dominicwild/anaconda3/envs/IR/lib/python3.11/site-packages (from matchpy->python-terrier) (2.1.1)\n",
      "Requirement already satisfied: python-dateutil>=2.8.2 in /Users/dominicwild/anaconda3/envs/IR/lib/python3.11/site-packages (from pandas->tira==0.0.88) (2.8.2)\n",
      "Requirement already satisfied: pytz>=2020.1 in /Users/dominicwild/anaconda3/envs/IR/lib/python3.11/site-packages (from pandas->tira==0.0.88) (2023.3.post1)\n",
      "Requirement already satisfied: tzdata>=2022.1 in /Users/dominicwild/anaconda3/envs/IR/lib/python3.11/site-packages (from pandas->tira==0.0.88) (2023.3)\n",
      "Requirement already satisfied: threadpoolctl>=2.0.0 in /Users/dominicwild/anaconda3/envs/IR/lib/python3.11/site-packages (from scikit-learn->python-terrier) (3.2.0)\n",
      "Requirement already satisfied: patsy>=0.5.2 in /Users/dominicwild/anaconda3/envs/IR/lib/python3.11/site-packages (from statsmodels->python-terrier) (0.5.3)\n",
      "Requirement already satisfied: soupsieve>1.2 in /Users/dominicwild/anaconda3/envs/IR/lib/python3.11/site-packages (from beautifulsoup4>=4.4.1->ir-datasets>=0.3.2->python-terrier) (2.5)\n",
      "Requirement already satisfied: six in /Users/dominicwild/anaconda3/envs/IR/lib/python3.11/site-packages (from patsy>=0.5.2->statsmodels->python-terrier) (1.16.0)\n",
      "Requirement already satisfied: cbor>=1.0.0 in /Users/dominicwild/anaconda3/envs/IR/lib/python3.11/site-packages (from trec-car-tools>=2.5.4->ir-datasets>=0.3.2->python-terrier) (1.0.0)\n"
     ]
    }
   ],
   "source": [
    "if 'TIRA_DATASET_ID' not in os.environ:\n",
    "    !pip3 install python-terrier tira==0.0.88\n",
    "else:\n",
    "    print('We are in the TIRA sandbox.')"
   ]
  },
  {
   "cell_type": "code",
   "execution_count": 3,
   "metadata": {},
   "outputs": [
    {
     "name": "stderr",
     "output_type": "stream",
     "text": [
      "/Users/dominicwild/anaconda3/envs/IR/lib/python3.11/site-packages/tqdm/auto.py:21: TqdmWarning: IProgress not found. Please update jupyter and ipywidgets. See https://ipywidgets.readthedocs.io/en/stable/user_install.html\n",
      "  from .autonotebook import tqdm as notebook_tqdm\n"
     ]
    },
    {
     "name": "stdout",
     "output_type": "stream",
     "text": [
      "Due to execution in TIRA, I have patched ir_datasets to always return the single input dataset mounted to the sandbox.\n",
      "Start PyTerrier with version=5.7, helper_version=0.0.7, no_download=True\n"
     ]
    },
    {
     "name": "stderr",
     "output_type": "stream",
     "text": [
      "PyTerrier 0.10.0 has loaded Terrier 5.7 (built by craigm on 2022-11-10 18:30) and terrier-helper 0.0.7\n",
      "\n",
      "No etc/terrier.properties, using terrier.default.properties for bootstrap configuration.\n"
     ]
    }
   ],
   "source": [
    "from tira.third_party_integrations import ensure_pyterrier_is_loaded, persist_and_normalize_run\n",
    "\n",
    "# this loads and starts pyterrier so that it also works in the TIRA\n",
    "ensure_pyterrier_is_loaded()\n",
    "\n",
    "# PyTerrier must be imported after the call to ensure_pyterrier_is_loaded in TIRA.\n",
    "import pyterrier as pt"
   ]
  },
  {
   "cell_type": "markdown",
   "metadata": {},
   "source": [
    "### Herausfinden des Schwellwerts"
   ]
  },
  {
   "cell_type": "code",
   "execution_count": 4,
   "metadata": {},
   "outputs": [
    {
     "data": {
      "text/html": [
       "<div>\n",
       "<style scoped>\n",
       "    .dataframe tbody tr th:only-of-type {\n",
       "        vertical-align: middle;\n",
       "    }\n",
       "\n",
       "    .dataframe tbody tr th {\n",
       "        vertical-align: top;\n",
       "    }\n",
       "\n",
       "    .dataframe thead th {\n",
       "        text-align: right;\n",
       "    }\n",
       "</style>\n",
       "<table border=\"1\" class=\"dataframe\">\n",
       "  <thead>\n",
       "    <tr style=\"text-align: right;\">\n",
       "      <th></th>\n",
       "      <th>number</th>\n",
       "      <th>title</th>\n",
       "      <th>description</th>\n",
       "      <th>narrative</th>\n",
       "    </tr>\n",
       "  </thead>\n",
       "  <tbody>\n",
       "    <tr>\n",
       "      <th>0</th>\n",
       "      <td>1</td>\n",
       "      <td>the frequency of solar storms with impact on e...</td>\n",
       "      <td>\\n      How often do solar storms occur which ...</td>\n",
       "      <td>\\n      Scientific publications or articles wh...</td>\n",
       "    </tr>\n",
       "    <tr>\n",
       "      <th>1</th>\n",
       "      <td>2</td>\n",
       "      <td>popular pastries in germany</td>\n",
       "      <td>\\n      Which are the best-selling pastries in...</td>\n",
       "      <td>\\n      Find statistics, news articles or othe...</td>\n",
       "    </tr>\n",
       "    <tr>\n",
       "      <th>2</th>\n",
       "      <td>3</td>\n",
       "      <td>flights Frankfurt to Rome</td>\n",
       "      <td>\\n      Show flight connections from Frankfurt...</td>\n",
       "      <td>\\n      Relevant are all future flight connect...</td>\n",
       "    </tr>\n",
       "    <tr>\n",
       "      <th>3</th>\n",
       "      <td>4</td>\n",
       "      <td>remove wine stains</td>\n",
       "      <td>\\n      How can wine stains be removed?\\n</td>\n",
       "      <td>\\n      Relevant is all information about wine...</td>\n",
       "    </tr>\n",
       "    <tr>\n",
       "      <th>4</th>\n",
       "      <td>5</td>\n",
       "      <td>tipping in us</td>\n",
       "      <td>\\n      What tipping is considered appropriate...</td>\n",
       "      <td>\\n      We ask for some guidelines of how to c...</td>\n",
       "    </tr>\n",
       "  </tbody>\n",
       "</table>\n",
       "</div>"
      ],
      "text/plain": [
       "   number                                              title  \\\n",
       "0       1  the frequency of solar storms with impact on e...   \n",
       "1       2                        popular pastries in germany   \n",
       "2       3                          flights Frankfurt to Rome   \n",
       "3       4                                 remove wine stains   \n",
       "4       5                                      tipping in us   \n",
       "\n",
       "                                         description  \\\n",
       "0  \\n      How often do solar storms occur which ...   \n",
       "1  \\n      Which are the best-selling pastries in...   \n",
       "2  \\n      Show flight connections from Frankfurt...   \n",
       "3      \\n      How can wine stains be removed?\\n       \n",
       "4  \\n      What tipping is considered appropriate...   \n",
       "\n",
       "                                           narrative  \n",
       "0  \\n      Scientific publications or articles wh...  \n",
       "1  \\n      Find statistics, news articles or othe...  \n",
       "2  \\n      Relevant are all future flight connect...  \n",
       "3  \\n      Relevant is all information about wine...  \n",
       "4  \\n      We ask for some guidelines of how to c...  "
      ]
     },
     "execution_count": 4,
     "metadata": {},
     "output_type": "execute_result"
    }
   ],
   "source": [
    "df = pd.read_xml(\"topics-anonymized.xml\")\n",
    "df.head()"
   ]
  },
  {
   "cell_type": "code",
   "execution_count": 5,
   "metadata": {},
   "outputs": [
    {
     "data": {
      "text/html": [
       "<div>\n",
       "<style scoped>\n",
       "    .dataframe tbody tr th:only-of-type {\n",
       "        vertical-align: middle;\n",
       "    }\n",
       "\n",
       "    .dataframe tbody tr th {\n",
       "        vertical-align: top;\n",
       "    }\n",
       "\n",
       "    .dataframe thead th {\n",
       "        text-align: right;\n",
       "    }\n",
       "</style>\n",
       "<table border=\"1\" class=\"dataframe\">\n",
       "  <thead>\n",
       "    <tr style=\"text-align: right;\">\n",
       "      <th></th>\n",
       "      <th>number</th>\n",
       "      <th>title</th>\n",
       "      <th>description</th>\n",
       "      <th>narrative</th>\n",
       "      <th>length</th>\n",
       "      <th>word_count</th>\n",
       "    </tr>\n",
       "  </thead>\n",
       "  <tbody>\n",
       "    <tr>\n",
       "      <th>0</th>\n",
       "      <td>1</td>\n",
       "      <td>the frequency of solar storms with impact on e...</td>\n",
       "      <td>\\n      How often do solar storms occur which ...</td>\n",
       "      <td>\\n      Scientific publications or articles wh...</td>\n",
       "      <td>71</td>\n",
       "      <td>12</td>\n",
       "    </tr>\n",
       "    <tr>\n",
       "      <th>1</th>\n",
       "      <td>2</td>\n",
       "      <td>popular pastries in germany</td>\n",
       "      <td>\\n      Which are the best-selling pastries in...</td>\n",
       "      <td>\\n      Find statistics, news articles or othe...</td>\n",
       "      <td>27</td>\n",
       "      <td>4</td>\n",
       "    </tr>\n",
       "    <tr>\n",
       "      <th>2</th>\n",
       "      <td>3</td>\n",
       "      <td>flights Frankfurt to Rome</td>\n",
       "      <td>\\n      Show flight connections from Frankfurt...</td>\n",
       "      <td>\\n      Relevant are all future flight connect...</td>\n",
       "      <td>25</td>\n",
       "      <td>4</td>\n",
       "    </tr>\n",
       "    <tr>\n",
       "      <th>3</th>\n",
       "      <td>4</td>\n",
       "      <td>remove wine stains</td>\n",
       "      <td>\\n      How can wine stains be removed?\\n</td>\n",
       "      <td>\\n      Relevant is all information about wine...</td>\n",
       "      <td>18</td>\n",
       "      <td>3</td>\n",
       "    </tr>\n",
       "    <tr>\n",
       "      <th>4</th>\n",
       "      <td>5</td>\n",
       "      <td>tipping in us</td>\n",
       "      <td>\\n      What tipping is considered appropriate...</td>\n",
       "      <td>\\n      We ask for some guidelines of how to c...</td>\n",
       "      <td>13</td>\n",
       "      <td>3</td>\n",
       "    </tr>\n",
       "  </tbody>\n",
       "</table>\n",
       "</div>"
      ],
      "text/plain": [
       "   number                                              title  \\\n",
       "0       1  the frequency of solar storms with impact on e...   \n",
       "1       2                        popular pastries in germany   \n",
       "2       3                          flights Frankfurt to Rome   \n",
       "3       4                                 remove wine stains   \n",
       "4       5                                      tipping in us   \n",
       "\n",
       "                                         description  \\\n",
       "0  \\n      How often do solar storms occur which ...   \n",
       "1  \\n      Which are the best-selling pastries in...   \n",
       "2  \\n      Show flight connections from Frankfurt...   \n",
       "3      \\n      How can wine stains be removed?\\n       \n",
       "4  \\n      What tipping is considered appropriate...   \n",
       "\n",
       "                                           narrative  length  word_count  \n",
       "0  \\n      Scientific publications or articles wh...      71          12  \n",
       "1  \\n      Find statistics, news articles or othe...      27           4  \n",
       "2  \\n      Relevant are all future flight connect...      25           4  \n",
       "3  \\n      Relevant is all information about wine...      18           3  \n",
       "4  \\n      We ask for some guidelines of how to c...      13           3  "
      ]
     },
     "execution_count": 5,
     "metadata": {},
     "output_type": "execute_result"
    }
   ],
   "source": [
    "df[\"length\"] = df[\"title\"].map(lambda x: len(x))\n",
    "df[\"word_count\"] = df[\"title\"].map(lambda x: x.count(\" \")+1)\n",
    "df.head()"
   ]
  },
  {
   "cell_type": "code",
   "execution_count": 6,
   "metadata": {},
   "outputs": [
    {
     "data": {
      "text/plain": [
       "array([[<Axes: title={'center': 'length'}>]], dtype=object)"
      ]
     },
     "execution_count": 6,
     "metadata": {},
     "output_type": "execute_result"
    },
    {
     "data": {
      "image/png": "[encoded data removed]",
      "text/plain": [
       "<Figure size 640x480 with 1 Axes>"
      ]
     },
     "metadata": {},
     "output_type": "display_data"
    },
    {
     "data": {
      "image/png": "[encoded data removed]",
      "text/plain": [
       "<Figure size 640x480 with 1 Axes>"
      ]
     },
     "metadata": {},
     "output_type": "display_data"
    }
   ],
   "source": [
    "df.hist(column=\"word_count\")\n",
    "df.hist(column=\"length\", bins=20)"
   ]
  },
  {
   "cell_type": "code",
   "execution_count": 12,
   "metadata": {},
   "outputs": [
    {
     "data": {
      "text/html": [
       "<style type=\"text/css\">\n",
       "#T_75634_row0_col1, #T_75634_row1_col2 {\n",
       "  font-weight: bold;\n",
       "}\n",
       "</style>\n",
       "<table id=\"T_75634\">\n",
       "  <thead>\n",
       "    <tr>\n",
       "      <th class=\"blank level0\" >&nbsp;</th>\n",
       "      <th id=\"T_75634_level0_col0\" class=\"col_heading level0 col0\" >median = 4.0</th>\n",
       "      <th id=\"T_75634_level0_col1\" class=\"col_heading level0 col1\" ># topics with median not included</th>\n",
       "      <th id=\"T_75634_level0_col2\" class=\"col_heading level0 col2\" ># topics with median included</th>\n",
       "    </tr>\n",
       "  </thead>\n",
       "  <tbody>\n",
       "    <tr>\n",
       "      <th id=\"T_75634_level0_row0\" class=\"row_heading level0 row0\" >0</th>\n",
       "      <td id=\"T_75634_row0_col0\" class=\"data row0 col0\" >below</td>\n",
       "      <td id=\"T_75634_row0_col1\" class=\"data row0 col1\" >25</td>\n",
       "      <td id=\"T_75634_row0_col2\" class=\"data row0 col2\" >42</td>\n",
       "    </tr>\n",
       "    <tr>\n",
       "      <th id=\"T_75634_level0_row1\" class=\"row_heading level0 row1\" >1</th>\n",
       "      <td id=\"T_75634_row1_col0\" class=\"data row1 col0\" >above</td>\n",
       "      <td id=\"T_75634_row1_col1\" class=\"data row1 col1\" >13</td>\n",
       "      <td id=\"T_75634_row1_col2\" class=\"data row1 col2\" >30</td>\n",
       "    </tr>\n",
       "  </tbody>\n",
       "</table>\n"
      ],
      "text/plain": [
       "<pandas.io.formats.style.Styler at 0x16db95e10>"
      ]
     },
     "execution_count": 12,
     "metadata": {},
     "output_type": "execute_result"
    }
   ],
   "source": [
    "median = df[\"word_count\"].median()\n",
    "groups_df = pd.DataFrame({f\"median = {median}\": [\"below\", \"above\"], \n",
    "                           \"# topics with median not included\": [len(df[df[\"word_count\"] < median]), len(df[df[\"word_count\"] > median])], \n",
    "                           \"# topics with median included\": [len(df[df[\"word_count\"] <= median]), len(df[df[\"word_count\"] >= median])]})\n",
    "groups_df = groups_df.style.highlight_max(\"# topics with median not included\", props=\"font-weight: bold\").highlight_min(\"# topics with median included\", props=\"font-weight: bold\")\n",
    "groups_df"
   ]
  },
  {
   "cell_type": "markdown",
   "metadata": {},
   "source": [
    "### Index bauen"
   ]
  },
  {
   "cell_type": "code",
   "execution_count": 13,
   "metadata": {},
   "outputs": [
    {
     "name": "stdout",
     "output_type": "stream",
     "text": [
      "Load ir_dataset \"ir-lab-jena-leipzig-wise-2023/validation-20231104-training\" from tira.\n"
     ]
    }
   ],
   "source": [
    "data = pt.get_dataset('irds:ir-lab-jena-leipzig-wise-2023/validation-20231104-training')"
   ]
  },
  {
   "cell_type": "code",
   "execution_count": 14,
   "metadata": {},
   "outputs": [
    {
     "name": "stdout",
     "output_type": "stream",
     "text": [
      "Build index:\n",
      "No settings given in /Users/dominicwild/.tira/.tira-settings.json. I will use defaults.\n",
      "No settings given in /Users/dominicwild/.tira/.tira-settings.json. I will use defaults.\n"
     ]
    },
    {
     "name": "stderr",
     "output_type": "stream",
     "text": [
      "ir-lab-jena-leipzig-wise-2023/validation-20231104-training documents:   0%|          | 0/61307 [00:00<?, ?it/s]"
     ]
    },
    {
     "name": "stdout",
     "output_type": "stream",
     "text": [
      "No settings given in /Users/dominicwild/.tira/.tira-settings.json. I will use defaults.\n",
      "No settings given in /Users/dominicwild/.tira/.tira-settings.json. I will use defaults.\n"
     ]
    },
    {
     "name": "stderr",
     "output_type": "stream",
     "text": [
      "ir-lab-jena-leipzig-wise-2023/validation-20231104-training documents: 100%|██████████| 61307/61307 [00:25<00:00, 2444.66it/s]\n"
     ]
    },
    {
     "name": "stdout",
     "output_type": "stream",
     "text": [
      "Done. Index is created\n"
     ]
    }
   ],
   "source": [
    "print('Build index:')\n",
    "iter_indexer = pt.IterDictIndexer(\"/tmp/index\", meta={'docno': 100}, verbose=True)\n",
    "!rm -Rf /tmp/index\n",
    "indexref = iter_indexer.index(data.get_corpus_iter())\n",
    "print('Done. Index is created')"
   ]
  },
  {
   "cell_type": "markdown",
   "metadata": {},
   "source": [
    "### Unsere Retrieval Pipeline"
   ]
  },
  {
   "cell_type": "code",
   "execution_count": 92,
   "metadata": {},
   "outputs": [
    {
     "name": "stdout",
     "output_type": "stream",
     "text": [
      "There are multiple query fields available: ('text', 'title', 'query', 'description', 'narrative'). To use with pyterrier, provide variant or modify dataframe to add query column.\n"
     ]
    },
    {
     "name": "stderr",
     "output_type": "stream",
     "text": [
      "Transformer: 100%|██████████| 882/882 [00:01<00:00, 675.22q/s]\n"
     ]
    }
   ],
   "source": [
    "expansion_model = pt.rewrite.Bo1QueryExpansion(indexref, verbose=True)\n",
    "retrieval_model = pt.BatchRetrieve(indexref, wmodel=\"TF_IDF\", verbose=True)\n",
    "qe_pipeline = ~(retrieval_model >> expansion_model >> retrieval_model)\n",
    "non_qe_pipeline = ~retrieval_model"
   ]
  },
  {
   "cell_type": "code",
   "execution_count": 120,
   "metadata": {},
   "outputs": [
    {
     "name": "stdout",
     "output_type": "stream",
     "text": [
      "There are multiple query fields available: ('text', 'title', 'query', 'description', 'narrative'). To use with pyterrier, provide variant or modify dataframe to add query column.\n"
     ]
    },
    {
     "name": "stderr",
     "output_type": "stream",
     "text": [
      "Transformer: 100%|██████████| 7/7 [00:00<00:00, 126.77q/s]"
     ]
    },
    {
     "name": "stdout",
     "output_type": "stream",
     "text": [
      "----------\n",
      "original query: purchase money\n",
      "transformed query: applypipeline:off purchas^1.000000000 monei^1.000000000 gold^0.306042586 lingot^0.226625605 preciou^0.226080861 ingot^0.129503827 coin^0.126064226 silver^0.121320318 metal^0.104846959 bui^0.102264392 jewelleri^0.098045357 diamond^0.086956339\n",
      "----------\n",
      "original query: purchase used car\n",
      "transformed query: applypipeline:off purchas^1.134600290 car^1.000000000 option^0.206735936 guarante^0.100144691 0km^0.084918200 mileag^0.083004202 km^0.065027410 00^0.064852639 cost^0.061966056 benefit^0.059924105 loa^0.055351310\n",
      "----------\n",
      "original query: buy gold silver\n",
      "transformed query: applypipeline:off bui^1.000000000 gold^1.332435879 silver^1.115348013 preciou^0.113793837 coin^0.107980253 currenc^0.097586931 metal^0.072309372 ingot^0.061639337 invest^0.059505354 exchang^0.049419851 bullion^0.045143594\n",
      "----------\n",
      "original query: adenovirus\n",
      "transformed query: applypipeline:off adenoviru^1.130162672 sinus^0.825056494 vaccin^0.290193162 adenovirus^0.187679425 infect^0.147029892 inflammatori^0.115037932 rare^0.100159777 caus^0.086180895 treatment^0.080871387 immun^0.079443870\n",
      "----------\n",
      "original query: water softener\n",
      "transformed query: applypipeline:off water^1.345954223 soften^1.419719212 limeston^0.310483613 hard^0.210450191 pipe^0.146839173 calcar^0.139202634 treatment^0.129213222 filter^0.104042070 treat^0.095147807 calcium^0.082753987\n",
      "----------\n"
     ]
    },
    {
     "name": "stderr",
     "output_type": "stream",
     "text": [
      "\n"
     ]
    }
   ],
   "source": [
    "# let's have a look at the transformed queries\n",
    "transformed_queries = expansion_model.transform(data.get_qrels().merge(data.get_topics(), on=\"qid\").head(100))\n",
    "print(\"-\"*10)\n",
    "for index in range(0, 5):\n",
    "    print(f\"original query: {transformed_queries['query_0'].iloc[index]}\")\n",
    "    print(f\"transformed query: {transformed_queries['query'].iloc[index]}\")\n",
    "    print(\"-\"*10)"
   ]
  },
  {
   "cell_type": "code",
   "execution_count": 95,
   "metadata": {},
   "outputs": [
    {
     "name": "stdout",
     "output_type": "stream",
     "text": [
      "There are multiple query fields available: ('text', 'title', 'query', 'description', 'narrative'). To use with pyterrier, provide variant or modify dataframe to add query column.\n"
     ]
    },
    {
     "data": {
      "text/html": [
       "<div>\n",
       "<style scoped>\n",
       "    .dataframe tbody tr th:only-of-type {\n",
       "        vertical-align: middle;\n",
       "    }\n",
       "\n",
       "    .dataframe tbody tr th {\n",
       "        vertical-align: top;\n",
       "    }\n",
       "\n",
       "    .dataframe thead th {\n",
       "        text-align: right;\n",
       "    }\n",
       "</style>\n",
       "<table border=\"1\" class=\"dataframe\">\n",
       "  <thead>\n",
       "    <tr style=\"text-align: right;\">\n",
       "      <th></th>\n",
       "      <th>qid</th>\n",
       "      <th>text</th>\n",
       "      <th>title</th>\n",
       "      <th>query</th>\n",
       "      <th>description</th>\n",
       "      <th>narrative</th>\n",
       "    </tr>\n",
       "  </thead>\n",
       "  <tbody>\n",
       "    <tr>\n",
       "      <th>0</th>\n",
       "      <td>q072224</td>\n",
       "      <td>purchase money</td>\n",
       "      <td>purchase money</td>\n",
       "      <td>purchase money</td>\n",
       "      <td>None</td>\n",
       "      <td>None</td>\n",
       "    </tr>\n",
       "    <tr>\n",
       "      <th>1</th>\n",
       "      <td>q072226</td>\n",
       "      <td>purchase used car</td>\n",
       "      <td>purchase used car</td>\n",
       "      <td>purchase used car</td>\n",
       "      <td>None</td>\n",
       "      <td>None</td>\n",
       "    </tr>\n",
       "    <tr>\n",
       "      <th>2</th>\n",
       "      <td>q072232</td>\n",
       "      <td>buy gold silver</td>\n",
       "      <td>buy gold silver</td>\n",
       "      <td>buy gold silver</td>\n",
       "      <td>None</td>\n",
       "      <td>None</td>\n",
       "    </tr>\n",
       "    <tr>\n",
       "      <th>3</th>\n",
       "      <td>q072240</td>\n",
       "      <td>adenovirus</td>\n",
       "      <td>adenovirus</td>\n",
       "      <td>adenovirus</td>\n",
       "      <td>None</td>\n",
       "      <td>None</td>\n",
       "    </tr>\n",
       "    <tr>\n",
       "      <th>4</th>\n",
       "      <td>q072242</td>\n",
       "      <td>Water softener</td>\n",
       "      <td>Water softener</td>\n",
       "      <td>water softener</td>\n",
       "      <td>None</td>\n",
       "      <td>None</td>\n",
       "    </tr>\n",
       "  </tbody>\n",
       "</table>\n",
       "</div>"
      ],
      "text/plain": [
       "       qid               text              title              query  \\\n",
       "0  q072224     purchase money     purchase money     purchase money   \n",
       "1  q072226  purchase used car  purchase used car  purchase used car   \n",
       "2  q072232    buy gold silver    buy gold silver    buy gold silver   \n",
       "3  q072240         adenovirus         adenovirus         adenovirus   \n",
       "4  q072242     Water softener     Water softener     water softener   \n",
       "\n",
       "  description narrative  \n",
       "0        None      None  \n",
       "1        None      None  \n",
       "2        None      None  \n",
       "3        None      None  \n",
       "4        None      None  "
      ]
     },
     "execution_count": 95,
     "metadata": {},
     "output_type": "execute_result"
    }
   ],
   "source": [
    "topics = data.get_topics()\n",
    "topics.head()"
   ]
  },
  {
   "cell_type": "code",
   "execution_count": 96,
   "metadata": {},
   "outputs": [
    {
     "data": {
      "text/html": [
       "<div>\n",
       "<style scoped>\n",
       "    .dataframe tbody tr th:only-of-type {\n",
       "        vertical-align: middle;\n",
       "    }\n",
       "\n",
       "    .dataframe tbody tr th {\n",
       "        vertical-align: top;\n",
       "    }\n",
       "\n",
       "    .dataframe thead th {\n",
       "        text-align: right;\n",
       "    }\n",
       "</style>\n",
       "<table border=\"1\" class=\"dataframe\">\n",
       "  <thead>\n",
       "    <tr style=\"text-align: right;\">\n",
       "      <th></th>\n",
       "      <th>qid</th>\n",
       "      <th>text</th>\n",
       "      <th>title</th>\n",
       "      <th>query</th>\n",
       "      <th>description</th>\n",
       "      <th>narrative</th>\n",
       "      <th>word_count_old</th>\n",
       "      <th>length</th>\n",
       "      <th>word_count</th>\n",
       "    </tr>\n",
       "  </thead>\n",
       "  <tbody>\n",
       "    <tr>\n",
       "      <th>0</th>\n",
       "      <td>q072224</td>\n",
       "      <td>purchase money</td>\n",
       "      <td>purchase money</td>\n",
       "      <td>purchase money</td>\n",
       "      <td>None</td>\n",
       "      <td>None</td>\n",
       "      <td>2</td>\n",
       "      <td>14</td>\n",
       "      <td>2</td>\n",
       "    </tr>\n",
       "    <tr>\n",
       "      <th>1</th>\n",
       "      <td>q072226</td>\n",
       "      <td>purchase used car</td>\n",
       "      <td>purchase used car</td>\n",
       "      <td>purchase used car</td>\n",
       "      <td>None</td>\n",
       "      <td>None</td>\n",
       "      <td>3</td>\n",
       "      <td>17</td>\n",
       "      <td>3</td>\n",
       "    </tr>\n",
       "    <tr>\n",
       "      <th>2</th>\n",
       "      <td>q072232</td>\n",
       "      <td>buy gold silver</td>\n",
       "      <td>buy gold silver</td>\n",
       "      <td>buy gold silver</td>\n",
       "      <td>None</td>\n",
       "      <td>None</td>\n",
       "      <td>3</td>\n",
       "      <td>15</td>\n",
       "      <td>3</td>\n",
       "    </tr>\n",
       "    <tr>\n",
       "      <th>3</th>\n",
       "      <td>q072240</td>\n",
       "      <td>adenovirus</td>\n",
       "      <td>adenovirus</td>\n",
       "      <td>adenovirus</td>\n",
       "      <td>None</td>\n",
       "      <td>None</td>\n",
       "      <td>1</td>\n",
       "      <td>10</td>\n",
       "      <td>1</td>\n",
       "    </tr>\n",
       "    <tr>\n",
       "      <th>4</th>\n",
       "      <td>q072242</td>\n",
       "      <td>Water softener</td>\n",
       "      <td>Water softener</td>\n",
       "      <td>water softener</td>\n",
       "      <td>None</td>\n",
       "      <td>None</td>\n",
       "      <td>2</td>\n",
       "      <td>14</td>\n",
       "      <td>2</td>\n",
       "    </tr>\n",
       "  </tbody>\n",
       "</table>\n",
       "</div>"
      ],
      "text/plain": [
       "       qid               text              title              query  \\\n",
       "0  q072224     purchase money     purchase money     purchase money   \n",
       "1  q072226  purchase used car  purchase used car  purchase used car   \n",
       "2  q072232    buy gold silver    buy gold silver    buy gold silver   \n",
       "3  q072240         adenovirus         adenovirus         adenovirus   \n",
       "4  q072242     Water softener     Water softener     water softener   \n",
       "\n",
       "  description narrative  word_count_old  length  word_count  \n",
       "0        None      None               2      14           2  \n",
       "1        None      None               3      17           3  \n",
       "2        None      None               3      15           3  \n",
       "3        None      None               1      10           1  \n",
       "4        None      None               2      14           2  "
      ]
     },
     "execution_count": 96,
     "metadata": {},
     "output_type": "execute_result"
    }
   ],
   "source": [
    "# Calculation of the number of words in the title\n",
    "topics[\"word_count_old\"] = topics[\"title\"].map(lambda x: x.count(\" \")+1)\n",
    "# Calculation of the number of characters in the title\n",
    "topics[\"length\"] = topics[\"title\"].map(lambda x: len(x))\n",
    "\n",
    "# Calculation of the number of words in the title using the pyterrier tokenizer\n",
    "# https://pyterrier.readthedocs.io/en/latest/text.html#working-with-passages-rather-than-documents : r'\\s+' instead of ' '\n",
    "topics[\"word_count\"] = topics[\"title\"].map(lambda x: len(re.split(r'\\s+', x)))\n",
    "\n",
    "topics.head()"
   ]
  },
  {
   "cell_type": "code",
   "execution_count": 97,
   "metadata": {},
   "outputs": [],
   "source": [
    "# Calulation of the Threshold\n",
    "topics[\"word_count\"] = topics[\"title\"].map(lambda x: x.count(\" \")+1)\n",
    "threshold = topics[\"word_count\"].median()\n",
    "if len(topics[topics[\"word_count\"] > threshold]) > len(topics[topics[\"word_count\"] < threshold]):\n",
    "    topics[\"is_long\"] = topics[\"word_count\"] > threshold\n",
    "else:\n",
    "    topics[\"is_long\"] = topics[\"word_count\"] >= threshold"
   ]
  },
  {
   "cell_type": "code",
   "execution_count": 98,
   "metadata": {},
   "outputs": [
    {
     "name": "stderr",
     "output_type": "stream",
     "text": [
      "BR(TF_IDF): 100%|██████████| 882/882 [00:09<00:00, 94.70q/s] \n",
      "Transformer: 100%|██████████| 878/878 [00:19<00:00, 45.49q/s]\n",
      "BR(TF_IDF): 100%|██████████| 878/878 [00:11<00:00, 76.44q/s]\n"
     ]
    }
   ],
   "source": [
    "# Experiment over all topics and the two pipelines\n",
    "experiment = pt.Experiment(\n",
    "    [qe_pipeline, non_qe_pipeline],\n",
    "    topics, data.get_qrels(),\n",
    "    [\"ndcg_cut_5\"],\n",
    "    [\"mit QE\", \"ohne QE\"],\n",
    "    perquery=True\n",
    ")"
   ]
  },
  {
   "cell_type": "code",
   "execution_count": 99,
   "metadata": {},
   "outputs": [
    {
     "data": {
      "text/html": [
       "<div>\n",
       "<style scoped>\n",
       "    .dataframe tbody tr th:only-of-type {\n",
       "        vertical-align: middle;\n",
       "    }\n",
       "\n",
       "    .dataframe tbody tr th {\n",
       "        vertical-align: top;\n",
       "    }\n",
       "\n",
       "    .dataframe thead th {\n",
       "        text-align: right;\n",
       "    }\n",
       "</style>\n",
       "<table border=\"1\" class=\"dataframe\">\n",
       "  <thead>\n",
       "    <tr style=\"text-align: right;\">\n",
       "      <th></th>\n",
       "      <th>name</th>\n",
       "      <th>qid</th>\n",
       "      <th>measure</th>\n",
       "      <th>value</th>\n",
       "      <th>text</th>\n",
       "      <th>title</th>\n",
       "      <th>query</th>\n",
       "      <th>description</th>\n",
       "      <th>narrative</th>\n",
       "      <th>word_count_old</th>\n",
       "      <th>length</th>\n",
       "      <th>word_count</th>\n",
       "      <th>is_long</th>\n",
       "    </tr>\n",
       "  </thead>\n",
       "  <tbody>\n",
       "    <tr>\n",
       "      <th>0</th>\n",
       "      <td>mit QE</td>\n",
       "      <td>q072210025</td>\n",
       "      <td>ndcg_cut_5</td>\n",
       "      <td>0.0</td>\n",
       "      <td>recipe spring roll</td>\n",
       "      <td>recipe spring roll</td>\n",
       "      <td>recipe spring roll</td>\n",
       "      <td>None</td>\n",
       "      <td>None</td>\n",
       "      <td>3</td>\n",
       "      <td>18</td>\n",
       "      <td>3</td>\n",
       "      <td>True</td>\n",
       "    </tr>\n",
       "    <tr>\n",
       "      <th>1</th>\n",
       "      <td>ohne QE</td>\n",
       "      <td>q072210025</td>\n",
       "      <td>ndcg_cut_5</td>\n",
       "      <td>0.0</td>\n",
       "      <td>recipe spring roll</td>\n",
       "      <td>recipe spring roll</td>\n",
       "      <td>recipe spring roll</td>\n",
       "      <td>None</td>\n",
       "      <td>None</td>\n",
       "      <td>3</td>\n",
       "      <td>18</td>\n",
       "      <td>3</td>\n",
       "      <td>True</td>\n",
       "    </tr>\n",
       "    <tr>\n",
       "      <th>2</th>\n",
       "      <td>mit QE</td>\n",
       "      <td>q072210054</td>\n",
       "      <td>ndcg_cut_5</td>\n",
       "      <td>0.0</td>\n",
       "      <td>chateaux relays</td>\n",
       "      <td>chateaux relays</td>\n",
       "      <td>chateaux relays</td>\n",
       "      <td>None</td>\n",
       "      <td>None</td>\n",
       "      <td>2</td>\n",
       "      <td>15</td>\n",
       "      <td>2</td>\n",
       "      <td>False</td>\n",
       "    </tr>\n",
       "    <tr>\n",
       "      <th>3</th>\n",
       "      <td>ohne QE</td>\n",
       "      <td>q072210054</td>\n",
       "      <td>ndcg_cut_5</td>\n",
       "      <td>0.0</td>\n",
       "      <td>chateaux relays</td>\n",
       "      <td>chateaux relays</td>\n",
       "      <td>chateaux relays</td>\n",
       "      <td>None</td>\n",
       "      <td>None</td>\n",
       "      <td>2</td>\n",
       "      <td>15</td>\n",
       "      <td>2</td>\n",
       "      <td>False</td>\n",
       "    </tr>\n",
       "    <tr>\n",
       "      <th>4</th>\n",
       "      <td>mit QE</td>\n",
       "      <td>q072210114</td>\n",
       "      <td>ndcg_cut_5</td>\n",
       "      <td>0.0</td>\n",
       "      <td>Thermal curtain</td>\n",
       "      <td>Thermal curtain</td>\n",
       "      <td>thermal curtain</td>\n",
       "      <td>None</td>\n",
       "      <td>None</td>\n",
       "      <td>2</td>\n",
       "      <td>15</td>\n",
       "      <td>2</td>\n",
       "      <td>False</td>\n",
       "    </tr>\n",
       "  </tbody>\n",
       "</table>\n",
       "</div>"
      ],
      "text/plain": [
       "      name         qid     measure  value                text  \\\n",
       "0   mit QE  q072210025  ndcg_cut_5    0.0  recipe spring roll   \n",
       "1  ohne QE  q072210025  ndcg_cut_5    0.0  recipe spring roll   \n",
       "2   mit QE  q072210054  ndcg_cut_5    0.0     chateaux relays   \n",
       "3  ohne QE  q072210054  ndcg_cut_5    0.0     chateaux relays   \n",
       "4   mit QE  q072210114  ndcg_cut_5    0.0     Thermal curtain   \n",
       "\n",
       "                title               query description narrative  \\\n",
       "0  recipe spring roll  recipe spring roll        None      None   \n",
       "1  recipe spring roll  recipe spring roll        None      None   \n",
       "2     chateaux relays     chateaux relays        None      None   \n",
       "3     chateaux relays     chateaux relays        None      None   \n",
       "4     Thermal curtain     thermal curtain        None      None   \n",
       "\n",
       "   word_count_old  length  word_count  is_long  \n",
       "0               3      18           3     True  \n",
       "1               3      18           3     True  \n",
       "2               2      15           2    False  \n",
       "3               2      15           2    False  \n",
       "4               2      15           2    False  "
      ]
     },
     "execution_count": 99,
     "metadata": {},
     "output_type": "execute_result"
    }
   ],
   "source": [
    "# merge the topics with the results\n",
    "eval_all = experiment.merge(topics, on=\"qid\")\n",
    "eval_all.head()"
   ]
  },
  {
   "cell_type": "code",
   "execution_count": 100,
   "metadata": {},
   "outputs": [
    {
     "data": {
      "text/html": [
       "<div>\n",
       "<style scoped>\n",
       "    .dataframe tbody tr th:only-of-type {\n",
       "        vertical-align: middle;\n",
       "    }\n",
       "\n",
       "    .dataframe tbody tr th {\n",
       "        vertical-align: top;\n",
       "    }\n",
       "\n",
       "    .dataframe thead th {\n",
       "        text-align: right;\n",
       "    }\n",
       "</style>\n",
       "<table border=\"1\" class=\"dataframe\">\n",
       "  <thead>\n",
       "    <tr style=\"text-align: right;\">\n",
       "      <th></th>\n",
       "      <th>qid</th>\n",
       "      <th>text</th>\n",
       "      <th>title</th>\n",
       "      <th>query</th>\n",
       "      <th>description</th>\n",
       "      <th>narrative</th>\n",
       "      <th>word_count_old</th>\n",
       "      <th>length</th>\n",
       "      <th>word_count</th>\n",
       "      <th>is_long</th>\n",
       "      <th>ndcg_without_qe</th>\n",
       "      <th>ndcg_with_qe</th>\n",
       "    </tr>\n",
       "  </thead>\n",
       "  <tbody>\n",
       "    <tr>\n",
       "      <th>0</th>\n",
       "      <td>q072224</td>\n",
       "      <td>purchase money</td>\n",
       "      <td>purchase money</td>\n",
       "      <td>purchase money</td>\n",
       "      <td>None</td>\n",
       "      <td>None</td>\n",
       "      <td>2</td>\n",
       "      <td>14</td>\n",
       "      <td>2</td>\n",
       "      <td>False</td>\n",
       "      <td>0.000000</td>\n",
       "      <td>0.0</td>\n",
       "    </tr>\n",
       "    <tr>\n",
       "      <th>1</th>\n",
       "      <td>q072226</td>\n",
       "      <td>purchase used car</td>\n",
       "      <td>purchase used car</td>\n",
       "      <td>purchase used car</td>\n",
       "      <td>None</td>\n",
       "      <td>None</td>\n",
       "      <td>3</td>\n",
       "      <td>17</td>\n",
       "      <td>3</td>\n",
       "      <td>True</td>\n",
       "      <td>0.000000</td>\n",
       "      <td>0.0</td>\n",
       "    </tr>\n",
       "    <tr>\n",
       "      <th>2</th>\n",
       "      <td>q072232</td>\n",
       "      <td>buy gold silver</td>\n",
       "      <td>buy gold silver</td>\n",
       "      <td>buy gold silver</td>\n",
       "      <td>None</td>\n",
       "      <td>None</td>\n",
       "      <td>3</td>\n",
       "      <td>15</td>\n",
       "      <td>3</td>\n",
       "      <td>True</td>\n",
       "      <td>0.000000</td>\n",
       "      <td>0.0</td>\n",
       "    </tr>\n",
       "    <tr>\n",
       "      <th>3</th>\n",
       "      <td>q072240</td>\n",
       "      <td>adenovirus</td>\n",
       "      <td>adenovirus</td>\n",
       "      <td>adenovirus</td>\n",
       "      <td>None</td>\n",
       "      <td>None</td>\n",
       "      <td>1</td>\n",
       "      <td>10</td>\n",
       "      <td>1</td>\n",
       "      <td>False</td>\n",
       "      <td>0.351239</td>\n",
       "      <td>0.0</td>\n",
       "    </tr>\n",
       "    <tr>\n",
       "      <th>4</th>\n",
       "      <td>q072242</td>\n",
       "      <td>Water softener</td>\n",
       "      <td>Water softener</td>\n",
       "      <td>water softener</td>\n",
       "      <td>None</td>\n",
       "      <td>None</td>\n",
       "      <td>2</td>\n",
       "      <td>14</td>\n",
       "      <td>2</td>\n",
       "      <td>False</td>\n",
       "      <td>0.264068</td>\n",
       "      <td>0.0</td>\n",
       "    </tr>\n",
       "  </tbody>\n",
       "</table>\n",
       "</div>"
      ],
      "text/plain": [
       "       qid               text              title              query  \\\n",
       "0  q072224     purchase money     purchase money     purchase money   \n",
       "1  q072226  purchase used car  purchase used car  purchase used car   \n",
       "2  q072232    buy gold silver    buy gold silver    buy gold silver   \n",
       "3  q072240         adenovirus         adenovirus         adenovirus   \n",
       "4  q072242     Water softener     Water softener     water softener   \n",
       "\n",
       "  description narrative  word_count_old  length  word_count  is_long  \\\n",
       "0        None      None               2      14           2    False   \n",
       "1        None      None               3      17           3     True   \n",
       "2        None      None               3      15           3     True   \n",
       "3        None      None               1      10           1    False   \n",
       "4        None      None               2      14           2    False   \n",
       "\n",
       "   ndcg_without_qe  ndcg_with_qe  \n",
       "0         0.000000           0.0  \n",
       "1         0.000000           0.0  \n",
       "2         0.000000           0.0  \n",
       "3         0.351239           0.0  \n",
       "4         0.264068           0.0  "
      ]
     },
     "execution_count": 100,
     "metadata": {},
     "output_type": "execute_result"
    }
   ],
   "source": [
    "# combine the results of the two pipelines into one dataframe\n",
    "without_qe = eval_all[eval_all[\"name\"] == \"ohne QE\"][[\"qid\", \"value\"]]\n",
    "with_qe = eval_all[eval_all[\"name\"] == \"mit QE\"][[\"qid\", \"value\"]]\n",
    "\n",
    "eval = topics.copy()\n",
    "eval[\"ndcg_without_qe\"] = eval[\"qid\"].map(without_qe.set_index(\"qid\")[\"value\"])\n",
    "eval[\"ndcg_with_qe\"] = eval[\"qid\"].map(with_qe.set_index(\"qid\")[\"value\"])\n",
    "\n",
    "eval.head()"
   ]
  },
  {
   "cell_type": "code",
   "execution_count": 101,
   "metadata": {},
   "outputs": [
    {
     "data": {
      "text/html": [
       "<div>\n",
       "<style scoped>\n",
       "    .dataframe tbody tr th:only-of-type {\n",
       "        vertical-align: middle;\n",
       "    }\n",
       "\n",
       "    .dataframe tbody tr th {\n",
       "        vertical-align: top;\n",
       "    }\n",
       "\n",
       "    .dataframe thead th {\n",
       "        text-align: right;\n",
       "    }\n",
       "</style>\n",
       "<table border=\"1\" class=\"dataframe\">\n",
       "  <thead>\n",
       "    <tr style=\"text-align: right;\">\n",
       "      <th></th>\n",
       "      <th>qid</th>\n",
       "      <th>text</th>\n",
       "      <th>title</th>\n",
       "      <th>query</th>\n",
       "      <th>description</th>\n",
       "      <th>narrative</th>\n",
       "      <th>word_count_old</th>\n",
       "      <th>length</th>\n",
       "      <th>word_count</th>\n",
       "      <th>is_long</th>\n",
       "      <th>ndcg_without_qe</th>\n",
       "      <th>ndcg_with_qe</th>\n",
       "      <th>diff_improvement</th>\n",
       "      <th>prop_improvement</th>\n",
       "    </tr>\n",
       "  </thead>\n",
       "  <tbody>\n",
       "    <tr>\n",
       "      <th>0</th>\n",
       "      <td>q072224</td>\n",
       "      <td>purchase money</td>\n",
       "      <td>purchase money</td>\n",
       "      <td>purchase money</td>\n",
       "      <td>None</td>\n",
       "      <td>None</td>\n",
       "      <td>2</td>\n",
       "      <td>14</td>\n",
       "      <td>2</td>\n",
       "      <td>False</td>\n",
       "      <td>0.000000</td>\n",
       "      <td>0.0</td>\n",
       "      <td>0.000000</td>\n",
       "      <td>0.0</td>\n",
       "    </tr>\n",
       "    <tr>\n",
       "      <th>1</th>\n",
       "      <td>q072226</td>\n",
       "      <td>purchase used car</td>\n",
       "      <td>purchase used car</td>\n",
       "      <td>purchase used car</td>\n",
       "      <td>None</td>\n",
       "      <td>None</td>\n",
       "      <td>3</td>\n",
       "      <td>17</td>\n",
       "      <td>3</td>\n",
       "      <td>True</td>\n",
       "      <td>0.000000</td>\n",
       "      <td>0.0</td>\n",
       "      <td>0.000000</td>\n",
       "      <td>0.0</td>\n",
       "    </tr>\n",
       "    <tr>\n",
       "      <th>2</th>\n",
       "      <td>q072232</td>\n",
       "      <td>buy gold silver</td>\n",
       "      <td>buy gold silver</td>\n",
       "      <td>buy gold silver</td>\n",
       "      <td>None</td>\n",
       "      <td>None</td>\n",
       "      <td>3</td>\n",
       "      <td>15</td>\n",
       "      <td>3</td>\n",
       "      <td>True</td>\n",
       "      <td>0.000000</td>\n",
       "      <td>0.0</td>\n",
       "      <td>0.000000</td>\n",
       "      <td>0.0</td>\n",
       "    </tr>\n",
       "    <tr>\n",
       "      <th>3</th>\n",
       "      <td>q072240</td>\n",
       "      <td>adenovirus</td>\n",
       "      <td>adenovirus</td>\n",
       "      <td>adenovirus</td>\n",
       "      <td>None</td>\n",
       "      <td>None</td>\n",
       "      <td>1</td>\n",
       "      <td>10</td>\n",
       "      <td>1</td>\n",
       "      <td>False</td>\n",
       "      <td>0.351239</td>\n",
       "      <td>0.0</td>\n",
       "      <td>-0.351239</td>\n",
       "      <td>-1.0</td>\n",
       "    </tr>\n",
       "    <tr>\n",
       "      <th>4</th>\n",
       "      <td>q072242</td>\n",
       "      <td>Water softener</td>\n",
       "      <td>Water softener</td>\n",
       "      <td>water softener</td>\n",
       "      <td>None</td>\n",
       "      <td>None</td>\n",
       "      <td>2</td>\n",
       "      <td>14</td>\n",
       "      <td>2</td>\n",
       "      <td>False</td>\n",
       "      <td>0.264068</td>\n",
       "      <td>0.0</td>\n",
       "      <td>-0.264068</td>\n",
       "      <td>-1.0</td>\n",
       "    </tr>\n",
       "  </tbody>\n",
       "</table>\n",
       "</div>"
      ],
      "text/plain": [
       "       qid               text              title              query  \\\n",
       "0  q072224     purchase money     purchase money     purchase money   \n",
       "1  q072226  purchase used car  purchase used car  purchase used car   \n",
       "2  q072232    buy gold silver    buy gold silver    buy gold silver   \n",
       "3  q072240         adenovirus         adenovirus         adenovirus   \n",
       "4  q072242     Water softener     Water softener     water softener   \n",
       "\n",
       "  description narrative  word_count_old  length  word_count  is_long  \\\n",
       "0        None      None               2      14           2    False   \n",
       "1        None      None               3      17           3     True   \n",
       "2        None      None               3      15           3     True   \n",
       "3        None      None               1      10           1    False   \n",
       "4        None      None               2      14           2    False   \n",
       "\n",
       "   ndcg_without_qe  ndcg_with_qe  diff_improvement  prop_improvement  \n",
       "0         0.000000           0.0          0.000000               0.0  \n",
       "1         0.000000           0.0          0.000000               0.0  \n",
       "2         0.000000           0.0          0.000000               0.0  \n",
       "3         0.351239           0.0         -0.351239              -1.0  \n",
       "4         0.264068           0.0         -0.264068              -1.0  "
      ]
     },
     "execution_count": 101,
     "metadata": {},
     "output_type": "execute_result"
    }
   ],
   "source": [
    "# calculate the improvement (TODO check if other metrics for improvement are better)\n",
    "eval[\"diff_improvement\"] = eval[\"ndcg_with_qe\"] - eval[\"ndcg_without_qe\"]\n",
    "eval[\"prop_improvement\"] = (eval[\"diff_improvement\"] / eval[\"ndcg_without_qe\"]).where(abs(eval[\"diff_improvement\"]) >= 1e-9, 0.0)\n",
    "# using 0.0 instead of NaN if there is no improvement\n",
    "eval.head()"
   ]
  },
  {
   "cell_type": "code",
   "execution_count": 102,
   "metadata": {},
   "outputs": [
    {
     "data": {
      "text/plain": [
       "array([[<Axes: title={'center': 'prop_improvement'}>]], dtype=object)"
      ]
     },
     "execution_count": 102,
     "metadata": {},
     "output_type": "execute_result"
    },
    {
     "data": {
      "image/png": "[encoded data removed]",
      "text/plain": [
       "<Figure size 640x480 with 1 Axes>"
      ]
     },
     "metadata": {},
     "output_type": "display_data"
    },
    {
     "data": {
      "image/png": "[encoded data removed]",
      "text/plain": [
       "<Figure size 640x480 with 1 Axes>"
      ]
     },
     "metadata": {},
     "output_type": "display_data"
    }
   ],
   "source": [
    "eval.hist(column=\"diff_improvement\", bins=20, log=[True, False])\n",
    "eval[eval[\"prop_improvement\"] != float('inf')].hist(column=\"prop_improvement\", bins=20, log=[True, False])"
   ]
  },
  {
   "cell_type": "code",
   "execution_count": 103,
   "metadata": {},
   "outputs": [
    {
     "data": {
      "text/html": [
       "<div>\n",
       "<style scoped>\n",
       "    .dataframe tbody tr th:only-of-type {\n",
       "        vertical-align: middle;\n",
       "    }\n",
       "\n",
       "    .dataframe tbody tr th {\n",
       "        vertical-align: top;\n",
       "    }\n",
       "\n",
       "    .dataframe thead th {\n",
       "        text-align: right;\n",
       "    }\n",
       "</style>\n",
       "<table border=\"1\" class=\"dataframe\">\n",
       "  <thead>\n",
       "    <tr style=\"text-align: right;\">\n",
       "      <th></th>\n",
       "      <th>diff_improvement</th>\n",
       "    </tr>\n",
       "    <tr>\n",
       "      <th>is_long</th>\n",
       "      <th></th>\n",
       "    </tr>\n",
       "  </thead>\n",
       "  <tbody>\n",
       "    <tr>\n",
       "      <th>False</th>\n",
       "      <td>-0.008116</td>\n",
       "    </tr>\n",
       "    <tr>\n",
       "      <th>True</th>\n",
       "      <td>0.009904</td>\n",
       "    </tr>\n",
       "  </tbody>\n",
       "</table>\n",
       "</div>"
      ],
      "text/plain": [
       "         diff_improvement\n",
       "is_long                  \n",
       "False           -0.008116\n",
       "True             0.009904"
      ]
     },
     "execution_count": 103,
     "metadata": {},
     "output_type": "execute_result"
    }
   ],
   "source": [
    "# average diff_improvement\n",
    "eval[[\"is_long\", \"diff_improvement\"]].groupby(\"is_long\").mean()"
   ]
  },
  {
   "cell_type": "code",
   "execution_count": 104,
   "metadata": {},
   "outputs": [
    {
     "data": {
      "text/html": [
       "<div>\n",
       "<style scoped>\n",
       "    .dataframe tbody tr th:only-of-type {\n",
       "        vertical-align: middle;\n",
       "    }\n",
       "\n",
       "    .dataframe tbody tr th {\n",
       "        vertical-align: top;\n",
       "    }\n",
       "\n",
       "    .dataframe thead th {\n",
       "        text-align: right;\n",
       "    }\n",
       "</style>\n",
       "<table border=\"1\" class=\"dataframe\">\n",
       "  <thead>\n",
       "    <tr style=\"text-align: right;\">\n",
       "      <th></th>\n",
       "      <th>diff_improvement</th>\n",
       "    </tr>\n",
       "    <tr>\n",
       "      <th>is_long</th>\n",
       "      <th></th>\n",
       "    </tr>\n",
       "  </thead>\n",
       "  <tbody>\n",
       "    <tr>\n",
       "      <th>False</th>\n",
       "      <td>-3.72516</td>\n",
       "    </tr>\n",
       "    <tr>\n",
       "      <th>True</th>\n",
       "      <td>4.18945</td>\n",
       "    </tr>\n",
       "  </tbody>\n",
       "</table>\n",
       "</div>"
      ],
      "text/plain": [
       "         diff_improvement\n",
       "is_long                  \n",
       "False            -3.72516\n",
       "True              4.18945"
      ]
     },
     "execution_count": 104,
     "metadata": {},
     "output_type": "execute_result"
    }
   ],
   "source": [
    "# total diff_improvement\n",
    "eval[[\"is_long\", \"diff_improvement\"]].groupby(\"is_long\").sum()"
   ]
  },
  {
   "cell_type": "code",
   "execution_count": null,
   "metadata": {},
   "outputs": [],
   "source": []
  }
 ],
 "metadata": {
  "kernelspec": {
   "display_name": "IR",
   "language": "python",
   "name": "python3"
  },
  "language_info": {
   "codemirror_mode": {
    "name": "ipython",
    "version": 3
   },
   "file_extension": ".py",
   "mimetype": "text/x-python",
   "name": "python",
   "nbconvert_exporter": "python",
   "pygments_lexer": "ipython3",
   "version": "3.11.5"
  }
 },
 "nbformat": 4,
 "nbformat_minor": 2
}
