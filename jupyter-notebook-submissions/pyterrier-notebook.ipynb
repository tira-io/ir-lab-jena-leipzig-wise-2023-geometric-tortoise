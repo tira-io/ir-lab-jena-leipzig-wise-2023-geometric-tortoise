{
 "cells": [
  {
   "cell_type": "markdown",
   "metadata": {},
   "source": [
    "# PyTerrier Notebook for Full-Rank Submissions\n",
    "\n",
    "This notebook serves as a baseline full-rank submission for [TIRA](https://tira.io)/[TIREx](https://tira.io/tirex) that builds a PyTerrier index and subsequently creates a run with BM25."
   ]
  },
  {
   "cell_type": "markdown",
   "metadata": {},
   "source": [
    "### Step 1: Ensure Libraries are Imported"
   ]
  },
  {
   "cell_type": "code",
   "execution_count": 1,
   "metadata": {},
   "outputs": [
    {
     "name": "stdout",
     "output_type": "stream",
     "text": [
      "Requirement already satisfied: python-terrier in /Users/dominicwild/anaconda3/envs/IR/lib/python3.11/site-packages (0.10.0)\n",
      "Requirement already satisfied: tira==0.0.88 in /Users/dominicwild/anaconda3/envs/IR/lib/python3.11/site-packages (0.0.88)\n",
      "Requirement already satisfied: ir_datasets in /Users/dominicwild/anaconda3/envs/IR/lib/python3.11/site-packages (0.5.5)\n",
      "Requirement already satisfied: requests==2.*,>=2.26 in /Users/dominicwild/anaconda3/envs/IR/lib/python3.11/site-packages (from tira==0.0.88) (2.31.0)\n",
      "Requirement already satisfied: docker==6.*,>=6.0.0 in /Users/dominicwild/anaconda3/envs/IR/lib/python3.11/site-packages (from tira==0.0.88) (6.1.3)\n",
      "Requirement already satisfied: pandas in /Users/dominicwild/anaconda3/envs/IR/lib/python3.11/site-packages (from tira==0.0.88) (2.1.3)\n",
      "Requirement already satisfied: packaging>=14.0 in /Users/dominicwild/anaconda3/envs/IR/lib/python3.11/site-packages (from docker==6.*,>=6.0.0->tira==0.0.88) (23.2)\n",
      "Requirement already satisfied: urllib3>=1.26.0 in /Users/dominicwild/anaconda3/envs/IR/lib/python3.11/site-packages (from docker==6.*,>=6.0.0->tira==0.0.88) (2.1.0)\n",
      "Requirement already satisfied: websocket-client>=0.32.0 in /Users/dominicwild/anaconda3/envs/IR/lib/python3.11/site-packages (from docker==6.*,>=6.0.0->tira==0.0.88) (1.6.4)\n",
      "Requirement already satisfied: charset-normalizer<4,>=2 in /Users/dominicwild/anaconda3/envs/IR/lib/python3.11/site-packages (from requests==2.*,>=2.26->tira==0.0.88) (3.3.2)\n",
      "Requirement already satisfied: idna<4,>=2.5 in /Users/dominicwild/anaconda3/envs/IR/lib/python3.11/site-packages (from requests==2.*,>=2.26->tira==0.0.88) (3.4)\n",
      "Requirement already satisfied: certifi>=2017.4.17 in /Users/dominicwild/anaconda3/envs/IR/lib/python3.11/site-packages (from requests==2.*,>=2.26->tira==0.0.88) (2023.11.17)\n",
      "Requirement already satisfied: numpy in /Users/dominicwild/anaconda3/envs/IR/lib/python3.11/site-packages (from python-terrier) (1.26.2)\n",
      "Requirement already satisfied: wget in /Users/dominicwild/anaconda3/envs/IR/lib/python3.11/site-packages (from python-terrier) (3.2)\n",
      "Requirement already satisfied: tqdm in /Users/dominicwild/anaconda3/envs/IR/lib/python3.11/site-packages (from python-terrier) (4.66.1)\n",
      "Requirement already satisfied: pyjnius>=1.4.2 in /Users/dominicwild/anaconda3/envs/IR/lib/python3.11/site-packages (from python-terrier) (1.6.1)\n",
      "Requirement already satisfied: matchpy in /Users/dominicwild/anaconda3/envs/IR/lib/python3.11/site-packages (from python-terrier) (0.5.5)\n",
      "Requirement already satisfied: scikit-learn in /Users/dominicwild/anaconda3/envs/IR/lib/python3.11/site-packages (from python-terrier) (1.3.2)\n",
      "Requirement already satisfied: deprecated in /Users/dominicwild/anaconda3/envs/IR/lib/python3.11/site-packages (from python-terrier) (1.2.14)\n",
      "Requirement already satisfied: chest in /Users/dominicwild/anaconda3/envs/IR/lib/python3.11/site-packages (from python-terrier) (0.2.3)\n",
      "Requirement already satisfied: scipy in /Users/dominicwild/anaconda3/envs/IR/lib/python3.11/site-packages (from python-terrier) (1.11.4)\n",
      "Requirement already satisfied: joblib in /Users/dominicwild/anaconda3/envs/IR/lib/python3.11/site-packages (from python-terrier) (1.3.2)\n",
      "Requirement already satisfied: nptyping==1.4.4 in /Users/dominicwild/anaconda3/envs/IR/lib/python3.11/site-packages (from python-terrier) (1.4.4)\n",
      "Requirement already satisfied: more-itertools in /Users/dominicwild/anaconda3/envs/IR/lib/python3.11/site-packages (from python-terrier) (10.1.0)\n",
      "Requirement already satisfied: jinja2 in /Users/dominicwild/anaconda3/envs/IR/lib/python3.11/site-packages (from python-terrier) (3.1.2)\n",
      "Requirement already satisfied: statsmodels in /Users/dominicwild/anaconda3/envs/IR/lib/python3.11/site-packages (from python-terrier) (0.14.0)\n",
      "Requirement already satisfied: ir-measures>=0.3.1 in /Users/dominicwild/anaconda3/envs/IR/lib/python3.11/site-packages (from python-terrier) (0.3.3)\n",
      "Requirement already satisfied: dill in /Users/dominicwild/anaconda3/envs/IR/lib/python3.11/site-packages (from python-terrier) (0.3.7)\n",
      "Requirement already satisfied: pytrec-eval-terrier>=0.5.3 in /Users/dominicwild/anaconda3/envs/IR/lib/python3.11/site-packages (from python-terrier) (0.5.6)\n",
      "Requirement already satisfied: typish>=1.7.0 in /Users/dominicwild/anaconda3/envs/IR/lib/python3.11/site-packages (from nptyping==1.4.4->python-terrier) (1.9.3)\n",
      "Requirement already satisfied: beautifulsoup4>=4.4.1 in /Users/dominicwild/anaconda3/envs/IR/lib/python3.11/site-packages (from ir_datasets) (4.12.2)\n",
      "Requirement already satisfied: inscriptis>=2.2.0 in /Users/dominicwild/anaconda3/envs/IR/lib/python3.11/site-packages (from ir_datasets) (2.3.2)\n",
      "Requirement already satisfied: lxml>=4.5.2 in /Users/dominicwild/anaconda3/envs/IR/lib/python3.11/site-packages (from ir_datasets) (4.9.3)\n",
      "Requirement already satisfied: pyyaml>=5.3.1 in /Users/dominicwild/anaconda3/envs/IR/lib/python3.11/site-packages (from ir_datasets) (6.0.1)\n",
      "Requirement already satisfied: trec-car-tools>=2.5.4 in /Users/dominicwild/anaconda3/envs/IR/lib/python3.11/site-packages (from ir_datasets) (2.6)\n",
      "Requirement already satisfied: lz4>=3.1.10 in /Users/dominicwild/anaconda3/envs/IR/lib/python3.11/site-packages (from ir_datasets) (4.3.2)\n",
      "Requirement already satisfied: warc3-wet>=0.2.3 in /Users/dominicwild/anaconda3/envs/IR/lib/python3.11/site-packages (from ir_datasets) (0.2.3)\n",
      "Requirement already satisfied: warc3-wet-clueweb09>=0.2.5 in /Users/dominicwild/anaconda3/envs/IR/lib/python3.11/site-packages (from ir_datasets) (0.2.5)\n",
      "Requirement already satisfied: zlib-state>=0.1.3 in /Users/dominicwild/anaconda3/envs/IR/lib/python3.11/site-packages (from ir_datasets) (0.1.6)\n",
      "Requirement already satisfied: ijson>=3.1.3 in /Users/dominicwild/anaconda3/envs/IR/lib/python3.11/site-packages (from ir_datasets) (3.2.3)\n",
      "Requirement already satisfied: pyautocorpus>=0.1.1 in /Users/dominicwild/anaconda3/envs/IR/lib/python3.11/site-packages (from ir_datasets) (0.1.12)\n",
      "Requirement already satisfied: unlzw3>=0.2.1 in /Users/dominicwild/anaconda3/envs/IR/lib/python3.11/site-packages (from ir_datasets) (0.2.2)\n",
      "Requirement already satisfied: soupsieve>1.2 in /Users/dominicwild/anaconda3/envs/IR/lib/python3.11/site-packages (from beautifulsoup4>=4.4.1->ir_datasets) (2.5)\n",
      "Requirement already satisfied: cwl-eval>=1.0.10 in /Users/dominicwild/anaconda3/envs/IR/lib/python3.11/site-packages (from ir-measures>=0.3.1->python-terrier) (1.0.12)\n",
      "Requirement already satisfied: cbor>=1.0.0 in /Users/dominicwild/anaconda3/envs/IR/lib/python3.11/site-packages (from trec-car-tools>=2.5.4->ir_datasets) (1.0.0)\n",
      "Requirement already satisfied: heapdict in /Users/dominicwild/anaconda3/envs/IR/lib/python3.11/site-packages (from chest->python-terrier) (1.0.1)\n",
      "Requirement already satisfied: wrapt<2,>=1.10 in /Users/dominicwild/anaconda3/envs/IR/lib/python3.11/site-packages (from deprecated->python-terrier) (1.16.0)\n",
      "Requirement already satisfied: MarkupSafe>=2.0 in /Users/dominicwild/anaconda3/envs/IR/lib/python3.11/site-packages (from jinja2->python-terrier) (2.1.3)\n",
      "Requirement already satisfied: multiset<3.0,>=2.0 in /Users/dominicwild/anaconda3/envs/IR/lib/python3.11/site-packages (from matchpy->python-terrier) (2.1.1)\n",
      "Requirement already satisfied: python-dateutil>=2.8.2 in /Users/dominicwild/anaconda3/envs/IR/lib/python3.11/site-packages (from pandas->tira==0.0.88) (2.8.2)\n",
      "Requirement already satisfied: pytz>=2020.1 in /Users/dominicwild/anaconda3/envs/IR/lib/python3.11/site-packages (from pandas->tira==0.0.88) (2023.3.post1)\n",
      "Requirement already satisfied: tzdata>=2022.1 in /Users/dominicwild/anaconda3/envs/IR/lib/python3.11/site-packages (from pandas->tira==0.0.88) (2023.3)\n",
      "Requirement already satisfied: threadpoolctl>=2.0.0 in /Users/dominicwild/anaconda3/envs/IR/lib/python3.11/site-packages (from scikit-learn->python-terrier) (3.2.0)\n",
      "Requirement already satisfied: patsy>=0.5.2 in /Users/dominicwild/anaconda3/envs/IR/lib/python3.11/site-packages (from statsmodels->python-terrier) (0.5.3)\n",
      "Requirement already satisfied: six in /Users/dominicwild/anaconda3/envs/IR/lib/python3.11/site-packages (from patsy>=0.5.2->statsmodels->python-terrier) (1.16.0)\n"
     ]
    }
   ],
   "source": [
    "import os\n",
    "\n",
    "# Detect if we are in the TIRA sandbox\n",
    "# Install the required dependencies if we are not in the sandbox.\n",
    "if 'TIRA_DATASET_ID' not in os.environ:\n",
    "    !pip3 install python-terrier tira==0.0.88 ir_datasets\n",
    "else:\n",
    "    print('We are in the TIRA sandbox.')"
   ]
  },
  {
   "cell_type": "code",
   "execution_count": 2,
   "metadata": {},
   "outputs": [
    {
     "name": "stderr",
     "output_type": "stream",
     "text": [
      "/Users/dominicwild/anaconda3/envs/IR/lib/python3.11/site-packages/tqdm/auto.py:21: TqdmWarning: IProgress not found. Please update jupyter and ipywidgets. See https://ipywidgets.readthedocs.io/en/stable/user_install.html\n",
      "  from .autonotebook import tqdm as notebook_tqdm\n",
      "PyTerrier 0.10.0 has loaded Terrier 5.7 (built by craigm on 2022-11-10 18:30) and terrier-helper 0.0.7\n",
      "\n"
     ]
    },
    {
     "name": "stdout",
     "output_type": "stream",
     "text": [
      "Due to execution in TIRA, I have patched ir_datasets to always return the single input dataset mounted to the sandbox.\n",
      "Start PyTerrier with version=5.7, helper_version=0.0.7, no_download=True\n"
     ]
    },
    {
     "name": "stderr",
     "output_type": "stream",
     "text": [
      "No etc/terrier.properties, using terrier.default.properties for bootstrap configuration.\n"
     ]
    }
   ],
   "source": [
    "from tira.third_party_integrations import ensure_pyterrier_is_loaded, persist_and_normalize_run\n",
    "\n",
    "# this loads and starts pyterrier so that it also works in the TIRA\n",
    "ensure_pyterrier_is_loaded()\n",
    "\n",
    "# PyTerrier must be imported after the call to ensure_pyterrier_is_loaded in TIRA.\n",
    "import pyterrier as pt\n"
   ]
  },
  {
   "cell_type": "markdown",
   "metadata": {},
   "source": [
    "### Step 2: Load the data"
   ]
  },
  {
   "cell_type": "code",
   "execution_count": 3,
   "metadata": {},
   "outputs": [
    {
     "name": "stdout",
     "output_type": "stream",
     "text": [
      "Load ir_dataset \"ir-lab-jena-leipzig-wise-2023/validation-20231104-training\" from tira.\n"
     ]
    }
   ],
   "source": [
    "data = pt.get_dataset('irds:ir-lab-jena-leipzig-wise-2023/validation-20231104-training')"
   ]
  },
  {
   "cell_type": "code",
   "execution_count": 4,
   "metadata": {},
   "outputs": [
    {
     "name": "stdout",
     "output_type": "stream",
     "text": [
      "See the first two queries:\n",
      "No settings given in /Users/dominicwild/.tira/.tira-settings.json. I will use defaults.\n",
      "No settings given in /Users/dominicwild/.tira/.tira-settings.json. I will use defaults.\n",
      "       qid              query\n",
      "0  q072224     purchase money\n",
      "1  q072226  purchase used car\n"
     ]
    }
   ],
   "source": [
    "print('See the first two queries:')\n",
    "topics = data.get_topics('title')\n",
    "print(topics.head(2))"
   ]
  },
  {
   "cell_type": "markdown",
   "metadata": {},
   "source": [
    "### Step 3: Build the Index"
   ]
  },
  {
   "cell_type": "code",
   "execution_count": 5,
   "metadata": {},
   "outputs": [
    {
     "name": "stdout",
     "output_type": "stream",
     "text": [
      "Build index:\n",
      "No settings given in /Users/dominicwild/.tira/.tira-settings.json. I will use defaults.\n",
      "No settings given in /Users/dominicwild/.tira/.tira-settings.json. I will use defaults.\n"
     ]
    },
    {
     "name": "stderr",
     "output_type": "stream",
     "text": [
      "ir-lab-jena-leipzig-wise-2023/validation-20231104-training documents:   0%|          | 0/61307 [00:00<?, ?it/s]"
     ]
    },
    {
     "name": "stdout",
     "output_type": "stream",
     "text": [
      "No settings given in /Users/dominicwild/.tira/.tira-settings.json. I will use defaults.\n",
      "No settings given in /Users/dominicwild/.tira/.tira-settings.json. I will use defaults.\n"
     ]
    },
    {
     "name": "stderr",
     "output_type": "stream",
     "text": [
      "ir-lab-jena-leipzig-wise-2023/validation-20231104-training documents: 100%|██████████| 61307/61307 [00:25<00:00, 2419.25it/s]\n"
     ]
    },
    {
     "name": "stdout",
     "output_type": "stream",
     "text": [
      "Done. Index is created\n"
     ]
    }
   ],
   "source": [
    "print('Build index:')\n",
    "iter_indexer = pt.IterDictIndexer(\"/tmp/index\", meta={'docno': 100}, verbose=True)\n",
    "!rm -Rf /tmp/index\n",
    "indexref = iter_indexer.index(data.get_corpus_iter())\n",
    "\n",
    "print('Done. Index is created')"
   ]
  },
  {
   "cell_type": "markdown",
   "metadata": {},
   "source": [
    "### Step 4: Create the Retrieval Pipeline"
   ]
  },
  {
   "cell_type": "code",
   "execution_count": 6,
   "metadata": {},
   "outputs": [],
   "source": [
    "import numpy as np\n",
    "\n",
    "tf_idf = pt.BatchRetrieve(indexref, wmodel=\"TF_IDF\", controls={\"tf_idf.b\" : 1})\n",
    "klq = pt.rewrite.KLQueryExpansion(indexref, verbose=True)\n",
    "tfidf_klq_tuned = tf_idf >> klq >> tf_idf"
   ]
  },
  {
   "cell_type": "markdown",
   "metadata": {},
   "source": [
    "### Step 5: Create the Run and Persist the Run"
   ]
  },
  {
   "cell_type": "code",
   "execution_count": 7,
   "metadata": {},
   "outputs": [
    {
     "name": "stdout",
     "output_type": "stream",
     "text": [
      "Create run\n"
     ]
    },
    {
     "name": "stderr",
     "output_type": "stream",
     "text": [
      "Transformer: 100%|██████████| 878/878 [00:18<00:00, 47.36q/s]\n"
     ]
    },
    {
     "name": "stdout",
     "output_type": "stream",
     "text": [
      "Done, run was created\n"
     ]
    }
   ],
   "source": [
    "print('Create run')\n",
    "run = tfidf_klq_tuned(topics)\n",
    "print('Done, run was created')"
   ]
  },
  {
   "cell_type": "code",
   "execution_count": 8,
   "metadata": {},
   "outputs": [
    {
     "name": "stdout",
     "output_type": "stream",
     "text": [
      "I use the environment variable \"TIRA_OUTPUT_DIR\" to determine where I should store the run file using \".\" as default.\n",
      "Done. run file is stored under \"./run.txt\".\n"
     ]
    }
   ],
   "source": [
    "persist_and_normalize_run(run, 'tfidf_klq_tuned')"
   ]
  }
 ],
 "metadata": {
  "kernelspec": {
   "display_name": "base",
   "language": "python",
   "name": "python3"
  },
  "language_info": {
   "codemirror_mode": {
    "name": "ipython",
    "version": 3
   },
   "file_extension": ".py",
   "mimetype": "text/x-python",
   "name": "python",
   "nbconvert_exporter": "python",
   "pygments_lexer": "ipython3",
   "version": "3.11.5"
  },
  "orig_nbformat": 4
 },
 "nbformat": 4,
 "nbformat_minor": 2
}
