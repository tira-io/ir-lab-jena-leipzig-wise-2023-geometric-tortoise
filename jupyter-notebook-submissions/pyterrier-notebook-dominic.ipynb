{
 "cells": [
  {
   "cell_type": "markdown",
   "metadata": {},
   "source": [
    "# PyTerrier Notebook for Full-Rank Submissions\n",
    "\n",
    "This notebook serves as a baseline full-rank submission for [TIRA](https://tira.io)/[TIREx](https://tira.io/tirex) that builds a PyTerrier index and subsequently creates a run with BM25."
   ]
  },
  {
   "cell_type": "markdown",
   "metadata": {},
   "source": [
    "### Step 1: Ensure Libraries are Imported"
   ]
  },
  {
   "cell_type": "code",
   "execution_count": 1,
   "metadata": {},
   "outputs": [
    {
     "name": "stdout",
     "output_type": "stream",
     "text": [
      "Requirement already satisfied: python-terrier in /Users/dominicwild/anaconda3/envs/IR/lib/python3.11/site-packages (0.10.0)\n",
      "Requirement already satisfied: tira==0.0.88 in /Users/dominicwild/anaconda3/envs/IR/lib/python3.11/site-packages (0.0.88)\n",
      "Requirement already satisfied: ir_datasets in /Users/dominicwild/anaconda3/envs/IR/lib/python3.11/site-packages (0.5.5)\n",
      "Requirement already satisfied: requests==2.*,>=2.26 in /Users/dominicwild/anaconda3/envs/IR/lib/python3.11/site-packages (from tira==0.0.88) (2.31.0)\n",
      "Requirement already satisfied: docker==6.*,>=6.0.0 in /Users/dominicwild/anaconda3/envs/IR/lib/python3.11/site-packages (from tira==0.0.88) (6.1.3)\n",
      "Requirement already satisfied: pandas in /Users/dominicwild/anaconda3/envs/IR/lib/python3.11/site-packages (from tira==0.0.88) (2.1.3)\n",
      "Requirement already satisfied: packaging>=14.0 in /Users/dominicwild/anaconda3/envs/IR/lib/python3.11/site-packages (from docker==6.*,>=6.0.0->tira==0.0.88) (23.2)\n",
      "Requirement already satisfied: urllib3>=1.26.0 in /Users/dominicwild/anaconda3/envs/IR/lib/python3.11/site-packages (from docker==6.*,>=6.0.0->tira==0.0.88) (2.1.0)\n",
      "Requirement already satisfied: websocket-client>=0.32.0 in /Users/dominicwild/anaconda3/envs/IR/lib/python3.11/site-packages (from docker==6.*,>=6.0.0->tira==0.0.88) (1.6.4)\n",
      "Requirement already satisfied: charset-normalizer<4,>=2 in /Users/dominicwild/anaconda3/envs/IR/lib/python3.11/site-packages (from requests==2.*,>=2.26->tira==0.0.88) (3.3.2)\n",
      "Requirement already satisfied: idna<4,>=2.5 in /Users/dominicwild/anaconda3/envs/IR/lib/python3.11/site-packages (from requests==2.*,>=2.26->tira==0.0.88) (3.4)\n",
      "Requirement already satisfied: certifi>=2017.4.17 in /Users/dominicwild/anaconda3/envs/IR/lib/python3.11/site-packages (from requests==2.*,>=2.26->tira==0.0.88) (2023.11.17)\n",
      "Requirement already satisfied: numpy in /Users/dominicwild/anaconda3/envs/IR/lib/python3.11/site-packages (from python-terrier) (1.26.2)\n",
      "Requirement already satisfied: wget in /Users/dominicwild/anaconda3/envs/IR/lib/python3.11/site-packages (from python-terrier) (3.2)\n",
      "Requirement already satisfied: tqdm in /Users/dominicwild/anaconda3/envs/IR/lib/python3.11/site-packages (from python-terrier) (4.66.1)\n",
      "Requirement already satisfied: pyjnius>=1.4.2 in /Users/dominicwild/anaconda3/envs/IR/lib/python3.11/site-packages (from python-terrier) (1.6.1)\n",
      "Requirement already satisfied: matchpy in /Users/dominicwild/anaconda3/envs/IR/lib/python3.11/site-packages (from python-terrier) (0.5.5)\n",
      "Requirement already satisfied: scikit-learn in /Users/dominicwild/anaconda3/envs/IR/lib/python3.11/site-packages (from python-terrier) (1.3.2)\n",
      "Requirement already satisfied: deprecated in /Users/dominicwild/anaconda3/envs/IR/lib/python3.11/site-packages (from python-terrier) (1.2.14)\n",
      "Requirement already satisfied: chest in /Users/dominicwild/anaconda3/envs/IR/lib/python3.11/site-packages (from python-terrier) (0.2.3)\n",
      "Requirement already satisfied: scipy in /Users/dominicwild/anaconda3/envs/IR/lib/python3.11/site-packages (from python-terrier) (1.11.4)\n",
      "Requirement already satisfied: joblib in /Users/dominicwild/anaconda3/envs/IR/lib/python3.11/site-packages (from python-terrier) (1.3.2)\n",
      "Requirement already satisfied: nptyping==1.4.4 in /Users/dominicwild/anaconda3/envs/IR/lib/python3.11/site-packages (from python-terrier) (1.4.4)\n",
      "Requirement already satisfied: more-itertools in /Users/dominicwild/anaconda3/envs/IR/lib/python3.11/site-packages (from python-terrier) (10.1.0)\n",
      "Requirement already satisfied: jinja2 in /Users/dominicwild/anaconda3/envs/IR/lib/python3.11/site-packages (from python-terrier) (3.1.2)\n",
      "Requirement already satisfied: statsmodels in /Users/dominicwild/anaconda3/envs/IR/lib/python3.11/site-packages (from python-terrier) (0.14.0)\n",
      "Requirement already satisfied: ir-measures>=0.3.1 in /Users/dominicwild/anaconda3/envs/IR/lib/python3.11/site-packages (from python-terrier) (0.3.3)\n",
      "Requirement already satisfied: dill in /Users/dominicwild/anaconda3/envs/IR/lib/python3.11/site-packages (from python-terrier) (0.3.7)\n",
      "Requirement already satisfied: pytrec-eval-terrier>=0.5.3 in /Users/dominicwild/anaconda3/envs/IR/lib/python3.11/site-packages (from python-terrier) (0.5.6)\n",
      "Requirement already satisfied: typish>=1.7.0 in /Users/dominicwild/anaconda3/envs/IR/lib/python3.11/site-packages (from nptyping==1.4.4->python-terrier) (1.9.3)\n",
      "Requirement already satisfied: beautifulsoup4>=4.4.1 in /Users/dominicwild/anaconda3/envs/IR/lib/python3.11/site-packages (from ir_datasets) (4.12.2)\n",
      "Requirement already satisfied: inscriptis>=2.2.0 in /Users/dominicwild/anaconda3/envs/IR/lib/python3.11/site-packages (from ir_datasets) (2.3.2)\n",
      "Requirement already satisfied: lxml>=4.5.2 in /Users/dominicwild/anaconda3/envs/IR/lib/python3.11/site-packages (from ir_datasets) (4.9.3)\n",
      "Requirement already satisfied: pyyaml>=5.3.1 in /Users/dominicwild/anaconda3/envs/IR/lib/python3.11/site-packages (from ir_datasets) (6.0.1)\n",
      "Requirement already satisfied: trec-car-tools>=2.5.4 in /Users/dominicwild/anaconda3/envs/IR/lib/python3.11/site-packages (from ir_datasets) (2.6)\n",
      "Requirement already satisfied: lz4>=3.1.10 in /Users/dominicwild/anaconda3/envs/IR/lib/python3.11/site-packages (from ir_datasets) (4.3.2)\n",
      "Requirement already satisfied: warc3-wet>=0.2.3 in /Users/dominicwild/anaconda3/envs/IR/lib/python3.11/site-packages (from ir_datasets) (0.2.3)\n",
      "Requirement already satisfied: warc3-wet-clueweb09>=0.2.5 in /Users/dominicwild/anaconda3/envs/IR/lib/python3.11/site-packages (from ir_datasets) (0.2.5)\n",
      "Requirement already satisfied: zlib-state>=0.1.3 in /Users/dominicwild/anaconda3/envs/IR/lib/python3.11/site-packages (from ir_datasets) (0.1.6)\n",
      "Requirement already satisfied: ijson>=3.1.3 in /Users/dominicwild/anaconda3/envs/IR/lib/python3.11/site-packages (from ir_datasets) (3.2.3)\n",
      "Requirement already satisfied: pyautocorpus>=0.1.1 in /Users/dominicwild/anaconda3/envs/IR/lib/python3.11/site-packages (from ir_datasets) (0.1.12)\n",
      "Requirement already satisfied: unlzw3>=0.2.1 in /Users/dominicwild/anaconda3/envs/IR/lib/python3.11/site-packages (from ir_datasets) (0.2.2)\n",
      "Requirement already satisfied: soupsieve>1.2 in /Users/dominicwild/anaconda3/envs/IR/lib/python3.11/site-packages (from beautifulsoup4>=4.4.1->ir_datasets) (2.5)\n",
      "Requirement already satisfied: cwl-eval>=1.0.10 in /Users/dominicwild/anaconda3/envs/IR/lib/python3.11/site-packages (from ir-measures>=0.3.1->python-terrier) (1.0.12)\n",
      "Requirement already satisfied: cbor>=1.0.0 in /Users/dominicwild/anaconda3/envs/IR/lib/python3.11/site-packages (from trec-car-tools>=2.5.4->ir_datasets) (1.0.0)\n",
      "Requirement already satisfied: heapdict in /Users/dominicwild/anaconda3/envs/IR/lib/python3.11/site-packages (from chest->python-terrier) (1.0.1)\n",
      "Requirement already satisfied: wrapt<2,>=1.10 in /Users/dominicwild/anaconda3/envs/IR/lib/python3.11/site-packages (from deprecated->python-terrier) (1.16.0)\n",
      "Requirement already satisfied: MarkupSafe>=2.0 in /Users/dominicwild/anaconda3/envs/IR/lib/python3.11/site-packages (from jinja2->python-terrier) (2.1.3)\n",
      "Requirement already satisfied: multiset<3.0,>=2.0 in /Users/dominicwild/anaconda3/envs/IR/lib/python3.11/site-packages (from matchpy->python-terrier) (2.1.1)\n",
      "Requirement already satisfied: python-dateutil>=2.8.2 in /Users/dominicwild/anaconda3/envs/IR/lib/python3.11/site-packages (from pandas->tira==0.0.88) (2.8.2)\n",
      "Requirement already satisfied: pytz>=2020.1 in /Users/dominicwild/anaconda3/envs/IR/lib/python3.11/site-packages (from pandas->tira==0.0.88) (2023.3.post1)\n",
      "Requirement already satisfied: tzdata>=2022.1 in /Users/dominicwild/anaconda3/envs/IR/lib/python3.11/site-packages (from pandas->tira==0.0.88) (2023.3)\n",
      "Requirement already satisfied: threadpoolctl>=2.0.0 in /Users/dominicwild/anaconda3/envs/IR/lib/python3.11/site-packages (from scikit-learn->python-terrier) (3.2.0)\n",
      "Requirement already satisfied: patsy>=0.5.2 in /Users/dominicwild/anaconda3/envs/IR/lib/python3.11/site-packages (from statsmodels->python-terrier) (0.5.3)\n",
      "Requirement already satisfied: six in /Users/dominicwild/anaconda3/envs/IR/lib/python3.11/site-packages (from patsy>=0.5.2->statsmodels->python-terrier) (1.16.0)\n"
     ]
    }
   ],
   "source": [
    "import os\n",
    "\n",
    "# Detect if we are in the TIRA sandbox\n",
    "# Install the required dependencies if we are not in the sandbox.\n",
    "if 'TIRA_DATASET_ID' not in os.environ:\n",
    "    !pip3 install python-terrier tira==0.0.88 ir_datasets\n",
    "else:\n",
    "    print('We are in the TIRA sandbox.')"
   ]
  },
  {
   "cell_type": "code",
   "execution_count": 2,
   "metadata": {},
   "outputs": [
    {
     "name": "stderr",
     "output_type": "stream",
     "text": [
      "/Users/dominicwild/anaconda3/envs/IR/lib/python3.11/site-packages/tqdm/auto.py:21: TqdmWarning: IProgress not found. Please update jupyter and ipywidgets. See https://ipywidgets.readthedocs.io/en/stable/user_install.html\n",
      "  from .autonotebook import tqdm as notebook_tqdm\n",
      "PyTerrier 0.10.0 has loaded Terrier 5.7 (built by craigm on 2022-11-10 18:30) and terrier-helper 0.0.7\n",
      "\n"
     ]
    },
    {
     "name": "stdout",
     "output_type": "stream",
     "text": [
      "Due to execution in TIRA, I have patched ir_datasets to always return the single input dataset mounted to the sandbox.\n",
      "Start PyTerrier with version=5.7, helper_version=0.0.7, no_download=True\n"
     ]
    },
    {
     "name": "stderr",
     "output_type": "stream",
     "text": [
      "No etc/terrier.properties, using terrier.default.properties for bootstrap configuration.\n"
     ]
    }
   ],
   "source": [
    "from tira.third_party_integrations import ensure_pyterrier_is_loaded, persist_and_normalize_run\n",
    "\n",
    "# this loads and starts pyterrier so that it also works in the TIRA\n",
    "ensure_pyterrier_is_loaded()\n",
    "\n",
    "# PyTerrier must be imported after the call to ensure_pyterrier_is_loaded in TIRA.\n",
    "import pyterrier as pt\n"
   ]
  },
  {
   "cell_type": "markdown",
   "metadata": {},
   "source": [
    "### Step 2: Load the data"
   ]
  },
  {
   "cell_type": "code",
   "execution_count": 3,
   "metadata": {},
   "outputs": [
    {
     "name": "stdout",
     "output_type": "stream",
     "text": [
      "Load ir_dataset \"ir-lab-jena-leipzig-wise-2023/validation-20231104-training\" from tira.\n"
     ]
    }
   ],
   "source": [
    "data = pt.get_dataset('irds:ir-lab-jena-leipzig-wise-2023/validation-20231104-training')"
   ]
  },
  {
   "cell_type": "code",
   "execution_count": 43,
   "metadata": {},
   "outputs": [
    {
     "name": "stdout",
     "output_type": "stream",
     "text": [
      "See the first two queries:\n",
      "       qid              query\n",
      "0  q072224     purchase money\n",
      "1  q072226  purchase used car\n"
     ]
    }
   ],
   "source": [
    "print('See the first two queries:')\n",
    "topics = data.get_topics('title')\n",
    "print(topics.head(2))"
   ]
  },
  {
   "cell_type": "code",
   "execution_count": 60,
   "metadata": {},
   "outputs": [],
   "source": [
    "import pandas as pd\n",
    "train_topics = topics.sample(frac=0.8,random_state=200)\n",
    "test_topics = topics.drop(train_topics.index)\n",
    "\n",
    "qrels = data.get_qrels()\n",
    "train_qrels = qrels.sample(frac=0.8,random_state=200)\n",
    "test_qrels = qrels.drop(train_qrels.index)\n"
   ]
  },
  {
   "cell_type": "markdown",
   "metadata": {},
   "source": [
    "### Step 3: Build the Index"
   ]
  },
  {
   "cell_type": "code",
   "execution_count": 14,
   "metadata": {},
   "outputs": [
    {
     "name": "stdout",
     "output_type": "stream",
     "text": [
      "Build index:\n",
      "No settings given in /Users/dominicwild/.tira/.tira-settings.json. I will use defaults.\n",
      "No settings given in /Users/dominicwild/.tira/.tira-settings.json. I will use defaults.\n"
     ]
    },
    {
     "name": "stderr",
     "output_type": "stream",
     "text": [
      "ir-lab-jena-leipzig-wise-2023/validation-20231104-training documents:   0%|          | 138/61307 [00:00<01:23, 732.82it/s]"
     ]
    },
    {
     "name": "stdout",
     "output_type": "stream",
     "text": [
      "No settings given in /Users/dominicwild/.tira/.tira-settings.json. I will use defaults.\n",
      "No settings given in /Users/dominicwild/.tira/.tira-settings.json. I will use defaults.\n"
     ]
    },
    {
     "name": "stderr",
     "output_type": "stream",
     "text": [
      "ir-lab-jena-leipzig-wise-2023/validation-20231104-training documents: 100%|██████████| 61307/61307 [00:26<00:00, 2341.51it/s]\n"
     ]
    },
    {
     "name": "stdout",
     "output_type": "stream",
     "text": [
      "Done. Index is created\n"
     ]
    }
   ],
   "source": [
    "print('Build index:')\n",
    "iter_indexer = pt.IterDictIndexer(\"/tmp/index\", meta={'docno': 100}, verbose=True)\n",
    "!rm -Rf /tmp/index\n",
    "indexref = iter_indexer.index(data.get_corpus_iter())\n",
    "print('Done. Index is created')"
   ]
  },
  {
   "cell_type": "markdown",
   "metadata": {},
   "source": [
    "### Step 4: Create the Retrieval Pipeline"
   ]
  },
  {
   "cell_type": "code",
   "execution_count": 84,
   "metadata": {},
   "outputs": [],
   "source": [
    "bm25 = pt.BatchRetrieve(indexref, wmodel=\"BM25\", verbose=True)\n",
    "tf_idf = pt.BatchRetrieve(indexref, wmodel=\"TF_IDF\", verbose=True)\n",
    "dph = pt.BatchRetrieve(indexref, wmodel=\"DPH\", verbose=True)\n",
    "drlm = pt.BatchRetrieve(indexref, wmodel=\"DirichletLM\", verbose=True)\n",
    "\n",
    "bo1 = pt.rewrite.Bo1QueryExpansion(indexref, verbose=True)\n",
    "rm3 = pt.rewrite.RM3(indexref, verbose=True)\n",
    "klq = pt.rewrite.KLQueryExpansion(indexref, verbose=True)\n",
    "\n",
    "tf_idf_bo1 = tf_idf >> bo1 >> tf_idf\n",
    "tf_idf_rm3 = tf_idf >> rm3 >> tf_idf\n",
    "tf_idf_klq = tf_idf >> klq >> tf_idf\n"
   ]
  },
  {
   "cell_type": "code",
   "execution_count": 78,
   "metadata": {},
   "outputs": [
    {
     "name": "stderr",
     "output_type": "stream",
     "text": [
      "BR(BM25): 100%|██████████| 176/176 [00:01<00:00, 97.62q/s] \n",
      "BR(DPH): 100%|██████████| 176/176 [00:01<00:00, 98.95q/s] \n",
      "BR(DirichletLM): 100%|██████████| 176/176 [00:01<00:00, 94.87q/s]\n"
     ]
    },
    {
     "data": {
      "text/html": [
       "<style type=\"text/css\">\n",
       "#T_f791a_row0_col1, #T_f791a_row1_col2, #T_f791a_row2_col3 {\n",
       "  font-weight: bold;\n",
       "}\n",
       "</style>\n",
       "<table id=\"T_f791a\">\n",
       "  <thead>\n",
       "    <tr>\n",
       "      <th class=\"blank level0\" >&nbsp;</th>\n",
       "      <th id=\"T_f791a_level0_col0\" class=\"col_heading level0 col0\" >name</th>\n",
       "      <th id=\"T_f791a_level0_col1\" class=\"col_heading level0 col1\" >P_10</th>\n",
       "      <th id=\"T_f791a_level0_col2\" class=\"col_heading level0 col2\" >recall_10</th>\n",
       "      <th id=\"T_f791a_level0_col3\" class=\"col_heading level0 col3\" >ndcg</th>\n",
       "    </tr>\n",
       "  </thead>\n",
       "  <tbody>\n",
       "    <tr>\n",
       "      <th id=\"T_f791a_level0_row0\" class=\"row_heading level0 row0\" >0</th>\n",
       "      <td id=\"T_f791a_row0_col0\" class=\"data row0 col0\" >BM25</td>\n",
       "      <td id=\"T_f791a_row0_col1\" class=\"data row0 col1\" >0.021118</td>\n",
       "      <td id=\"T_f791a_row0_col2\" class=\"data row0 col2\" >0.146998</td>\n",
       "      <td id=\"T_f791a_row0_col3\" class=\"data row0 col3\" >0.140814</td>\n",
       "    </tr>\n",
       "    <tr>\n",
       "      <th id=\"T_f791a_level0_row1\" class=\"row_heading level0 row1\" >1</th>\n",
       "      <td id=\"T_f791a_row1_col0\" class=\"data row1 col0\" >TF_IDF</td>\n",
       "      <td id=\"T_f791a_row1_col1\" class=\"data row1 col1\" >0.021118</td>\n",
       "      <td id=\"T_f791a_row1_col2\" class=\"data row1 col2\" >0.150104</td>\n",
       "      <td id=\"T_f791a_row1_col3\" class=\"data row1 col3\" >0.131495</td>\n",
       "    </tr>\n",
       "    <tr>\n",
       "      <th id=\"T_f791a_level0_row2\" class=\"row_heading level0 row2\" >2</th>\n",
       "      <td id=\"T_f791a_row2_col0\" class=\"data row2 col0\" >DPH</td>\n",
       "      <td id=\"T_f791a_row2_col1\" class=\"data row2 col1\" >0.019255</td>\n",
       "      <td id=\"T_f791a_row2_col2\" class=\"data row2 col2\" >0.131470</td>\n",
       "      <td id=\"T_f791a_row2_col3\" class=\"data row2 col3\" >0.143123</td>\n",
       "    </tr>\n",
       "    <tr>\n",
       "      <th id=\"T_f791a_level0_row3\" class=\"row_heading level0 row3\" >3</th>\n",
       "      <td id=\"T_f791a_row3_col0\" class=\"data row3 col0\" >DirichletLM</td>\n",
       "      <td id=\"T_f791a_row3_col1\" class=\"data row3 col1\" >0.018634</td>\n",
       "      <td id=\"T_f791a_row3_col2\" class=\"data row3 col2\" >0.129400</td>\n",
       "      <td id=\"T_f791a_row3_col3\" class=\"data row3 col3\" >0.133254</td>\n",
       "    </tr>\n",
       "  </tbody>\n",
       "</table>\n"
      ],
      "text/plain": [
       "<pandas.io.formats.style.Styler at 0x2b9838a50>"
      ]
     },
     "execution_count": 78,
     "metadata": {},
     "output_type": "execute_result"
    }
   ],
   "source": [
    "pt.Experiment(\n",
    "    [bm25, tf_idf, dph, drlm],\n",
    "    test_topics, test_qrels,\n",
    "    [\"P_10\", \"recall_10\", \"ndcg\"],\n",
    "    [\"BM25\",\"TF_IDF\", \"DPH\", \"DirichletLM\"],\n",
    "    highlight=\"bold\"\n",
    ")"
   ]
  },
  {
   "cell_type": "code",
   "execution_count": 85,
   "metadata": {},
   "outputs": [
    {
     "name": "stderr",
     "output_type": "stream",
     "text": [
      "BR(TF_IDF): 100%|██████████| 176/176 [00:02<00:00, 87.24q/s]\n",
      "Transformer: 100%|██████████| 175/175 [00:00<00:00, 176.30q/s]\n",
      "BR(TF_IDF): 100%|██████████| 175/175 [00:02<00:00, 76.30q/s]\n",
      "BR(TF_IDF): 100%|██████████| 176/176 [00:01<00:00, 110.52q/s]\n",
      "Transformer: 100%|██████████| 175/175 [00:00<00:00, 184.71q/s]\n",
      "BR(TF_IDF): 100%|██████████| 175/175 [00:02<00:00, 80.37q/s]\n",
      "BR(TF_IDF): 100%|██████████| 176/176 [00:01<00:00, 102.21q/s]\n",
      "Transformer: 100%|██████████| 175/175 [00:01<00:00, 170.44q/s]\n",
      "BR(TF_IDF): 100%|██████████| 175/175 [00:02<00:00, 70.99q/s]\n"
     ]
    },
    {
     "data": {
      "text/html": [
       "<style type=\"text/css\">\n",
       "#T_e903d_row0_col1, #T_e903d_row0_col2, #T_e903d_row2_col3 {\n",
       "  font-weight: bold;\n",
       "}\n",
       "</style>\n",
       "<table id=\"T_e903d\">\n",
       "  <thead>\n",
       "    <tr>\n",
       "      <th class=\"blank level0\" >&nbsp;</th>\n",
       "      <th id=\"T_e903d_level0_col0\" class=\"col_heading level0 col0\" >name</th>\n",
       "      <th id=\"T_e903d_level0_col1\" class=\"col_heading level0 col1\" >P_10</th>\n",
       "      <th id=\"T_e903d_level0_col2\" class=\"col_heading level0 col2\" >recall_10</th>\n",
       "      <th id=\"T_e903d_level0_col3\" class=\"col_heading level0 col3\" >ndcg</th>\n",
       "    </tr>\n",
       "  </thead>\n",
       "  <tbody>\n",
       "    <tr>\n",
       "      <th id=\"T_e903d_level0_row0\" class=\"row_heading level0 row0\" >0</th>\n",
       "      <td id=\"T_e903d_row0_col0\" class=\"data row0 col0\" >TF_IDF >> bo1 >> TF_IDF</td>\n",
       "      <td id=\"T_e903d_row0_col1\" class=\"data row0 col1\" >0.020497</td>\n",
       "      <td id=\"T_e903d_row0_col2\" class=\"data row0 col2\" >0.155280</td>\n",
       "      <td id=\"T_e903d_row0_col3\" class=\"data row0 col3\" >0.149736</td>\n",
       "    </tr>\n",
       "    <tr>\n",
       "      <th id=\"T_e903d_level0_row1\" class=\"row_heading level0 row1\" >1</th>\n",
       "      <td id=\"T_e903d_row1_col0\" class=\"data row1 col0\" >TF_IDF >> rm3 >> TF_IDF</td>\n",
       "      <td id=\"T_e903d_row1_col1\" class=\"data row1 col1\" >0.019876</td>\n",
       "      <td id=\"T_e903d_row1_col2\" class=\"data row1 col2\" >0.144928</td>\n",
       "      <td id=\"T_e903d_row1_col3\" class=\"data row1 col3\" >0.140707</td>\n",
       "    </tr>\n",
       "    <tr>\n",
       "      <th id=\"T_e903d_level0_row2\" class=\"row_heading level0 row2\" >2</th>\n",
       "      <td id=\"T_e903d_row2_col0\" class=\"data row2 col0\" >TF_IDF >> klq >> TF_IDF</td>\n",
       "      <td id=\"T_e903d_row2_col1\" class=\"data row2 col1\" >0.020497</td>\n",
       "      <td id=\"T_e903d_row2_col2\" class=\"data row2 col2\" >0.152174</td>\n",
       "      <td id=\"T_e903d_row2_col3\" class=\"data row2 col3\" >0.152469</td>\n",
       "    </tr>\n",
       "  </tbody>\n",
       "</table>\n"
      ],
      "text/plain": [
       "<pandas.io.formats.style.Styler at 0x2b3127d50>"
      ]
     },
     "execution_count": 85,
     "metadata": {},
     "output_type": "execute_result"
    }
   ],
   "source": [
    "pt.Experiment(\n",
    "    [tf_idf_bo1, tf_idf_rm3, tf_idf_klq],\n",
    "    test_topics, test_qrels,\n",
    "    [\"P_10\", \"recall_10\", \"ndcg\"],\n",
    "    [\"TF_IDF >> bo1 >> TF_IDF\",\"TF_IDF >> rm3 >> TF_IDF\", \"TF_IDF >> klq >> TF_IDF\"],\n",
    "    highlight=\"bold\"\n",
    ")"
   ]
  },
  {
   "cell_type": "code",
   "execution_count": 81,
   "metadata": {},
   "outputs": [
    {
     "name": "stderr",
     "output_type": "stream",
     "text": [
      "FBR(TF_IDF and 2 features): 100%|██████████| 175/175 [00:18<00:00,  9.41q/s]\n"
     ]
    },
    {
     "data": {
      "text/html": [
       "<style type=\"text/css\">\n",
       "#T_02006_row0_col1, #T_02006_row0_col2, #T_02006_row0_col3 {\n",
       "  font-weight: bold;\n",
       "}\n",
       "</style>\n",
       "<table id=\"T_02006\">\n",
       "  <thead>\n",
       "    <tr>\n",
       "      <th class=\"blank level0\" >&nbsp;</th>\n",
       "      <th id=\"T_02006_level0_col0\" class=\"col_heading level0 col0\" >name</th>\n",
       "      <th id=\"T_02006_level0_col1\" class=\"col_heading level0 col1\" >P_10</th>\n",
       "      <th id=\"T_02006_level0_col2\" class=\"col_heading level0 col2\" >recall_10</th>\n",
       "      <th id=\"T_02006_level0_col3\" class=\"col_heading level0 col3\" >ndcg</th>\n",
       "    </tr>\n",
       "  </thead>\n",
       "  <tbody>\n",
       "    <tr>\n",
       "      <th id=\"T_02006_level0_row0\" class=\"row_heading level0 row0\" >0</th>\n",
       "      <td id=\"T_02006_row0_col0\" class=\"data row0 col0\" >TF_IDF >> BO1 >> TF_IDF >> TF**PL2</td>\n",
       "      <td id=\"T_02006_row0_col1\" class=\"data row0 col1\" >0.019876</td>\n",
       "      <td id=\"T_02006_row0_col2\" class=\"data row0 col2\" >0.145963</td>\n",
       "      <td id=\"T_02006_row0_col3\" class=\"data row0 col3\" >0.144568</td>\n",
       "    </tr>\n",
       "  </tbody>\n",
       "</table>\n"
      ],
      "text/plain": [
       "<pandas.io.formats.style.Styler at 0x2ad9dc250>"
      ]
     },
     "execution_count": 81,
     "metadata": {},
     "output_type": "execute_result"
    }
   ],
   "source": [
    "tfidf_bo1_tfpl2_union = tf_idf >> bo1 >> pt.FeaturesBatchRetrieve(indexref, wmodel=\"TF_IDF\", features=[\"WMODEL:BM25\", \"WMODEL:DPH\"], verbose=True)\n",
    "\n",
    "pt.Experiment(\n",
    "    [tfidf_bo1_tfpl2_union],\n",
    "    test_topics, test_qrels,\n",
    "    [\"P_10\", \"recall_10\", \"ndcg\"],\n",
    "    [\"TF_IDF >> BO1 >> TF_IDF >> TF**PL2\"],\n",
    "    highlight=\"bold\"\n",
    ")"
   ]
  },
  {
   "cell_type": "code",
   "execution_count": 83,
   "metadata": {},
   "outputs": [
    {
     "name": "stderr",
     "output_type": "stream",
     "text": [
      "Transformer: 100%|██████████| 703/703 [00:12<00:00, 57.06q/s]\n",
      "Transformer: 100%|██████████| 703/703 [00:12<00:00, 56.64q/s]\n",
      "Transformer: 100%|██████████| 703/703 [00:12<00:00, 56.66q/s]\n",
      "Transformer: 100%|██████████| 703/703 [00:12<00:00, 57.63q/s]\n",
      "Transformer: 100%|██████████| 703/703 [00:12<00:00, 57.53q/s]\n",
      "Transformer: 100%|██████████| 703/703 [00:12<00:00, 55.29q/s]\n",
      "Transformer: 100%|██████████| 703/703 [00:13<00:00, 52.83q/s]\n",
      "Transformer: 100%|██████████| 703/703 [00:12<00:00, 55.62q/s]\n",
      "Transformer: 100%|██████████| 703/703 [00:12<00:00, 55.14q/s]\n",
      "Transformer: 100%|██████████| 703/703 [00:12<00:00, 56.46q/s]\n",
      "GridScan: 100%|██████████| 10/10 [05:16<00:00, 31.67s/it]\n"
     ]
    },
    {
     "name": "stdout",
     "output_type": "stream",
     "text": [
      "Best ndcg is 0.231389\n",
      "Best setting is ['BR(TF_IDF) tf_idf.b=0.9999999999999999']\n"
     ]
    },
    {
     "name": "stderr",
     "output_type": "stream",
     "text": [
      "Transformer: 100%|██████████| 175/175 [00:00<00:00, 182.94q/s]\n"
     ]
    },
    {
     "data": {
      "text/html": [
       "<div>\n",
       "<style scoped>\n",
       "    .dataframe tbody tr th:only-of-type {\n",
       "        vertical-align: middle;\n",
       "    }\n",
       "\n",
       "    .dataframe tbody tr th {\n",
       "        vertical-align: top;\n",
       "    }\n",
       "\n",
       "    .dataframe thead th {\n",
       "        text-align: right;\n",
       "    }\n",
       "</style>\n",
       "<table border=\"1\" class=\"dataframe\">\n",
       "  <thead>\n",
       "    <tr style=\"text-align: right;\">\n",
       "      <th></th>\n",
       "      <th>name</th>\n",
       "      <th>P_10</th>\n",
       "      <th>recall_10</th>\n",
       "      <th>ndcg</th>\n",
       "    </tr>\n",
       "  </thead>\n",
       "  <tbody>\n",
       "    <tr>\n",
       "      <th>0</th>\n",
       "      <td>Compose(Compose(BR(TF_IDF), QueryExpansion(/tm...</td>\n",
       "      <td>0.020497</td>\n",
       "      <td>0.153209</td>\n",
       "      <td>0.142564</td>\n",
       "    </tr>\n",
       "  </tbody>\n",
       "</table>\n",
       "</div>"
      ],
      "text/plain": [
       "                                                name      P_10  recall_10  \\\n",
       "0  Compose(Compose(BR(TF_IDF), QueryExpansion(/tm...  0.020497   0.153209   \n",
       "\n",
       "       ndcg  \n",
       "0  0.142564  "
      ]
     },
     "execution_count": 83,
     "metadata": {},
     "output_type": "execute_result"
    }
   ],
   "source": [
    "import numpy as np\n",
    "\n",
    "tf_idf = pt.BatchRetrieve(indexref, wmodel=\"TF_IDF\", controls={\"tf_idf.b\" : 0.75})\n",
    "tfidf_klq = tf_idf >> klq >> tf_idf\n",
    "\n",
    "param_map = {\n",
    "        tf_idf : { \"tf_idf.b\" : list(np.arange(0.5,1.5,0.1))},\n",
    "        # bo1 : {\n",
    "        #     \"fb_terms\" : list(range(1, 12, 3)), # makes a list of 1,3,6,7,12\n",
    "        #     \"fb_docs\" : list(range(2, 30, 6))   # etc.\n",
    "        # }\n",
    "}\n",
    "tfidf_bo1 = pt.GridSearch(tfidf_klq, param_map, train_topics, train_qrels, verbose=True, metric=\"ndcg\")\n",
    "pt.Experiment([tfidf_bo1], test_topics, test_qrels, [\"P_10\", \"recall_10\", \"ndcg\"])"
   ]
  },
  {
   "cell_type": "markdown",
   "metadata": {},
   "source": [
    "### Step 5: Create the Run and Persist the Run"
   ]
  },
  {
   "cell_type": "code",
   "execution_count": 8,
   "metadata": {},
   "outputs": [
    {
     "name": "stdout",
     "output_type": "stream",
     "text": [
      "Create run\n"
     ]
    },
    {
     "name": "stderr",
     "output_type": "stream",
     "text": [
      "BR(PL2): 100%|██████████| 882/882 [00:09<00:00, 96.97q/s] \n"
     ]
    },
    {
     "name": "stdout",
     "output_type": "stream",
     "text": [
      "Done, run was created\n"
     ]
    }
   ],
   "source": [
    "print('Create run')\n",
    "run = bm25(topics)\n",
    "print('Done, run was created')"
   ]
  },
  {
   "cell_type": "code",
   "execution_count": 9,
   "metadata": {},
   "outputs": [
    {
     "name": "stdout",
     "output_type": "stream",
     "text": [
      "I use the environment variable \"TIRA_OUTPUT_DIR\" to determine where I should store the run file using \".\" as default.\n",
      "Done. run file is stored under \"./run.txt\".\n"
     ]
    }
   ],
   "source": [
    "persist_and_normalize_run(run, 'bm25-baseline')"
   ]
  }
 ],
 "metadata": {
  "kernelspec": {
   "display_name": "base",
   "language": "python",
   "name": "python3"
  },
  "language_info": {
   "codemirror_mode": {
    "name": "ipython",
    "version": 3
   },
   "file_extension": ".py",
   "mimetype": "text/x-python",
   "name": "python",
   "nbconvert_exporter": "python",
   "pygments_lexer": "ipython3",
   "version": "3.11.5"
  },
  "orig_nbformat": 4
 },
 "nbformat": 4,
 "nbformat_minor": 2
}
