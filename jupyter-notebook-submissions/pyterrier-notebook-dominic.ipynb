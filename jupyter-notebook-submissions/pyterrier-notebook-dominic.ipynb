{
 "cells": [
  {
   "cell_type": "markdown",
   "metadata": {},
   "source": [
    "# PyTerrier Notebook for Full-Rank Submissions\n",
    "\n",
    "This notebook serves as a baseline full-rank submission for [TIRA](https://tira.io)/[TIREx](https://tira.io/tirex) that builds a PyTerrier index and subsequently creates a run with BM25."
   ]
  },
  {
   "cell_type": "markdown",
   "metadata": {},
   "source": [
    "### Step 1: Ensure Libraries are Imported"
   ]
  },
  {
   "cell_type": "code",
   "execution_count": 1,
   "metadata": {},
   "outputs": [
    {
     "name": "stdout",
     "output_type": "stream",
     "text": [
      "Requirement already satisfied: python-terrier in /Users/dominicwild/anaconda3/envs/IR/lib/python3.11/site-packages (0.10.0)\n",
      "Requirement already satisfied: tira==0.0.88 in /Users/dominicwild/anaconda3/envs/IR/lib/python3.11/site-packages (0.0.88)\n",
      "Requirement already satisfied: ir_datasets in /Users/dominicwild/anaconda3/envs/IR/lib/python3.11/site-packages (0.5.5)\n",
      "Requirement already satisfied: requests==2.*,>=2.26 in /Users/dominicwild/anaconda3/envs/IR/lib/python3.11/site-packages (from tira==0.0.88) (2.31.0)\n",
      "Requirement already satisfied: docker==6.*,>=6.0.0 in /Users/dominicwild/anaconda3/envs/IR/lib/python3.11/site-packages (from tira==0.0.88) (6.1.3)\n",
      "Requirement already satisfied: pandas in /Users/dominicwild/anaconda3/envs/IR/lib/python3.11/site-packages (from tira==0.0.88) (2.1.3)\n",
      "Requirement already satisfied: packaging>=14.0 in /Users/dominicwild/anaconda3/envs/IR/lib/python3.11/site-packages (from docker==6.*,>=6.0.0->tira==0.0.88) (23.2)\n",
      "Requirement already satisfied: urllib3>=1.26.0 in /Users/dominicwild/anaconda3/envs/IR/lib/python3.11/site-packages (from docker==6.*,>=6.0.0->tira==0.0.88) (2.1.0)\n",
      "Requirement already satisfied: websocket-client>=0.32.0 in /Users/dominicwild/anaconda3/envs/IR/lib/python3.11/site-packages (from docker==6.*,>=6.0.0->tira==0.0.88) (1.6.4)\n",
      "Requirement already satisfied: charset-normalizer<4,>=2 in /Users/dominicwild/anaconda3/envs/IR/lib/python3.11/site-packages (from requests==2.*,>=2.26->tira==0.0.88) (3.3.2)\n",
      "Requirement already satisfied: idna<4,>=2.5 in /Users/dominicwild/anaconda3/envs/IR/lib/python3.11/site-packages (from requests==2.*,>=2.26->tira==0.0.88) (3.4)\n",
      "Requirement already satisfied: certifi>=2017.4.17 in /Users/dominicwild/anaconda3/envs/IR/lib/python3.11/site-packages (from requests==2.*,>=2.26->tira==0.0.88) (2023.11.17)\n",
      "Requirement already satisfied: numpy in /Users/dominicwild/anaconda3/envs/IR/lib/python3.11/site-packages (from python-terrier) (1.26.2)\n",
      "Requirement already satisfied: wget in /Users/dominicwild/anaconda3/envs/IR/lib/python3.11/site-packages (from python-terrier) (3.2)\n",
      "Requirement already satisfied: tqdm in /Users/dominicwild/anaconda3/envs/IR/lib/python3.11/site-packages (from python-terrier) (4.66.1)\n",
      "Requirement already satisfied: pyjnius>=1.4.2 in /Users/dominicwild/anaconda3/envs/IR/lib/python3.11/site-packages (from python-terrier) (1.6.1)\n",
      "Requirement already satisfied: matchpy in /Users/dominicwild/anaconda3/envs/IR/lib/python3.11/site-packages (from python-terrier) (0.5.5)\n",
      "Requirement already satisfied: scikit-learn in /Users/dominicwild/anaconda3/envs/IR/lib/python3.11/site-packages (from python-terrier) (1.3.2)\n",
      "Requirement already satisfied: deprecated in /Users/dominicwild/anaconda3/envs/IR/lib/python3.11/site-packages (from python-terrier) (1.2.14)\n",
      "Requirement already satisfied: chest in /Users/dominicwild/anaconda3/envs/IR/lib/python3.11/site-packages (from python-terrier) (0.2.3)\n",
      "Requirement already satisfied: scipy in /Users/dominicwild/anaconda3/envs/IR/lib/python3.11/site-packages (from python-terrier) (1.11.4)\n",
      "Requirement already satisfied: joblib in /Users/dominicwild/anaconda3/envs/IR/lib/python3.11/site-packages (from python-terrier) (1.3.2)\n",
      "Requirement already satisfied: nptyping==1.4.4 in /Users/dominicwild/anaconda3/envs/IR/lib/python3.11/site-packages (from python-terrier) (1.4.4)\n",
      "Requirement already satisfied: more-itertools in /Users/dominicwild/anaconda3/envs/IR/lib/python3.11/site-packages (from python-terrier) (10.1.0)\n",
      "Requirement already satisfied: jinja2 in /Users/dominicwild/anaconda3/envs/IR/lib/python3.11/site-packages (from python-terrier) (3.1.2)\n",
      "Requirement already satisfied: statsmodels in /Users/dominicwild/anaconda3/envs/IR/lib/python3.11/site-packages (from python-terrier) (0.14.0)\n",
      "Requirement already satisfied: ir-measures>=0.3.1 in /Users/dominicwild/anaconda3/envs/IR/lib/python3.11/site-packages (from python-terrier) (0.3.3)\n",
      "Requirement already satisfied: dill in /Users/dominicwild/anaconda3/envs/IR/lib/python3.11/site-packages (from python-terrier) (0.3.7)\n",
      "Requirement already satisfied: pytrec-eval-terrier>=0.5.3 in /Users/dominicwild/anaconda3/envs/IR/lib/python3.11/site-packages (from python-terrier) (0.5.6)\n",
      "Requirement already satisfied: typish>=1.7.0 in /Users/dominicwild/anaconda3/envs/IR/lib/python3.11/site-packages (from nptyping==1.4.4->python-terrier) (1.9.3)\n",
      "Requirement already satisfied: beautifulsoup4>=4.4.1 in /Users/dominicwild/anaconda3/envs/IR/lib/python3.11/site-packages (from ir_datasets) (4.12.2)\n",
      "Requirement already satisfied: inscriptis>=2.2.0 in /Users/dominicwild/anaconda3/envs/IR/lib/python3.11/site-packages (from ir_datasets) (2.3.2)\n",
      "Requirement already satisfied: lxml>=4.5.2 in /Users/dominicwild/anaconda3/envs/IR/lib/python3.11/site-packages (from ir_datasets) (4.9.3)\n",
      "Requirement already satisfied: pyyaml>=5.3.1 in /Users/dominicwild/anaconda3/envs/IR/lib/python3.11/site-packages (from ir_datasets) (6.0.1)\n",
      "Requirement already satisfied: trec-car-tools>=2.5.4 in /Users/dominicwild/anaconda3/envs/IR/lib/python3.11/site-packages (from ir_datasets) (2.6)\n",
      "Requirement already satisfied: lz4>=3.1.10 in /Users/dominicwild/anaconda3/envs/IR/lib/python3.11/site-packages (from ir_datasets) (4.3.2)\n",
      "Requirement already satisfied: warc3-wet>=0.2.3 in /Users/dominicwild/anaconda3/envs/IR/lib/python3.11/site-packages (from ir_datasets) (0.2.3)\n",
      "Requirement already satisfied: warc3-wet-clueweb09>=0.2.5 in /Users/dominicwild/anaconda3/envs/IR/lib/python3.11/site-packages (from ir_datasets) (0.2.5)\n",
      "Requirement already satisfied: zlib-state>=0.1.3 in /Users/dominicwild/anaconda3/envs/IR/lib/python3.11/site-packages (from ir_datasets) (0.1.6)\n",
      "Requirement already satisfied: ijson>=3.1.3 in /Users/dominicwild/anaconda3/envs/IR/lib/python3.11/site-packages (from ir_datasets) (3.2.3)\n",
      "Requirement already satisfied: pyautocorpus>=0.1.1 in /Users/dominicwild/anaconda3/envs/IR/lib/python3.11/site-packages (from ir_datasets) (0.1.12)\n",
      "Requirement already satisfied: unlzw3>=0.2.1 in /Users/dominicwild/anaconda3/envs/IR/lib/python3.11/site-packages (from ir_datasets) (0.2.2)\n",
      "Requirement already satisfied: soupsieve>1.2 in /Users/dominicwild/anaconda3/envs/IR/lib/python3.11/site-packages (from beautifulsoup4>=4.4.1->ir_datasets) (2.5)\n",
      "Requirement already satisfied: cwl-eval>=1.0.10 in /Users/dominicwild/anaconda3/envs/IR/lib/python3.11/site-packages (from ir-measures>=0.3.1->python-terrier) (1.0.12)\n",
      "Requirement already satisfied: cbor>=1.0.0 in /Users/dominicwild/anaconda3/envs/IR/lib/python3.11/site-packages (from trec-car-tools>=2.5.4->ir_datasets) (1.0.0)\n",
      "Requirement already satisfied: heapdict in /Users/dominicwild/anaconda3/envs/IR/lib/python3.11/site-packages (from chest->python-terrier) (1.0.1)\n",
      "Requirement already satisfied: wrapt<2,>=1.10 in /Users/dominicwild/anaconda3/envs/IR/lib/python3.11/site-packages (from deprecated->python-terrier) (1.16.0)\n",
      "Requirement already satisfied: MarkupSafe>=2.0 in /Users/dominicwild/anaconda3/envs/IR/lib/python3.11/site-packages (from jinja2->python-terrier) (2.1.3)\n",
      "Requirement already satisfied: multiset<3.0,>=2.0 in /Users/dominicwild/anaconda3/envs/IR/lib/python3.11/site-packages (from matchpy->python-terrier) (2.1.1)\n",
      "Requirement already satisfied: python-dateutil>=2.8.2 in /Users/dominicwild/anaconda3/envs/IR/lib/python3.11/site-packages (from pandas->tira==0.0.88) (2.8.2)\n",
      "Requirement already satisfied: pytz>=2020.1 in /Users/dominicwild/anaconda3/envs/IR/lib/python3.11/site-packages (from pandas->tira==0.0.88) (2023.3.post1)\n",
      "Requirement already satisfied: tzdata>=2022.1 in /Users/dominicwild/anaconda3/envs/IR/lib/python3.11/site-packages (from pandas->tira==0.0.88) (2023.3)\n",
      "Requirement already satisfied: threadpoolctl>=2.0.0 in /Users/dominicwild/anaconda3/envs/IR/lib/python3.11/site-packages (from scikit-learn->python-terrier) (3.2.0)\n",
      "Requirement already satisfied: patsy>=0.5.2 in /Users/dominicwild/anaconda3/envs/IR/lib/python3.11/site-packages (from statsmodels->python-terrier) (0.5.3)\n",
      "Requirement already satisfied: six in /Users/dominicwild/anaconda3/envs/IR/lib/python3.11/site-packages (from patsy>=0.5.2->statsmodels->python-terrier) (1.16.0)\n"
     ]
    }
   ],
   "source": [
    "import os\n",
    "\n",
    "# Detect if we are in the TIRA sandbox\n",
    "# Install the required dependencies if we are not in the sandbox.\n",
    "if 'TIRA_DATASET_ID' not in os.environ:\n",
    "    !pip3 install python-terrier tira==0.0.88 ir_datasets\n",
    "else:\n",
    "    print('We are in the TIRA sandbox.')"
   ]
  },
  {
   "cell_type": "code",
   "execution_count": 2,
   "metadata": {},
   "outputs": [
    {
     "name": "stderr",
     "output_type": "stream",
     "text": [
      "/Users/dominicwild/anaconda3/envs/IR/lib/python3.11/site-packages/tqdm/auto.py:21: TqdmWarning: IProgress not found. Please update jupyter and ipywidgets. See https://ipywidgets.readthedocs.io/en/stable/user_install.html\n",
      "  from .autonotebook import tqdm as notebook_tqdm\n",
      "PyTerrier 0.10.0 has loaded Terrier 5.7 (built by craigm on 2022-11-10 18:30) and terrier-helper 0.0.7\n",
      "\n",
      "No etc/terrier.properties, using terrier.default.properties for bootstrap configuration.\n"
     ]
    },
    {
     "name": "stdout",
     "output_type": "stream",
     "text": [
      "Due to execution in TIRA, I have patched ir_datasets to always return the single input dataset mounted to the sandbox.\n",
      "Start PyTerrier with version=5.7, helper_version=0.0.7, no_download=True\n"
     ]
    }
   ],
   "source": [
    "from tira.third_party_integrations import ensure_pyterrier_is_loaded, persist_and_normalize_run\n",
    "\n",
    "# this loads and starts pyterrier so that it also works in the TIRA\n",
    "ensure_pyterrier_is_loaded()\n",
    "\n",
    "# PyTerrier must be imported after the call to ensure_pyterrier_is_loaded in TIRA.\n",
    "import pyterrier as pt\n"
   ]
  },
  {
   "cell_type": "markdown",
   "metadata": {},
   "source": [
    "### Step 2: Load the data"
   ]
  },
  {
   "cell_type": "code",
   "execution_count": 3,
   "metadata": {},
   "outputs": [
    {
     "name": "stdout",
     "output_type": "stream",
     "text": [
      "Load ir_dataset \"ir-lab-jena-leipzig-wise-2023/validation-20231104-training\" from tira.\n"
     ]
    }
   ],
   "source": [
    "data = pt.get_dataset('irds:ir-lab-jena-leipzig-wise-2023/validation-20231104-training')"
   ]
  },
  {
   "cell_type": "code",
   "execution_count": 4,
   "metadata": {},
   "outputs": [
    {
     "name": "stdout",
     "output_type": "stream",
     "text": [
      "See the first two queries:\n",
      "No settings given in /Users/dominicwild/.tira/.tira-settings.json. I will use defaults.\n",
      "No settings given in /Users/dominicwild/.tira/.tira-settings.json. I will use defaults.\n",
      "       qid              query\n",
      "0  q072224     purchase money\n",
      "1  q072226  purchase used car\n"
     ]
    }
   ],
   "source": [
    "print('See the first two queries:')\n",
    "topics = data.get_topics('title')\n",
    "print(topics.head(2))"
   ]
  },
  {
   "cell_type": "code",
   "execution_count": 5,
   "metadata": {},
   "outputs": [
    {
     "name": "stdout",
     "output_type": "stream",
     "text": [
      "No settings given in /Users/dominicwild/.tira/.tira-settings.json. I will use defaults.\n",
      "No settings given in /Users/dominicwild/.tira/.tira-settings.json. I will use defaults.\n"
     ]
    }
   ],
   "source": [
    "import pandas as pd\n",
    "train_topics = topics.sample(frac=0.8,random_state=200)\n",
    "test_topics = topics.drop(train_topics.index)\n",
    "\n",
    "qrels = data.get_qrels()\n",
    "train_qrels = qrels.sample(frac=0.8,random_state=200)\n",
    "test_qrels = qrels.drop(train_qrels.index)\n"
   ]
  },
  {
   "cell_type": "markdown",
   "metadata": {},
   "source": [
    "### Step 3: Build the Index"
   ]
  },
  {
   "cell_type": "code",
   "execution_count": 6,
   "metadata": {},
   "outputs": [
    {
     "name": "stdout",
     "output_type": "stream",
     "text": [
      "Build index:\n",
      "No settings given in /Users/dominicwild/.tira/.tira-settings.json. I will use defaults.\n",
      "No settings given in /Users/dominicwild/.tira/.tira-settings.json. I will use defaults.\n"
     ]
    },
    {
     "name": "stderr",
     "output_type": "stream",
     "text": [
      "ir-lab-jena-leipzig-wise-2023/validation-20231104-training documents:   0%|          | 0/61307 [00:00<?, ?it/s]"
     ]
    },
    {
     "name": "stdout",
     "output_type": "stream",
     "text": [
      "No settings given in /Users/dominicwild/.tira/.tira-settings.json. I will use defaults.\n",
      "No settings given in /Users/dominicwild/.tira/.tira-settings.json. I will use defaults.\n"
     ]
    },
    {
     "name": "stderr",
     "output_type": "stream",
     "text": [
      "ir-lab-jena-leipzig-wise-2023/validation-20231104-training documents: 100%|██████████| 61307/61307 [00:25<00:00, 2409.97it/s]\n"
     ]
    },
    {
     "name": "stdout",
     "output_type": "stream",
     "text": [
      "Done. Index is created\n"
     ]
    }
   ],
   "source": [
    "print('Build index:')\n",
    "iter_indexer = pt.IterDictIndexer(\"/tmp/index\", meta={'docno': 100}, verbose=True)\n",
    "!rm -Rf /tmp/index\n",
    "indexref = iter_indexer.index(data.get_corpus_iter())\n",
    "print('Done. Index is created')"
   ]
  },
  {
   "cell_type": "markdown",
   "metadata": {},
   "source": [
    "### Step 4: Create the Retrieval Pipeline"
   ]
  },
  {
   "cell_type": "code",
   "execution_count": 7,
   "metadata": {},
   "outputs": [],
   "source": [
    "bm25 = pt.BatchRetrieve(indexref, wmodel=\"BM25\", verbose=True)\n",
    "tf_idf = pt.BatchRetrieve(indexref, wmodel=\"TF_IDF\", verbose=True)\n",
    "dph = pt.BatchRetrieve(indexref, wmodel=\"DPH\", verbose=True)\n",
    "drlm = pt.BatchRetrieve(indexref, wmodel=\"DirichletLM\", verbose=True)\n",
    "\n",
    "bo1 = pt.rewrite.Bo1QueryExpansion(indexref, verbose=True)\n",
    "rm3 = pt.rewrite.RM3(indexref, verbose=True)\n",
    "klq = pt.rewrite.KLQueryExpansion(indexref, verbose=True)\n",
    "\n",
    "tf_idf_bo1 = tf_idf >> bo1 >> tf_idf\n",
    "tf_idf_rm3 = tf_idf >> rm3 >> tf_idf\n",
    "tf_idf_klq = tf_idf >> klq >> tf_idf\n"
   ]
  },
  {
   "cell_type": "code",
   "execution_count": 16,
   "metadata": {},
   "outputs": [
    {
     "name": "stderr",
     "output_type": "stream",
     "text": [
      "BR(BM25): 100%|██████████| 882/882 [00:09<00:00, 91.94q/s] \n",
      "BR(TF_IDF): 100%|██████████| 882/882 [00:09<00:00, 92.98q/s] \n",
      "BR(DPH): 100%|██████████| 882/882 [00:09<00:00, 91.95q/s] \n",
      "BR(DirichletLM): 100%|██████████| 882/882 [00:09<00:00, 91.71q/s] \n"
     ]
    },
    {
     "data": {
      "text/html": [
       "<style type=\"text/css\">\n",
       "#T_71760_row1_col1, #T_71760_row1_col2, #T_71760_row1_col3 {\n",
       "  font-weight: bold;\n",
       "}\n",
       "</style>\n",
       "<table id=\"T_71760\">\n",
       "  <thead>\n",
       "    <tr>\n",
       "      <th class=\"blank level0\" >&nbsp;</th>\n",
       "      <th id=\"T_71760_level0_col0\" class=\"col_heading level0 col0\" >name</th>\n",
       "      <th id=\"T_71760_level0_col1\" class=\"col_heading level0 col1\" >P_10</th>\n",
       "      <th id=\"T_71760_level0_col2\" class=\"col_heading level0 col2\" >recall_10</th>\n",
       "      <th id=\"T_71760_level0_col3\" class=\"col_heading level0 col3\" >ndcg</th>\n",
       "    </tr>\n",
       "  </thead>\n",
       "  <tbody>\n",
       "    <tr>\n",
       "      <th id=\"T_71760_level0_row0\" class=\"row_heading level0 row0\" >0</th>\n",
       "      <td id=\"T_71760_row0_col0\" class=\"data row0 col0\" >BM25</td>\n",
       "      <td id=\"T_71760_row0_col1\" class=\"data row0 col1\" >0.093878</td>\n",
       "      <td id=\"T_71760_row0_col2\" class=\"data row0 col2\" >0.245990</td>\n",
       "      <td id=\"T_71760_row0_col3\" class=\"data row0 col3\" >0.310430</td>\n",
       "    </tr>\n",
       "    <tr>\n",
       "      <th id=\"T_71760_level0_row1\" class=\"row_heading level0 row1\" >1</th>\n",
       "      <td id=\"T_71760_row1_col0\" class=\"data row1 col0\" >TF_IDF</td>\n",
       "      <td id=\"T_71760_row1_col1\" class=\"data row1 col1\" >0.096032</td>\n",
       "      <td id=\"T_71760_row1_col2\" class=\"data row1 col2\" >0.251361</td>\n",
       "      <td id=\"T_71760_row1_col3\" class=\"data row1 col3\" >0.311507</td>\n",
       "    </tr>\n",
       "    <tr>\n",
       "      <th id=\"T_71760_level0_row2\" class=\"row_heading level0 row2\" >2</th>\n",
       "      <td id=\"T_71760_row2_col0\" class=\"data row2 col0\" >DPH</td>\n",
       "      <td id=\"T_71760_row2_col1\" class=\"data row2 col1\" >0.092177</td>\n",
       "      <td id=\"T_71760_row2_col2\" class=\"data row2 col2\" >0.239749</td>\n",
       "      <td id=\"T_71760_row2_col3\" class=\"data row2 col3\" >0.310629</td>\n",
       "    </tr>\n",
       "    <tr>\n",
       "      <th id=\"T_71760_level0_row3\" class=\"row_heading level0 row3\" >3</th>\n",
       "      <td id=\"T_71760_row3_col0\" class=\"data row3 col0\" >DirichletLM</td>\n",
       "      <td id=\"T_71760_row3_col1\" class=\"data row3 col1\" >0.077664</td>\n",
       "      <td id=\"T_71760_row3_col2\" class=\"data row3 col2\" >0.200004</td>\n",
       "      <td id=\"T_71760_row3_col3\" class=\"data row3 col3\" >0.279046</td>\n",
       "    </tr>\n",
       "  </tbody>\n",
       "</table>\n"
      ],
      "text/plain": [
       "<pandas.io.formats.style.Styler at 0x146d4cd90>"
      ]
     },
     "execution_count": 16,
     "metadata": {},
     "output_type": "execute_result"
    }
   ],
   "source": [
    "pt.Experiment(\n",
    "    [bm25, tf_idf, dph, drlm],\n",
    "    topics, qrels,\n",
    "    [\"P_10\", \"recall_10\", \"ndcg\"],\n",
    "    [\"BM25\",\"TF_IDF\", \"DPH\", \"DirichletLM\"],\n",
    "    highlight=\"bold\"\n",
    ")"
   ]
  },
  {
   "cell_type": "code",
   "execution_count": 17,
   "metadata": {},
   "outputs": [
    {
     "name": "stderr",
     "output_type": "stream",
     "text": [
      "BR(TF_IDF): 100%|██████████| 882/882 [00:09<00:00, 94.04q/s] \n",
      "Transformer: 100%|██████████| 878/878 [00:18<00:00, 46.38q/s]\n",
      "BR(TF_IDF): 100%|██████████| 878/878 [00:12<00:00, 72.33q/s]\n",
      "BR(TF_IDF): 100%|██████████| 882/882 [00:08<00:00, 98.47q/s] \n",
      "Transformer: 100%|██████████| 878/878 [00:19<00:00, 45.63q/s]\n",
      "BR(TF_IDF): 100%|██████████| 878/878 [00:11<00:00, 77.75q/s]\n",
      "BR(TF_IDF): 100%|██████████| 882/882 [00:09<00:00, 95.38q/s] \n",
      "Transformer: 100%|██████████| 878/878 [00:19<00:00, 46.00q/s]\n",
      "BR(TF_IDF): 100%|██████████| 878/878 [00:13<00:00, 65.93q/s]\n"
     ]
    },
    {
     "data": {
      "text/html": [
       "<style type=\"text/css\">\n",
       "#T_f3758_row0_col3, #T_f3758_row2_col1, #T_f3758_row2_col2 {\n",
       "  font-weight: bold;\n",
       "}\n",
       "</style>\n",
       "<table id=\"T_f3758\">\n",
       "  <thead>\n",
       "    <tr>\n",
       "      <th class=\"blank level0\" >&nbsp;</th>\n",
       "      <th id=\"T_f3758_level0_col0\" class=\"col_heading level0 col0\" >name</th>\n",
       "      <th id=\"T_f3758_level0_col1\" class=\"col_heading level0 col1\" >P_10</th>\n",
       "      <th id=\"T_f3758_level0_col2\" class=\"col_heading level0 col2\" >recall_10</th>\n",
       "      <th id=\"T_f3758_level0_col3\" class=\"col_heading level0 col3\" >ndcg</th>\n",
       "    </tr>\n",
       "  </thead>\n",
       "  <tbody>\n",
       "    <tr>\n",
       "      <th id=\"T_f3758_level0_row0\" class=\"row_heading level0 row0\" >0</th>\n",
       "      <td id=\"T_f3758_row0_col0\" class=\"data row0 col0\" >TF_IDF >> bo1 >> TF_IDF</td>\n",
       "      <td id=\"T_f3758_row0_col1\" class=\"data row0 col1\" >0.096032</td>\n",
       "      <td id=\"T_f3758_row0_col2\" class=\"data row0 col2\" >0.248524</td>\n",
       "      <td id=\"T_f3758_row0_col3\" class=\"data row0 col3\" >0.315130</td>\n",
       "    </tr>\n",
       "    <tr>\n",
       "      <th id=\"T_f3758_level0_row1\" class=\"row_heading level0 row1\" >1</th>\n",
       "      <td id=\"T_f3758_row1_col0\" class=\"data row1 col0\" >TF_IDF >> rm3 >> TF_IDF</td>\n",
       "      <td id=\"T_f3758_row1_col1\" class=\"data row1 col1\" >0.095011</td>\n",
       "      <td id=\"T_f3758_row1_col2\" class=\"data row1 col2\" >0.247119</td>\n",
       "      <td id=\"T_f3758_row1_col3\" class=\"data row1 col3\" >0.307819</td>\n",
       "    </tr>\n",
       "    <tr>\n",
       "      <th id=\"T_f3758_level0_row2\" class=\"row_heading level0 row2\" >2</th>\n",
       "      <td id=\"T_f3758_row2_col0\" class=\"data row2 col0\" >TF_IDF >> klq >> TF_IDF</td>\n",
       "      <td id=\"T_f3758_row2_col1\" class=\"data row2 col1\" >0.096145</td>\n",
       "      <td id=\"T_f3758_row2_col2\" class=\"data row2 col2\" >0.248862</td>\n",
       "      <td id=\"T_f3758_row2_col3\" class=\"data row2 col3\" >0.313880</td>\n",
       "    </tr>\n",
       "  </tbody>\n",
       "</table>\n"
      ],
      "text/plain": [
       "<pandas.io.formats.style.Styler at 0x2a7125850>"
      ]
     },
     "execution_count": 17,
     "metadata": {},
     "output_type": "execute_result"
    }
   ],
   "source": [
    "pt.Experiment(\n",
    "    [tf_idf_bo1, tf_idf_rm3, tf_idf_klq],\n",
    "    topics, qrels,\n",
    "    [\"P_10\", \"recall_10\", \"ndcg\"],\n",
    "    [\"TF_IDF >> bo1 >> TF_IDF\",\"TF_IDF >> rm3 >> TF_IDF\", \"TF_IDF >> klq >> TF_IDF\"],\n",
    "    highlight=\"bold\"\n",
    ")"
   ]
  },
  {
   "cell_type": "code",
   "execution_count": 8,
   "metadata": {},
   "outputs": [
    {
     "name": "stderr",
     "output_type": "stream",
     "text": [
      "Transformer: 100%|██████████| 878/878 [00:18<00:00, 47.32q/s]\n",
      "Transformer: 100%|██████████| 878/878 [00:18<00:00, 47.82q/s]\n",
      "Transformer: 100%|██████████| 878/878 [00:18<00:00, 47.67q/s]\n",
      "Transformer: 100%|██████████| 878/878 [00:18<00:00, 47.98q/s]\n",
      "Transformer: 100%|██████████| 878/878 [00:18<00:00, 48.16q/s]\n",
      "Transformer: 100%|██████████| 878/878 [00:18<00:00, 48.27q/s]\n",
      "Transformer: 100%|██████████| 878/878 [00:18<00:00, 48.42q/s]\n",
      "Transformer: 100%|██████████| 878/878 [00:18<00:00, 48.36q/s]\n",
      "Transformer: 100%|██████████| 878/878 [00:18<00:00, 48.33q/s]\n",
      "Transformer: 100%|██████████| 878/878 [00:18<00:00, 48.37q/s]\n",
      "GridScan: 100%|██████████| 10/10 [06:47<00:00, 40.72s/it]\n"
     ]
    },
    {
     "name": "stdout",
     "output_type": "stream",
     "text": [
      "Best ndcg is 0.319023\n",
      "Best setting is ['BR(TF_IDF) tf_idf.b=0.9999999999999999']\n"
     ]
    },
    {
     "name": "stderr",
     "output_type": "stream",
     "text": [
      "Transformer: 100%|██████████| 878/878 [00:18<00:00, 48.68q/s]\n"
     ]
    },
    {
     "data": {
      "text/html": [
       "<style type=\"text/css\">\n",
       "#T_33e90_row0_col1, #T_33e90_row0_col2, #T_33e90_row0_col3 {\n",
       "  font-weight: bold;\n",
       "}\n",
       "</style>\n",
       "<table id=\"T_33e90\">\n",
       "  <thead>\n",
       "    <tr>\n",
       "      <th class=\"blank level0\" >&nbsp;</th>\n",
       "      <th id=\"T_33e90_level0_col0\" class=\"col_heading level0 col0\" >name</th>\n",
       "      <th id=\"T_33e90_level0_col1\" class=\"col_heading level0 col1\" >P_10</th>\n",
       "      <th id=\"T_33e90_level0_col2\" class=\"col_heading level0 col2\" >recall_10</th>\n",
       "      <th id=\"T_33e90_level0_col3\" class=\"col_heading level0 col3\" >ndcg</th>\n",
       "    </tr>\n",
       "  </thead>\n",
       "  <tbody>\n",
       "    <tr>\n",
       "      <th id=\"T_33e90_level0_row0\" class=\"row_heading level0 row0\" >0</th>\n",
       "      <td id=\"T_33e90_row0_col0\" class=\"data row0 col0\" >TF_IDF >> klq >> TF_IDF (tuned hyperparameter b)</td>\n",
       "      <td id=\"T_33e90_row0_col1\" class=\"data row0 col1\" >0.099546</td>\n",
       "      <td id=\"T_33e90_row0_col2\" class=\"data row0 col2\" >0.259348</td>\n",
       "      <td id=\"T_33e90_row0_col3\" class=\"data row0 col3\" >0.319023</td>\n",
       "    </tr>\n",
       "  </tbody>\n",
       "</table>\n"
      ],
      "text/plain": [
       "<pandas.io.formats.style.Styler at 0x12e291a50>"
      ]
     },
     "execution_count": 8,
     "metadata": {},
     "output_type": "execute_result"
    }
   ],
   "source": [
    "import numpy as np\n",
    "\n",
    "tf_idf = pt.BatchRetrieve(indexref, wmodel=\"TF_IDF\", controls={\"tf_idf.b\" : 0.75})\n",
    "tfidf_klq_tuned = tf_idf >> klq >> tf_idf\n",
    "\n",
    "param_map = {\n",
    "        tf_idf : { \"tf_idf.b\" : list(np.arange(0.5,1.5,0.1))},\n",
    "        # bo1 : {\n",
    "        #     \"fb_terms\" : list(range(1, 12, 3)), # makes a list of 1,3,6,7,12\n",
    "        #     \"fb_docs\" : list(range(2, 30, 6))   # etc.\n",
    "        # }\n",
    "}\n",
    "tfidf_klq_tuned = pt.GridSearch(tfidf_klq_tuned, param_map, topics, qrels, verbose=True, metric=\"ndcg\")\n",
    "pt.Experiment([tfidf_klq_tuned], topics, qrels, [\"P_10\", \"recall_10\", \"ndcg\"], [\"TF_IDF >> klq >> TF_IDF (tuned hyperparameter b)\"], highlight=\"bold\")"
   ]
  },
  {
   "cell_type": "markdown",
   "metadata": {},
   "source": [
    "### Step 5: Create the Run and Persist the Run"
   ]
  },
  {
   "cell_type": "code",
   "execution_count": 8,
   "metadata": {},
   "outputs": [
    {
     "name": "stdout",
     "output_type": "stream",
     "text": [
      "Create run\n"
     ]
    },
    {
     "name": "stderr",
     "output_type": "stream",
     "text": [
      "BR(PL2): 100%|██████████| 882/882 [00:09<00:00, 96.97q/s] \n"
     ]
    },
    {
     "name": "stdout",
     "output_type": "stream",
     "text": [
      "Done, run was created\n"
     ]
    }
   ],
   "source": [
    "print('Create run')\n",
    "run = tfidf_klq_tuned(topics)\n",
    "print('Done, run was created')"
   ]
  },
  {
   "cell_type": "code",
   "execution_count": 9,
   "metadata": {},
   "outputs": [
    {
     "name": "stdout",
     "output_type": "stream",
     "text": [
      "I use the environment variable \"TIRA_OUTPUT_DIR\" to determine where I should store the run file using \".\" as default.\n",
      "Done. run file is stored under \"./run.txt\".\n"
     ]
    }
   ],
   "source": [
    "persist_and_normalize_run(run, 'tfidf_klq_tuned')"
   ]
  },
  {
   "cell_type": "markdown",
   "metadata": {},
   "source": [
    "## FAILED EXPERIMENTS"
   ]
  },
  {
   "cell_type": "code",
   "execution_count": 18,
   "metadata": {},
   "outputs": [
    {
     "name": "stderr",
     "output_type": "stream",
     "text": [
      "BR(TF_IDF): 100%|██████████| 882/882 [00:09<00:00, 97.50q/s] \n",
      "Transformer: 100%|██████████| 878/878 [00:18<00:00, 47.48q/s]\n",
      "FBR(TF_IDF and 2 features): 100%|██████████| 878/878 [01:21<00:00, 10.73q/s]\n"
     ]
    },
    {
     "data": {
      "text/html": [
       "<style type=\"text/css\">\n",
       "#T_a8e56_row0_col1, #T_a8e56_row0_col2, #T_a8e56_row0_col3 {\n",
       "  font-weight: bold;\n",
       "}\n",
       "</style>\n",
       "<table id=\"T_a8e56\">\n",
       "  <thead>\n",
       "    <tr>\n",
       "      <th class=\"blank level0\" >&nbsp;</th>\n",
       "      <th id=\"T_a8e56_level0_col0\" class=\"col_heading level0 col0\" >name</th>\n",
       "      <th id=\"T_a8e56_level0_col1\" class=\"col_heading level0 col1\" >P_10</th>\n",
       "      <th id=\"T_a8e56_level0_col2\" class=\"col_heading level0 col2\" >recall_10</th>\n",
       "      <th id=\"T_a8e56_level0_col3\" class=\"col_heading level0 col3\" >ndcg</th>\n",
       "    </tr>\n",
       "  </thead>\n",
       "  <tbody>\n",
       "    <tr>\n",
       "      <th id=\"T_a8e56_level0_row0\" class=\"row_heading level0 row0\" >0</th>\n",
       "      <td id=\"T_a8e56_row0_col0\" class=\"data row0 col0\" >TF_IDF >> BO1 >> TF_IDF >> TF**PL2</td>\n",
       "      <td id=\"T_a8e56_row0_col1\" class=\"data row0 col1\" >0.096032</td>\n",
       "      <td id=\"T_a8e56_row0_col2\" class=\"data row0 col2\" >0.248524</td>\n",
       "      <td id=\"T_a8e56_row0_col3\" class=\"data row0 col3\" >0.315130</td>\n",
       "    </tr>\n",
       "  </tbody>\n",
       "</table>\n"
      ],
      "text/plain": [
       "<pandas.io.formats.style.Styler at 0x2c9e7fe90>"
      ]
     },
     "execution_count": 18,
     "metadata": {},
     "output_type": "execute_result"
    }
   ],
   "source": [
    "tfidf_bo1_tfpl2_union = tf_idf >> bo1 >> pt.FeaturesBatchRetrieve(indexref, wmodel=\"TF_IDF\", features=[\"WMODEL:BM25\", \"WMODEL:DPH\"], verbose=True)\n",
    "\n",
    "pt.Experiment(\n",
    "    [tfidf_bo1_tfpl2_union],\n",
    "    topics, qrels,\n",
    "    [\"P_10\", \"recall_10\", \"ndcg\"],\n",
    "    [\"TF_IDF >> BO1 >> TF_IDF >> TF**PL2\"],\n",
    "    highlight=\"bold\"\n",
    ")"
   ]
  },
  {
   "cell_type": "code",
   "execution_count": 77,
   "metadata": {},
   "outputs": [
    {
     "name": "stdout",
     "output_type": "stream",
     "text": [
      "ChatNoir Chat uses ws_host from environment Environment variable\n",
      "ChatNoir Chat uses API key from Environment variable\n",
      "ChatNoir Chat uses model 'alpaca-en-7b' from Environment variable\n",
      "ChatNoir Chat uses endpoint 'https://chat.web.webis.de/' from {endpoint[1]}\n"
     ]
    },
    {
     "name": "stderr",
     "output_type": "stream",
     "text": [
      "146it [00:13, 11.24it/s]ChatNoir API quota exceeded. Retrying in 1 seconds.\n",
      "882it [00:15, 58.54it/s]\n"
     ]
    }
   ],
   "source": [
    "from chatnoir_api.chat import ChatNoirChatClient\n",
    "from tqdm import tqdm\n",
    "import time\n",
    "\n",
    "chatnoir_chat = ChatNoirChatClient()\n",
    "\n",
    "def pseudo_document(query):\n",
    "    # return only first 100 characters ~= 10 terms. Hypothesis: the LLM outputs more important terms first.\n",
    "    # (this is cherry picked)\n",
    "    return chatnoir_chat.chat(f'I am a search engine. Please name related terms for the query \"{query}\".')[:100]\n",
    "\n",
    "# we only have one query for which we generate a pseudo relevant document\n",
    "\n",
    "llm_expansion_documents = []\n",
    "for i,t in tqdm(enumerate(list(topics.iterrows()))):\n",
    "    if i < 150:\n",
    "        llm_expansion_documents.append({'docno': f'llm-expansion-for-query-{t[1].qid}', 'text':  pseudo_document(t[1].query)} )\n",
    "    else:\n",
    "        llm_expansion_documents.append({'docno': f'llm-expansion-for-query-{t[1].qid}', 'text':  \"\"} )\n"
   ]
  },
  {
   "cell_type": "code",
   "execution_count": 83,
   "metadata": {},
   "outputs": [
    {
     "name": "stdout",
     "output_type": "stream",
     "text": [
      "12:10:00.725 [ForkJoinPool-12-worker-1] WARN org.terrier.structures.indexing.Indexer - Adding an empty document to the index (llm-expansion-for-query-q07223733) - further warnings are suppressed\n",
      "12:10:00.825 [ForkJoinPool-12-worker-1] WARN org.terrier.structures.indexing.Indexer - Indexed 732 empty documents\n"
     ]
    }
   ],
   "source": [
    "indexer = pt.IterDictIndexer('/tmp/llm-expansion-index', overwrite=True, blocks=True, meta={'docno': 100, 'text': 20480})\n",
    "index_ref = indexer.index(llm_expansion_documents)\n",
    "llm_index = pt.IndexFactory.of(index_ref)\n",
    "\n",
    "# We make a pyterrier-transformer out o fthe expansion documents \n",
    "# so that we can use it in subsequent pipelines.\n",
    "llm_expansion = pt.Transformer.from_df(pd.DataFrame([\n",
    "    {'qid': f'{i}', 'docno': f'{expanded_doc[\"text\"]}'} for i, expanded_doc in enumerate(llm_expansion_documents)\n",
    "]))\n",
    "\n",
    "tfidf_llm_bo1 = llm_expansion >> pt.rewrite.Bo1QueryExpansion(llm_index) >> tf_idf"
   ]
  },
  {
   "cell_type": "code",
   "execution_count": 84,
   "metadata": {},
   "outputs": [
    {
     "ename": "ValueError",
     "evalue": "882 topics, but no results received from Compose(Compose(Transformer(), QueryExpansion(/tmp/llm-expansion-index/data.properties,3,10,<org.terrier.querying.QueryExpansion at 0x29841a570 jclass=org/terrier/querying/QueryExpansion jself=<LocalRef obj=0x136ec3d52 at 0x299146ed0>>)), BR(TF_IDF))",
     "output_type": "error",
     "traceback": [
      "\u001b[0;31m---------------------------------------------------------------------------\u001b[0m",
      "\u001b[0;31mValueError\u001b[0m                                Traceback (most recent call last)",
      "\u001b[1;32m/Users/dominicwild/Documents/Uni/2.Mastersemester/IR/ir-lab-jena-leipzig-wise-2023-geometric-tortoise/jupyter-notebook-submissions/pyterrier-notebook-dominic.ipynb Cell 19\u001b[0m line \u001b[0;36m1\n\u001b[0;32m----> <a href='vscode-notebook-cell:/Users/dominicwild/Documents/Uni/2.Mastersemester/IR/ir-lab-jena-leipzig-wise-2023-geometric-tortoise/jupyter-notebook-submissions/pyterrier-notebook-dominic.ipynb#X36sZmlsZQ%3D%3D?line=0'>1</a>\u001b[0m pt\u001b[39m.\u001b[39;49mExperiment(\n\u001b[1;32m      <a href='vscode-notebook-cell:/Users/dominicwild/Documents/Uni/2.Mastersemester/IR/ir-lab-jena-leipzig-wise-2023-geometric-tortoise/jupyter-notebook-submissions/pyterrier-notebook-dominic.ipynb#X36sZmlsZQ%3D%3D?line=1'>2</a>\u001b[0m     [tfidf_llm_bo1, tf_idf_bo1],\n\u001b[1;32m      <a href='vscode-notebook-cell:/Users/dominicwild/Documents/Uni/2.Mastersemester/IR/ir-lab-jena-leipzig-wise-2023-geometric-tortoise/jupyter-notebook-submissions/pyterrier-notebook-dominic.ipynb#X36sZmlsZQ%3D%3D?line=2'>3</a>\u001b[0m     topics, qrels,\n\u001b[1;32m      <a href='vscode-notebook-cell:/Users/dominicwild/Documents/Uni/2.Mastersemester/IR/ir-lab-jena-leipzig-wise-2023-geometric-tortoise/jupyter-notebook-submissions/pyterrier-notebook-dominic.ipynb#X36sZmlsZQ%3D%3D?line=3'>4</a>\u001b[0m     [\u001b[39m\"\u001b[39;49m\u001b[39mP_10\u001b[39;49m\u001b[39m\"\u001b[39;49m, \u001b[39m\"\u001b[39;49m\u001b[39mrecall_10\u001b[39;49m\u001b[39m\"\u001b[39;49m, \u001b[39m\"\u001b[39;49m\u001b[39mndcg\u001b[39;49m\u001b[39m\"\u001b[39;49m],\n\u001b[1;32m      <a href='vscode-notebook-cell:/Users/dominicwild/Documents/Uni/2.Mastersemester/IR/ir-lab-jena-leipzig-wise-2023-geometric-tortoise/jupyter-notebook-submissions/pyterrier-notebook-dominic.ipynb#X36sZmlsZQ%3D%3D?line=4'>5</a>\u001b[0m     [\u001b[39m\"\u001b[39;49m\u001b[39mTF_IDF >> bo1 >> TF_IDF\u001b[39;49m\u001b[39m\"\u001b[39;49m,\u001b[39m\"\u001b[39;49m\u001b[39mLLM + TF_IDF\u001b[39;49m\u001b[39m\"\u001b[39;49m],\n\u001b[1;32m      <a href='vscode-notebook-cell:/Users/dominicwild/Documents/Uni/2.Mastersemester/IR/ir-lab-jena-leipzig-wise-2023-geometric-tortoise/jupyter-notebook-submissions/pyterrier-notebook-dominic.ipynb#X36sZmlsZQ%3D%3D?line=5'>6</a>\u001b[0m     highlight\u001b[39m=\u001b[39;49m\u001b[39m\"\u001b[39;49m\u001b[39mbold\u001b[39;49m\u001b[39m\"\u001b[39;49m\n\u001b[1;32m      <a href='vscode-notebook-cell:/Users/dominicwild/Documents/Uni/2.Mastersemester/IR/ir-lab-jena-leipzig-wise-2023-geometric-tortoise/jupyter-notebook-submissions/pyterrier-notebook-dominic.ipynb#X36sZmlsZQ%3D%3D?line=6'>7</a>\u001b[0m )\n",
      "File \u001b[0;32m~/anaconda3/envs/IR/lib/python3.11/site-packages/pyterrier/pipelines.py:471\u001b[0m, in \u001b[0;36mExperiment\u001b[0;34m(retr_systems, topics, qrels, eval_metrics, names, perquery, dataframe, batch_size, filter_by_qrels, filter_by_topics, baseline, test, correction, correction_alpha, highlight, round, verbose, save_dir, save_mode, **kwargs)\u001b[0m\n\u001b[1;32m    468\u001b[0m \u001b[39mif\u001b[39;00m save_dir \u001b[39mis\u001b[39;00m \u001b[39mnot\u001b[39;00m \u001b[39mNone\u001b[39;00m:\n\u001b[1;32m    469\u001b[0m     save_file \u001b[39m=\u001b[39m os\u001b[39m.\u001b[39mpath\u001b[39m.\u001b[39mjoin(save_dir, \u001b[39m\"\u001b[39m\u001b[39m%s\u001b[39;00m\u001b[39m.res.gz\u001b[39m\u001b[39m\"\u001b[39m \u001b[39m%\u001b[39m name)\n\u001b[0;32m--> 471\u001b[0m time, evalMeasuresDict \u001b[39m=\u001b[39m _run_and_evaluate(\n\u001b[1;32m    472\u001b[0m     system, topics, qrels, eval_metrics, \n\u001b[1;32m    473\u001b[0m     perquery\u001b[39m=\u001b[39;49mperquery \u001b[39mor\u001b[39;49;00m baseline \u001b[39mis\u001b[39;49;00m \u001b[39mnot\u001b[39;49;00m \u001b[39mNone\u001b[39;49;00m, \n\u001b[1;32m    474\u001b[0m     batch_size\u001b[39m=\u001b[39;49mbatch_size, \n\u001b[1;32m    475\u001b[0m     backfill_qids\u001b[39m=\u001b[39;49mall_topic_qids \u001b[39mif\u001b[39;49;00m perquery \u001b[39melse\u001b[39;49;00m \u001b[39mNone\u001b[39;49;00m,\n\u001b[1;32m    476\u001b[0m     save_file\u001b[39m=\u001b[39;49msave_file,\n\u001b[1;32m    477\u001b[0m     save_mode\u001b[39m=\u001b[39;49msave_mode,\n\u001b[1;32m    478\u001b[0m     pbar\u001b[39m=\u001b[39;49mpbar)\n\u001b[1;32m    480\u001b[0m \u001b[39mif\u001b[39;00m baseline \u001b[39mis\u001b[39;00m \u001b[39mnot\u001b[39;00m \u001b[39mNone\u001b[39;00m:\n\u001b[1;32m    481\u001b[0m     evalDictsPerQ\u001b[39m.\u001b[39mappend(evalMeasuresDict)\n",
      "File \u001b[0;32m~/anaconda3/envs/IR/lib/python3.11/site-packages/pyterrier/pipelines.py:203\u001b[0m, in \u001b[0;36m_run_and_evaluate\u001b[0;34m(system, topics, qrels, metrics, pbar, save_mode, save_file, perquery, batch_size, backfill_qids)\u001b[0m\n\u001b[1;32m    200\u001b[0m res \u001b[39m=\u001b[39m coerce_dataframe_types(res)\n\u001b[1;32m    202\u001b[0m \u001b[39mif\u001b[39;00m \u001b[39mlen\u001b[39m(res) \u001b[39m==\u001b[39m \u001b[39m0\u001b[39m:\n\u001b[0;32m--> 203\u001b[0m     \u001b[39mraise\u001b[39;00m \u001b[39mValueError\u001b[39;00m(\u001b[39m\"\u001b[39m\u001b[39m%d\u001b[39;00m\u001b[39m topics, but no results received from \u001b[39m\u001b[39m%s\u001b[39;00m\u001b[39m\"\u001b[39m \u001b[39m%\u001b[39m (\u001b[39mlen\u001b[39m(topics), \u001b[39mstr\u001b[39m(system)) )\n\u001b[1;32m    205\u001b[0m evalMeasuresDict \u001b[39m=\u001b[39m _ir_measures_to_dict(\n\u001b[1;32m    206\u001b[0m     ir_measures\u001b[39m.\u001b[39miter_calc(metrics, qrels, res\u001b[39m.\u001b[39mrename(columns\u001b[39m=\u001b[39m_irmeasures_columns)), \n\u001b[1;32m    207\u001b[0m     metrics,\n\u001b[0;32m   (...)\u001b[0m\n\u001b[1;32m    210\u001b[0m     perquery,\n\u001b[1;32m    211\u001b[0m     backfill_qids)\n\u001b[1;32m    212\u001b[0m pbar\u001b[39m.\u001b[39mupdate()\n",
      "\u001b[0;31mValueError\u001b[0m: 882 topics, but no results received from Compose(Compose(Transformer(), QueryExpansion(/tmp/llm-expansion-index/data.properties,3,10,<org.terrier.querying.QueryExpansion at 0x29841a570 jclass=org/terrier/querying/QueryExpansion jself=<LocalRef obj=0x136ec3d52 at 0x299146ed0>>)), BR(TF_IDF))"
     ]
    }
   ],
   "source": [
    "pt.Experiment(\n",
    "    [tfidf_llm_bo1, tf_idf_bo1],\n",
    "    topics, qrels,\n",
    "    [\"P_10\", \"recall_10\", \"ndcg\"],\n",
    "    [\"TF_IDF >> bo1 >> TF_IDF\",\"LLM + TF_IDF\"],\n",
    "    highlight=\"bold\"\n",
    ")\n"
   ]
  }
 ],
 "metadata": {
  "kernelspec": {
   "display_name": "base",
   "language": "python",
   "name": "python3"
  },
  "language_info": {
   "codemirror_mode": {
    "name": "ipython",
    "version": 3
   },
   "file_extension": ".py",
   "mimetype": "text/x-python",
   "name": "python",
   "nbconvert_exporter": "python",
   "pygments_lexer": "ipython3",
   "version": "3.11.5"
  },
  "orig_nbformat": 4
 },
 "nbformat": 4,
 "nbformat_minor": 2
}
