{
 "cells": [
  {
   "cell_type": "code",
   "execution_count": 1,
   "metadata": {},
   "outputs": [
    {
     "name": "stdout",
     "output_type": "stream",
     "text": [
      "Failed to execute process '/home/paul/git/ir-lab/.venv/bin/pip3'. Reason:\n",
      "The file '/home/paul/git/ir-lab/.venv/bin/pip3' specified the interpreter '/home/paul/git/ir-lab-jena-leipzig-wise-2023-geometric-tortoise/.venv/bin/python', which is not an executable command.\n"
     ]
    }
   ],
   "source": [
    "!pip3 install numpy pandas scipy\n",
    "import os\n",
    "import numpy as np\n",
    "import pandas as pd\n",
    "from scipy import stats\n",
    "import re"
   ]
  },
  {
   "cell_type": "code",
   "execution_count": 2,
   "metadata": {},
   "outputs": [
    {
     "name": "stdout",
     "output_type": "stream",
     "text": [
      "Failed to execute process '/home/paul/git/ir-lab/.venv/bin/pip3'. Reason:\n",
      "The file '/home/paul/git/ir-lab/.venv/bin/pip3' specified the interpreter '/home/paul/git/ir-lab-jena-leipzig-wise-2023-geometric-tortoise/.venv/bin/python', which is not an executable command.\n"
     ]
    }
   ],
   "source": [
    "if 'TIRA_DATASET_ID' not in os.environ:\n",
    "    !pip3 install python-terrier tira==0.0.88\n",
    "else:\n",
    "    print('We are in the TIRA sandbox.')"
   ]
  },
  {
   "cell_type": "code",
   "execution_count": 3,
   "metadata": {},
   "outputs": [
    {
     "name": "stderr",
     "output_type": "stream",
     "text": [
      "/home/paul/git/ir-lab/.venv/lib/python3.10/site-packages/tqdm/auto.py:21: TqdmWarning: IProgress not found. Please update jupyter and ipywidgets. See https://ipywidgets.readthedocs.io/en/stable/user_install.html\n",
      "  from .autonotebook import tqdm as notebook_tqdm\n",
      "PyTerrier 0.10.0 has loaded Terrier 5.7 (built by craigm on 2022-11-10 18:30) and terrier-helper 0.0.7\n",
      "\n",
      "No etc/terrier.properties, using terrier.default.properties for bootstrap configuration.\n"
     ]
    },
    {
     "name": "stdout",
     "output_type": "stream",
     "text": [
      "Due to execution in TIRA, I have patched ir_datasets to always return the single input dataset mounted to the sandbox.\n",
      "Start PyTerrier with version=5.7, helper_version=0.0.7, no_download=True\n"
     ]
    }
   ],
   "source": [
    "from tira.third_party_integrations import ensure_pyterrier_is_loaded, persist_and_normalize_run\n",
    "\n",
    "# this loads and starts pyterrier so that it also works in the TIRA\n",
    "ensure_pyterrier_is_loaded()\n",
    "\n",
    "# PyTerrier must be imported after the call to ensure_pyterrier_is_loaded in TIRA.\n",
    "import pyterrier as pt"
   ]
  },
  {
   "cell_type": "markdown",
   "metadata": {},
   "source": [
    "### Index bauen"
   ]
  },
  {
   "cell_type": "code",
   "execution_count": 4,
   "metadata": {},
   "outputs": [
    {
     "name": "stdout",
     "output_type": "stream",
     "text": [
      "Load ir_dataset \"ir-lab-jena-leipzig-wise-2023/validation-20231104-training\" from tira.\n"
     ]
    }
   ],
   "source": [
    "data = pt.get_dataset('irds:ir-lab-jena-leipzig-wise-2023/validation-20231104-training')"
   ]
  },
  {
   "cell_type": "code",
   "execution_count": 5,
   "metadata": {},
   "outputs": [
    {
     "name": "stdout",
     "output_type": "stream",
     "text": [
      "Build index:\n"
     ]
    },
    {
     "name": "stdout",
     "output_type": "stream",
     "text": [
      "No settings given in /home/paul/.tira/.tira-settings.json. I will use defaults.\n",
      "No settings given in /home/paul/.tira/.tira-settings.json. I will use defaults.\n"
     ]
    },
    {
     "name": "stderr",
     "output_type": "stream",
     "text": [
      "ir-lab-jena-leipzig-wise-2023/validation-20231104-training documents:   0%|          | 0/61307 [00:00<?, ?it/s]"
     ]
    },
    {
     "name": "stdout",
     "output_type": "stream",
     "text": [
      "No settings given in /home/paul/.tira/.tira-settings.json. I will use defaults.\n",
      "No settings given in /home/paul/.tira/.tira-settings.json. I will use defaults.\n"
     ]
    },
    {
     "name": "stderr",
     "output_type": "stream",
     "text": [
      "ir-lab-jena-leipzig-wise-2023/validation-20231104-training documents: 100%|██████████| 61307/61307 [00:31<00:00, 1949.82it/s]\n"
     ]
    },
    {
     "name": "stdout",
     "output_type": "stream",
     "text": [
      "Done. Index is created\n"
     ]
    }
   ],
   "source": [
    "print('Build index:')\n",
    "iter_indexer = pt.IterDictIndexer(\"/tmp/index\", meta={'docno': 100}, verbose=True)\n",
    "!rm -Rf /tmp/index\n",
    "indexref = iter_indexer.index(data.get_corpus_iter())\n",
    "print('Done. Index is created')"
   ]
  },
  {
   "cell_type": "markdown",
   "metadata": {},
   "source": [
    "### Unsere Retrieval Pipeline"
   ]
  },
  {
   "cell_type": "code",
   "execution_count": 6,
   "metadata": {},
   "outputs": [
    {
     "name": "stdout",
     "output_type": "stream",
     "text": [
      "No settings given in /home/paul/.tira/.tira-settings.json. I will use defaults.\n",
      "No settings given in /home/paul/.tira/.tira-settings.json. I will use defaults.\n",
      "There are multiple query fields available: ('text', 'title', 'query', 'description', 'narrative'). To use with pyterrier, provide variant or modify dataframe to add query column.\n"
     ]
    },
    {
     "data": {
      "text/html": [
       "<div>\n",
       "<style scoped>\n",
       "    .dataframe tbody tr th:only-of-type {\n",
       "        vertical-align: middle;\n",
       "    }\n",
       "\n",
       "    .dataframe tbody tr th {\n",
       "        vertical-align: top;\n",
       "    }\n",
       "\n",
       "    .dataframe thead th {\n",
       "        text-align: right;\n",
       "    }\n",
       "</style>\n",
       "<table border=\"1\" class=\"dataframe\">\n",
       "  <thead>\n",
       "    <tr style=\"text-align: right;\">\n",
       "      <th></th>\n",
       "      <th>qid</th>\n",
       "      <th>text</th>\n",
       "      <th>title</th>\n",
       "      <th>query</th>\n",
       "      <th>description</th>\n",
       "      <th>narrative</th>\n",
       "    </tr>\n",
       "  </thead>\n",
       "  <tbody>\n",
       "    <tr>\n",
       "      <th>0</th>\n",
       "      <td>q072224</td>\n",
       "      <td>purchase money</td>\n",
       "      <td>purchase money</td>\n",
       "      <td>purchase money</td>\n",
       "      <td>None</td>\n",
       "      <td>None</td>\n",
       "    </tr>\n",
       "    <tr>\n",
       "      <th>1</th>\n",
       "      <td>q072226</td>\n",
       "      <td>purchase used car</td>\n",
       "      <td>purchase used car</td>\n",
       "      <td>purchase used car</td>\n",
       "      <td>None</td>\n",
       "      <td>None</td>\n",
       "    </tr>\n",
       "    <tr>\n",
       "      <th>2</th>\n",
       "      <td>q072232</td>\n",
       "      <td>buy gold silver</td>\n",
       "      <td>buy gold silver</td>\n",
       "      <td>buy gold silver</td>\n",
       "      <td>None</td>\n",
       "      <td>None</td>\n",
       "    </tr>\n",
       "    <tr>\n",
       "      <th>3</th>\n",
       "      <td>q072240</td>\n",
       "      <td>adenovirus</td>\n",
       "      <td>adenovirus</td>\n",
       "      <td>adenovirus</td>\n",
       "      <td>None</td>\n",
       "      <td>None</td>\n",
       "    </tr>\n",
       "    <tr>\n",
       "      <th>4</th>\n",
       "      <td>q072242</td>\n",
       "      <td>Water softener</td>\n",
       "      <td>Water softener</td>\n",
       "      <td>water softener</td>\n",
       "      <td>None</td>\n",
       "      <td>None</td>\n",
       "    </tr>\n",
       "  </tbody>\n",
       "</table>\n",
       "</div>"
      ],
      "text/plain": [
       "       qid               text              title              query  \\\n",
       "0  q072224     purchase money     purchase money     purchase money   \n",
       "1  q072226  purchase used car  purchase used car  purchase used car   \n",
       "2  q072232    buy gold silver    buy gold silver    buy gold silver   \n",
       "3  q072240         adenovirus         adenovirus         adenovirus   \n",
       "4  q072242     Water softener     Water softener     water softener   \n",
       "\n",
       "  description narrative  \n",
       "0        None      None  \n",
       "1        None      None  \n",
       "2        None      None  \n",
       "3        None      None  \n",
       "4        None      None  "
      ]
     },
     "execution_count": 6,
     "metadata": {},
     "output_type": "execute_result"
    }
   ],
   "source": [
    "topics = data.get_topics()\n",
    "topics.head()"
   ]
  },
  {
   "cell_type": "code",
   "execution_count": 7,
   "metadata": {},
   "outputs": [
    {
     "data": {
      "text/html": [
       "<div>\n",
       "<style scoped>\n",
       "    .dataframe tbody tr th:only-of-type {\n",
       "        vertical-align: middle;\n",
       "    }\n",
       "\n",
       "    .dataframe tbody tr th {\n",
       "        vertical-align: top;\n",
       "    }\n",
       "\n",
       "    .dataframe thead th {\n",
       "        text-align: right;\n",
       "    }\n",
       "</style>\n",
       "<table border=\"1\" class=\"dataframe\">\n",
       "  <thead>\n",
       "    <tr style=\"text-align: right;\">\n",
       "      <th></th>\n",
       "      <th>qid</th>\n",
       "      <th>text</th>\n",
       "      <th>title</th>\n",
       "      <th>query</th>\n",
       "      <th>description</th>\n",
       "      <th>narrative</th>\n",
       "      <th>word_count_old</th>\n",
       "      <th>length</th>\n",
       "      <th>word_count</th>\n",
       "    </tr>\n",
       "  </thead>\n",
       "  <tbody>\n",
       "    <tr>\n",
       "      <th>0</th>\n",
       "      <td>q072224</td>\n",
       "      <td>purchase money</td>\n",
       "      <td>purchase money</td>\n",
       "      <td>purchase money</td>\n",
       "      <td>None</td>\n",
       "      <td>None</td>\n",
       "      <td>2</td>\n",
       "      <td>14</td>\n",
       "      <td>2</td>\n",
       "    </tr>\n",
       "    <tr>\n",
       "      <th>1</th>\n",
       "      <td>q072226</td>\n",
       "      <td>purchase used car</td>\n",
       "      <td>purchase used car</td>\n",
       "      <td>purchase used car</td>\n",
       "      <td>None</td>\n",
       "      <td>None</td>\n",
       "      <td>3</td>\n",
       "      <td>17</td>\n",
       "      <td>3</td>\n",
       "    </tr>\n",
       "    <tr>\n",
       "      <th>2</th>\n",
       "      <td>q072232</td>\n",
       "      <td>buy gold silver</td>\n",
       "      <td>buy gold silver</td>\n",
       "      <td>buy gold silver</td>\n",
       "      <td>None</td>\n",
       "      <td>None</td>\n",
       "      <td>3</td>\n",
       "      <td>15</td>\n",
       "      <td>3</td>\n",
       "    </tr>\n",
       "    <tr>\n",
       "      <th>3</th>\n",
       "      <td>q072240</td>\n",
       "      <td>adenovirus</td>\n",
       "      <td>adenovirus</td>\n",
       "      <td>adenovirus</td>\n",
       "      <td>None</td>\n",
       "      <td>None</td>\n",
       "      <td>1</td>\n",
       "      <td>10</td>\n",
       "      <td>1</td>\n",
       "    </tr>\n",
       "    <tr>\n",
       "      <th>4</th>\n",
       "      <td>q072242</td>\n",
       "      <td>Water softener</td>\n",
       "      <td>Water softener</td>\n",
       "      <td>water softener</td>\n",
       "      <td>None</td>\n",
       "      <td>None</td>\n",
       "      <td>2</td>\n",
       "      <td>14</td>\n",
       "      <td>2</td>\n",
       "    </tr>\n",
       "  </tbody>\n",
       "</table>\n",
       "</div>"
      ],
      "text/plain": [
       "       qid               text              title              query  \\\n",
       "0  q072224     purchase money     purchase money     purchase money   \n",
       "1  q072226  purchase used car  purchase used car  purchase used car   \n",
       "2  q072232    buy gold silver    buy gold silver    buy gold silver   \n",
       "3  q072240         adenovirus         adenovirus         adenovirus   \n",
       "4  q072242     Water softener     Water softener     water softener   \n",
       "\n",
       "  description narrative  word_count_old  length  word_count  \n",
       "0        None      None               2      14           2  \n",
       "1        None      None               3      17           3  \n",
       "2        None      None               3      15           3  \n",
       "3        None      None               1      10           1  \n",
       "4        None      None               2      14           2  "
      ]
     },
     "execution_count": 7,
     "metadata": {},
     "output_type": "execute_result"
    }
   ],
   "source": [
    "# Calculation of the number of words in the title\n",
    "topics[\"word_count_old\"] = topics[\"title\"].map(lambda x: x.count(\" \")+1)\n",
    "# Calculation of the number of characters in the title\n",
    "topics[\"length\"] = topics[\"title\"].map(lambda x: len(x))\n",
    "\n",
    "# Calculation of the number of words in the title using the pyterrier tokenizer\n",
    "# https://pyterrier.readthedocs.io/en/latest/text.html#working-with-passages-rather-than-documents : r'\\s+' instead of ' '\n",
    "topics[\"word_count\"] = topics[\"title\"].map(lambda x: len(re.split(r'\\s+', x)))\n",
    "\n",
    "topics.head()"
   ]
  },
  {
   "cell_type": "code",
   "execution_count": 8,
   "metadata": {},
   "outputs": [],
   "source": [
    "# Calulation of the Threshold\n",
    "topics[\"word_count\"] = topics[\"title\"].map(lambda x: x.count(\" \")+1)\n",
    "threshold = topics[\"word_count\"].median()\n",
    "if len(topics[topics[\"word_count\"] > threshold]) > len(topics[topics[\"word_count\"] < threshold]):\n",
    "    topics[\"is_long\"] = topics[\"word_count\"] > threshold\n",
    "else:\n",
    "    topics[\"is_long\"] = topics[\"word_count\"] >= threshold"
   ]
  },
  {
   "cell_type": "code",
   "execution_count": 13,
   "metadata": {},
   "outputs": [
    {
     "name": "stdout",
     "output_type": "stream",
     "text": [
      "No settings given in /home/paul/.tira/.tira-settings.json. I will use defaults.\n",
      "No settings given in /home/paul/.tira/.tira-settings.json. I will use defaults.\n"
     ]
    }
   ],
   "source": [
    "from tira.rest_api_client import Client\n",
    "tira_client = Client()"
   ]
  },
  {
   "cell_type": "code",
   "execution_count": 20,
   "metadata": {},
   "outputs": [
    {
     "ename": "AttributeError",
     "evalue": "'Client' object has no attribute 'submissions_of_team'",
     "output_type": "error",
     "traceback": [
      "\u001b[0;31m---------------------------------------------------------------------------\u001b[0m",
      "\u001b[0;31mAttributeError\u001b[0m                            Traceback (most recent call last)",
      "Cell \u001b[0;32mIn[20], line 18\u001b[0m\n\u001b[1;32m      8\u001b[0m DATASET \u001b[38;5;241m=\u001b[39m \u001b[38;5;124m\"\u001b[39m\u001b[38;5;124mjena-topics\u001b[39m\u001b[38;5;124m\"\u001b[39m\n\u001b[1;32m     10\u001b[0m \u001b[38;5;66;03m# TODO: Load runs from TIRA\u001b[39;00m\n\u001b[1;32m     11\u001b[0m \n\u001b[1;32m     12\u001b[0m \u001b[38;5;66;03m# OUR_RUNS = [\u001b[39;00m\n\u001b[0;32m   (...)\u001b[0m\n\u001b[1;32m     15\u001b[0m \u001b[38;5;66;03m#     for approach in APPROACHES\u001b[39;00m\n\u001b[1;32m     16\u001b[0m \u001b[38;5;66;03m# ]\u001b[39;00m\n\u001b[0;32m---> 18\u001b[0m OUR_RUNS \u001b[38;5;241m=\u001b[39m [\n\u001b[1;32m     19\u001b[0m     pt\u001b[38;5;241m.\u001b[39mTransformer\u001b[38;5;241m.\u001b[39mfrom_df(tira_client\u001b[38;5;241m.\u001b[39mget_run_output(\n\u001b[1;32m     20\u001b[0m         \u001b[38;5;124mf\u001b[39m\u001b[38;5;124m'\u001b[39m\u001b[38;5;132;01m{\u001b[39;00mTASK\u001b[38;5;132;01m}\u001b[39;00m\u001b[38;5;124m/\u001b[39m\u001b[38;5;132;01m{\u001b[39;00mTEAM\u001b[38;5;132;01m}\u001b[39;00m\u001b[38;5;124m/\u001b[39m\u001b[38;5;132;01m{\u001b[39;00mapproach\u001b[38;5;132;01m}\u001b[39;00m\u001b[38;5;124m'\u001b[39m, \u001b[38;5;124m\"\u001b[39m\u001b[38;5;124mtest\u001b[39m\u001b[38;5;124m\"\u001b[39m))\n\u001b[1;32m     21\u001b[0m     \u001b[38;5;28;01mfor\u001b[39;00m approach \u001b[38;5;129;01min\u001b[39;00m APPROACHES\n\u001b[1;32m     22\u001b[0m ]\n",
      "Cell \u001b[0;32mIn[20], line 19\u001b[0m, in \u001b[0;36m<listcomp>\u001b[0;34m(.0)\u001b[0m\n\u001b[1;32m      8\u001b[0m DATASET \u001b[38;5;241m=\u001b[39m \u001b[38;5;124m\"\u001b[39m\u001b[38;5;124mjena-topics\u001b[39m\u001b[38;5;124m\"\u001b[39m\n\u001b[1;32m     10\u001b[0m \u001b[38;5;66;03m# TODO: Load runs from TIRA\u001b[39;00m\n\u001b[1;32m     11\u001b[0m \n\u001b[1;32m     12\u001b[0m \u001b[38;5;66;03m# OUR_RUNS = [\u001b[39;00m\n\u001b[0;32m   (...)\u001b[0m\n\u001b[1;32m     15\u001b[0m \u001b[38;5;66;03m#     for approach in APPROACHES\u001b[39;00m\n\u001b[1;32m     16\u001b[0m \u001b[38;5;66;03m# ]\u001b[39;00m\n\u001b[1;32m     18\u001b[0m OUR_RUNS \u001b[38;5;241m=\u001b[39m [\n\u001b[0;32m---> 19\u001b[0m     pt\u001b[38;5;241m.\u001b[39mTransformer\u001b[38;5;241m.\u001b[39mfrom_df(\u001b[43mtira_client\u001b[49m\u001b[38;5;241;43m.\u001b[39;49m\u001b[43mget_run_output\u001b[49m\u001b[43m(\u001b[49m\n\u001b[1;32m     20\u001b[0m \u001b[43m        \u001b[49m\u001b[38;5;124;43mf\u001b[39;49m\u001b[38;5;124;43m'\u001b[39;49m\u001b[38;5;132;43;01m{\u001b[39;49;00m\u001b[43mTASK\u001b[49m\u001b[38;5;132;43;01m}\u001b[39;49;00m\u001b[38;5;124;43m/\u001b[39;49m\u001b[38;5;132;43;01m{\u001b[39;49;00m\u001b[43mTEAM\u001b[49m\u001b[38;5;132;43;01m}\u001b[39;49;00m\u001b[38;5;124;43m/\u001b[39;49m\u001b[38;5;132;43;01m{\u001b[39;49;00m\u001b[43mapproach\u001b[49m\u001b[38;5;132;43;01m}\u001b[39;49;00m\u001b[38;5;124;43m'\u001b[39;49m\u001b[43m,\u001b[49m\u001b[43m \u001b[49m\u001b[38;5;124;43m\"\u001b[39;49m\u001b[38;5;124;43mtest\u001b[39;49m\u001b[38;5;124;43m\"\u001b[39;49m\u001b[43m)\u001b[49m)\n\u001b[1;32m     21\u001b[0m     \u001b[38;5;28;01mfor\u001b[39;00m approach \u001b[38;5;129;01min\u001b[39;00m APPROACHES\n\u001b[1;32m     22\u001b[0m ]\n",
      "File \u001b[0;32m~/git/ir-lab/.venv/lib/python3.10/site-packages/tira/rest_api_client.py:175\u001b[0m, in \u001b[0;36mClient.get_run_output\u001b[0;34m(self, approach, dataset, allow_without_evaluation)\u001b[0m\n\u001b[1;32m    170\u001b[0m \u001b[38;5;250m\u001b[39m\u001b[38;5;124;03m\"\"\"\u001b[39;00m\n\u001b[1;32m    171\u001b[0m \u001b[38;5;124;03mDownloads the run (or uses the cached version) of the specified approach on the specified dataset.\u001b[39;00m\n\u001b[1;32m    172\u001b[0m \u001b[38;5;124;03mReturns the directory containing the outputs of the run.\u001b[39;00m\n\u001b[1;32m    173\u001b[0m \u001b[38;5;124;03m\"\"\"\u001b[39;00m\n\u001b[1;32m    174\u001b[0m task, team, software \u001b[38;5;241m=\u001b[39m approach\u001b[38;5;241m.\u001b[39msplit(\u001b[38;5;124m'\u001b[39m\u001b[38;5;124m/\u001b[39m\u001b[38;5;124m'\u001b[39m)\n\u001b[0;32m--> 175\u001b[0m run_execution \u001b[38;5;241m=\u001b[39m \u001b[38;5;28;43mself\u001b[39;49m\u001b[38;5;241;43m.\u001b[39;49m\u001b[43mget_run_execution_or_none\u001b[49m\u001b[43m(\u001b[49m\u001b[43mapproach\u001b[49m\u001b[43m,\u001b[49m\u001b[43m \u001b[49m\u001b[43mdataset\u001b[49m\u001b[43m)\u001b[49m\n\u001b[1;32m    176\u001b[0m \u001b[38;5;28;01mif\u001b[39;00m run_execution:\n\u001b[1;32m    177\u001b[0m     \u001b[38;5;28;01mreturn\u001b[39;00m \u001b[38;5;28mself\u001b[39m\u001b[38;5;241m.\u001b[39mdownload_zip_to_cache_directory(task, dataset, team, run_execution[\u001b[38;5;124m'\u001b[39m\u001b[38;5;124mrun_id\u001b[39m\u001b[38;5;124m'\u001b[39m])\n",
      "File \u001b[0;32m~/git/ir-lab/.venv/lib/python3.10/site-packages/tira/rest_api_client.py:194\u001b[0m, in \u001b[0;36mClient.get_run_execution_or_none\u001b[0;34m(self, approach, dataset, previous_stage_run_id)\u001b[0m\n\u001b[1;32m    191\u001b[0m \u001b[38;5;28;01mif\u001b[39;00m public_runs \u001b[38;5;129;01mand\u001b[39;00m \u001b[38;5;124m'\u001b[39m\u001b[38;5;124mcontext\u001b[39m\u001b[38;5;124m'\u001b[39m \u001b[38;5;129;01min\u001b[39;00m public_runs \u001b[38;5;129;01mand\u001b[39;00m \u001b[38;5;124m'\u001b[39m\u001b[38;5;124mruns\u001b[39m\u001b[38;5;124m'\u001b[39m \u001b[38;5;129;01min\u001b[39;00m public_runs[\u001b[38;5;124m'\u001b[39m\u001b[38;5;124mcontext\u001b[39m\u001b[38;5;124m'\u001b[39m] \u001b[38;5;129;01mand\u001b[39;00m public_runs[\u001b[38;5;124m'\u001b[39m\u001b[38;5;124mcontext\u001b[39m\u001b[38;5;124m'\u001b[39m][\u001b[38;5;124m'\u001b[39m\u001b[38;5;124mruns\u001b[39m\u001b[38;5;124m'\u001b[39m]:\n\u001b[1;32m    192\u001b[0m     \u001b[38;5;28;01mreturn\u001b[39;00m {\u001b[38;5;124m'\u001b[39m\u001b[38;5;124mtask\u001b[39m\u001b[38;5;124m'\u001b[39m: task, \u001b[38;5;124m'\u001b[39m\u001b[38;5;124mdataset\u001b[39m\u001b[38;5;124m'\u001b[39m: dataset, \u001b[38;5;124m'\u001b[39m\u001b[38;5;124mteam\u001b[39m\u001b[38;5;124m'\u001b[39m: team, \u001b[38;5;124m'\u001b[39m\u001b[38;5;124mrun_id\u001b[39m\u001b[38;5;124m'\u001b[39m: public_runs[\u001b[38;5;124m'\u001b[39m\u001b[38;5;124mcontext\u001b[39m\u001b[38;5;124m'\u001b[39m][\u001b[38;5;124m'\u001b[39m\u001b[38;5;124mruns\u001b[39m\u001b[38;5;124m'\u001b[39m][\u001b[38;5;241m0\u001b[39m]}\n\u001b[0;32m--> 194\u001b[0m df_eval \u001b[38;5;241m=\u001b[39m \u001b[38;5;28;43mself\u001b[39;49m\u001b[38;5;241;43m.\u001b[39;49m\u001b[43msubmissions_of_team\u001b[49m(task\u001b[38;5;241m=\u001b[39mtask, dataset\u001b[38;5;241m=\u001b[39mdataset, team\u001b[38;5;241m=\u001b[39mteam)\n\u001b[1;32m    195\u001b[0m \u001b[38;5;28;01mif\u001b[39;00m \u001b[38;5;28mlen\u001b[39m(df_eval) \u001b[38;5;241m<\u001b[39m\u001b[38;5;241m=\u001b[39m \u001b[38;5;241m0\u001b[39m:\n\u001b[1;32m    196\u001b[0m     \u001b[38;5;28;01mreturn\u001b[39;00m \u001b[38;5;28;01mNone\u001b[39;00m\n",
      "\u001b[0;31mAttributeError\u001b[0m: 'Client' object has no attribute 'submissions_of_team'"
     ]
    }
   ],
   "source": [
    "# load runs\n",
    "TASK = \"ir-lab-jena-leipzig-wise-2023\"\n",
    "TEAM = \"geometric-tortoise\"\n",
    "APPROACHES = [\n",
    "    \"fast-upload\",   # no-query-expansion\n",
    "    \"recent-cordon\"  # query-expansion\n",
    "]\n",
    "DATASET = \"jena-topics\"\n",
    "\n",
    "# TODO: Load runs from TIRA\n",
    "\n",
    "OUR_RUNS = list([\n",
    "    tira_client.pt.from_retriever_submission(\n",
    "        f'{TASK}/{TEAM}/{approach}', DATASET)\n",
    "    for approach in APPROACHES\n",
    "])\n",
    "\n",
    "# OUR_RUNS = list([\n",
    "#     pt.Transformer.from_df(tira_client.get_run_output(\n",
    "#         f'{TASK}/{TEAM}/{approach}', DATASET))\n",
    "#     for approach in APPROACHES\n",
    "# ])"
   ]
  },
  {
   "cell_type": "code",
   "execution_count": null,
   "metadata": {},
   "outputs": [],
   "source": [
    "# Experiment over all topics and the two pipelines\n",
    "experiment = pt.Experiment(\n",
    "    OUR_RUNS,\n",
    "    topics, data.get_qrels(),\n",
    "    [\"ndcg_cut_5\"],\n",
    "    [\n",
    "        \"ohne QE\",\n",
    "        \"mit QE\",\n",
    "    ],\n",
    "    perquery=True\n",
    ")"
   ]
  },
  {
   "cell_type": "code",
   "execution_count": 16,
   "metadata": {},
   "outputs": [
    {
     "data": {
      "text/html": [
       "<div>\n",
       "<style scoped>\n",
       "    .dataframe tbody tr th:only-of-type {\n",
       "        vertical-align: middle;\n",
       "    }\n",
       "\n",
       "    .dataframe tbody tr th {\n",
       "        vertical-align: top;\n",
       "    }\n",
       "\n",
       "    .dataframe thead th {\n",
       "        text-align: right;\n",
       "    }\n",
       "</style>\n",
       "<table border=\"1\" class=\"dataframe\">\n",
       "  <thead>\n",
       "    <tr style=\"text-align: right;\">\n",
       "      <th></th>\n",
       "      <th>name</th>\n",
       "      <th>qid</th>\n",
       "      <th>measure</th>\n",
       "      <th>value</th>\n",
       "      <th>text</th>\n",
       "      <th>title</th>\n",
       "      <th>query</th>\n",
       "      <th>description</th>\n",
       "      <th>narrative</th>\n",
       "      <th>word_count_old</th>\n",
       "      <th>length</th>\n",
       "      <th>word_count</th>\n",
       "      <th>is_long</th>\n",
       "    </tr>\n",
       "  </thead>\n",
       "  <tbody>\n",
       "    <tr>\n",
       "      <th>0</th>\n",
       "      <td>mit QE</td>\n",
       "      <td>q072210025</td>\n",
       "      <td>ndcg_cut_5</td>\n",
       "      <td>0.0</td>\n",
       "      <td>recipe spring roll</td>\n",
       "      <td>recipe spring roll</td>\n",
       "      <td>recipe spring roll</td>\n",
       "      <td>None</td>\n",
       "      <td>None</td>\n",
       "      <td>3</td>\n",
       "      <td>18</td>\n",
       "      <td>3</td>\n",
       "      <td>True</td>\n",
       "    </tr>\n",
       "    <tr>\n",
       "      <th>1</th>\n",
       "      <td>ohne QE</td>\n",
       "      <td>q072210025</td>\n",
       "      <td>ndcg_cut_5</td>\n",
       "      <td>0.0</td>\n",
       "      <td>recipe spring roll</td>\n",
       "      <td>recipe spring roll</td>\n",
       "      <td>recipe spring roll</td>\n",
       "      <td>None</td>\n",
       "      <td>None</td>\n",
       "      <td>3</td>\n",
       "      <td>18</td>\n",
       "      <td>3</td>\n",
       "      <td>True</td>\n",
       "    </tr>\n",
       "    <tr>\n",
       "      <th>2</th>\n",
       "      <td>mit QE</td>\n",
       "      <td>q072210054</td>\n",
       "      <td>ndcg_cut_5</td>\n",
       "      <td>0.0</td>\n",
       "      <td>chateaux relays</td>\n",
       "      <td>chateaux relays</td>\n",
       "      <td>chateaux relays</td>\n",
       "      <td>None</td>\n",
       "      <td>None</td>\n",
       "      <td>2</td>\n",
       "      <td>15</td>\n",
       "      <td>2</td>\n",
       "      <td>False</td>\n",
       "    </tr>\n",
       "    <tr>\n",
       "      <th>3</th>\n",
       "      <td>ohne QE</td>\n",
       "      <td>q072210054</td>\n",
       "      <td>ndcg_cut_5</td>\n",
       "      <td>0.0</td>\n",
       "      <td>chateaux relays</td>\n",
       "      <td>chateaux relays</td>\n",
       "      <td>chateaux relays</td>\n",
       "      <td>None</td>\n",
       "      <td>None</td>\n",
       "      <td>2</td>\n",
       "      <td>15</td>\n",
       "      <td>2</td>\n",
       "      <td>False</td>\n",
       "    </tr>\n",
       "    <tr>\n",
       "      <th>4</th>\n",
       "      <td>mit QE</td>\n",
       "      <td>q072210114</td>\n",
       "      <td>ndcg_cut_5</td>\n",
       "      <td>0.0</td>\n",
       "      <td>Thermal curtain</td>\n",
       "      <td>Thermal curtain</td>\n",
       "      <td>thermal curtain</td>\n",
       "      <td>None</td>\n",
       "      <td>None</td>\n",
       "      <td>2</td>\n",
       "      <td>15</td>\n",
       "      <td>2</td>\n",
       "      <td>False</td>\n",
       "    </tr>\n",
       "  </tbody>\n",
       "</table>\n",
       "</div>"
      ],
      "text/plain": [
       "      name         qid     measure  value                text  \\\n",
       "0   mit QE  q072210025  ndcg_cut_5    0.0  recipe spring roll   \n",
       "1  ohne QE  q072210025  ndcg_cut_5    0.0  recipe spring roll   \n",
       "2   mit QE  q072210054  ndcg_cut_5    0.0     chateaux relays   \n",
       "3  ohne QE  q072210054  ndcg_cut_5    0.0     chateaux relays   \n",
       "4   mit QE  q072210114  ndcg_cut_5    0.0     Thermal curtain   \n",
       "\n",
       "                title               query description narrative  \\\n",
       "0  recipe spring roll  recipe spring roll        None      None   \n",
       "1  recipe spring roll  recipe spring roll        None      None   \n",
       "2     chateaux relays     chateaux relays        None      None   \n",
       "3     chateaux relays     chateaux relays        None      None   \n",
       "4     Thermal curtain     thermal curtain        None      None   \n",
       "\n",
       "   word_count_old  length  word_count  is_long  \n",
       "0               3      18           3     True  \n",
       "1               3      18           3     True  \n",
       "2               2      15           2    False  \n",
       "3               2      15           2    False  \n",
       "4               2      15           2    False  "
      ]
     },
     "execution_count": 16,
     "metadata": {},
     "output_type": "execute_result"
    }
   ],
   "source": [
    "# merge the topics with the results\n",
    "eval_all = experiment.merge(topics, on=\"qid\")\n",
    "eval_all.head()"
   ]
  },
  {
   "cell_type": "code",
   "execution_count": 17,
   "metadata": {},
   "outputs": [
    {
     "data": {
      "text/html": [
       "<div>\n",
       "<style scoped>\n",
       "    .dataframe tbody tr th:only-of-type {\n",
       "        vertical-align: middle;\n",
       "    }\n",
       "\n",
       "    .dataframe tbody tr th {\n",
       "        vertical-align: top;\n",
       "    }\n",
       "\n",
       "    .dataframe thead th {\n",
       "        text-align: right;\n",
       "    }\n",
       "</style>\n",
       "<table border=\"1\" class=\"dataframe\">\n",
       "  <thead>\n",
       "    <tr style=\"text-align: right;\">\n",
       "      <th></th>\n",
       "      <th>qid</th>\n",
       "      <th>text</th>\n",
       "      <th>title</th>\n",
       "      <th>query</th>\n",
       "      <th>description</th>\n",
       "      <th>narrative</th>\n",
       "      <th>word_count_old</th>\n",
       "      <th>length</th>\n",
       "      <th>word_count</th>\n",
       "      <th>is_long</th>\n",
       "      <th>ndcg_without_qe</th>\n",
       "      <th>ndcg_with_qe</th>\n",
       "    </tr>\n",
       "  </thead>\n",
       "  <tbody>\n",
       "    <tr>\n",
       "      <th>0</th>\n",
       "      <td>q072224</td>\n",
       "      <td>purchase money</td>\n",
       "      <td>purchase money</td>\n",
       "      <td>purchase money</td>\n",
       "      <td>None</td>\n",
       "      <td>None</td>\n",
       "      <td>2</td>\n",
       "      <td>14</td>\n",
       "      <td>2</td>\n",
       "      <td>False</td>\n",
       "      <td>0.000000</td>\n",
       "      <td>0.0</td>\n",
       "    </tr>\n",
       "    <tr>\n",
       "      <th>1</th>\n",
       "      <td>q072226</td>\n",
       "      <td>purchase used car</td>\n",
       "      <td>purchase used car</td>\n",
       "      <td>purchase used car</td>\n",
       "      <td>None</td>\n",
       "      <td>None</td>\n",
       "      <td>3</td>\n",
       "      <td>17</td>\n",
       "      <td>3</td>\n",
       "      <td>True</td>\n",
       "      <td>0.000000</td>\n",
       "      <td>0.0</td>\n",
       "    </tr>\n",
       "    <tr>\n",
       "      <th>2</th>\n",
       "      <td>q072232</td>\n",
       "      <td>buy gold silver</td>\n",
       "      <td>buy gold silver</td>\n",
       "      <td>buy gold silver</td>\n",
       "      <td>None</td>\n",
       "      <td>None</td>\n",
       "      <td>3</td>\n",
       "      <td>15</td>\n",
       "      <td>3</td>\n",
       "      <td>True</td>\n",
       "      <td>0.000000</td>\n",
       "      <td>0.0</td>\n",
       "    </tr>\n",
       "    <tr>\n",
       "      <th>3</th>\n",
       "      <td>q072240</td>\n",
       "      <td>adenovirus</td>\n",
       "      <td>adenovirus</td>\n",
       "      <td>adenovirus</td>\n",
       "      <td>None</td>\n",
       "      <td>None</td>\n",
       "      <td>1</td>\n",
       "      <td>10</td>\n",
       "      <td>1</td>\n",
       "      <td>False</td>\n",
       "      <td>0.351239</td>\n",
       "      <td>0.0</td>\n",
       "    </tr>\n",
       "    <tr>\n",
       "      <th>4</th>\n",
       "      <td>q072242</td>\n",
       "      <td>Water softener</td>\n",
       "      <td>Water softener</td>\n",
       "      <td>water softener</td>\n",
       "      <td>None</td>\n",
       "      <td>None</td>\n",
       "      <td>2</td>\n",
       "      <td>14</td>\n",
       "      <td>2</td>\n",
       "      <td>False</td>\n",
       "      <td>0.264068</td>\n",
       "      <td>0.0</td>\n",
       "    </tr>\n",
       "  </tbody>\n",
       "</table>\n",
       "</div>"
      ],
      "text/plain": [
       "       qid               text              title              query  \\\n",
       "0  q072224     purchase money     purchase money     purchase money   \n",
       "1  q072226  purchase used car  purchase used car  purchase used car   \n",
       "2  q072232    buy gold silver    buy gold silver    buy gold silver   \n",
       "3  q072240         adenovirus         adenovirus         adenovirus   \n",
       "4  q072242     Water softener     Water softener     water softener   \n",
       "\n",
       "  description narrative  word_count_old  length  word_count  is_long  \\\n",
       "0        None      None               2      14           2    False   \n",
       "1        None      None               3      17           3     True   \n",
       "2        None      None               3      15           3     True   \n",
       "3        None      None               1      10           1    False   \n",
       "4        None      None               2      14           2    False   \n",
       "\n",
       "   ndcg_without_qe  ndcg_with_qe  \n",
       "0         0.000000           0.0  \n",
       "1         0.000000           0.0  \n",
       "2         0.000000           0.0  \n",
       "3         0.351239           0.0  \n",
       "4         0.264068           0.0  "
      ]
     },
     "execution_count": 17,
     "metadata": {},
     "output_type": "execute_result"
    }
   ],
   "source": [
    "# combine the results of the two pipelines into one dataframe\n",
    "without_qe = eval_all[eval_all[\"name\"] == \"ohne QE\"][[\"qid\", \"value\"]]\n",
    "with_qe = eval_all[eval_all[\"name\"] == \"mit QE\"][[\"qid\", \"value\"]]\n",
    "\n",
    "eval = topics.copy()\n",
    "eval[\"ndcg_without_qe\"] = eval[\"qid\"].map(without_qe.set_index(\"qid\")[\"value\"])\n",
    "eval[\"ndcg_with_qe\"] = eval[\"qid\"].map(with_qe.set_index(\"qid\")[\"value\"])\n",
    "\n",
    "eval.head()"
   ]
  },
  {
   "cell_type": "code",
   "execution_count": 18,
   "metadata": {},
   "outputs": [
    {
     "data": {
      "text/html": [
       "<div>\n",
       "<style scoped>\n",
       "    .dataframe tbody tr th:only-of-type {\n",
       "        vertical-align: middle;\n",
       "    }\n",
       "\n",
       "    .dataframe tbody tr th {\n",
       "        vertical-align: top;\n",
       "    }\n",
       "\n",
       "    .dataframe thead th {\n",
       "        text-align: right;\n",
       "    }\n",
       "</style>\n",
       "<table border=\"1\" class=\"dataframe\">\n",
       "  <thead>\n",
       "    <tr style=\"text-align: right;\">\n",
       "      <th></th>\n",
       "      <th>qid</th>\n",
       "      <th>text</th>\n",
       "      <th>title</th>\n",
       "      <th>query</th>\n",
       "      <th>description</th>\n",
       "      <th>narrative</th>\n",
       "      <th>word_count_old</th>\n",
       "      <th>length</th>\n",
       "      <th>word_count</th>\n",
       "      <th>is_long</th>\n",
       "      <th>ndcg_without_qe</th>\n",
       "      <th>ndcg_with_qe</th>\n",
       "      <th>diff_improvement</th>\n",
       "    </tr>\n",
       "  </thead>\n",
       "  <tbody>\n",
       "    <tr>\n",
       "      <th>0</th>\n",
       "      <td>q072224</td>\n",
       "      <td>purchase money</td>\n",
       "      <td>purchase money</td>\n",
       "      <td>purchase money</td>\n",
       "      <td>None</td>\n",
       "      <td>None</td>\n",
       "      <td>2</td>\n",
       "      <td>14</td>\n",
       "      <td>2</td>\n",
       "      <td>False</td>\n",
       "      <td>0.000000</td>\n",
       "      <td>0.0</td>\n",
       "      <td>0.000000</td>\n",
       "    </tr>\n",
       "    <tr>\n",
       "      <th>1</th>\n",
       "      <td>q072226</td>\n",
       "      <td>purchase used car</td>\n",
       "      <td>purchase used car</td>\n",
       "      <td>purchase used car</td>\n",
       "      <td>None</td>\n",
       "      <td>None</td>\n",
       "      <td>3</td>\n",
       "      <td>17</td>\n",
       "      <td>3</td>\n",
       "      <td>True</td>\n",
       "      <td>0.000000</td>\n",
       "      <td>0.0</td>\n",
       "      <td>0.000000</td>\n",
       "    </tr>\n",
       "    <tr>\n",
       "      <th>2</th>\n",
       "      <td>q072232</td>\n",
       "      <td>buy gold silver</td>\n",
       "      <td>buy gold silver</td>\n",
       "      <td>buy gold silver</td>\n",
       "      <td>None</td>\n",
       "      <td>None</td>\n",
       "      <td>3</td>\n",
       "      <td>15</td>\n",
       "      <td>3</td>\n",
       "      <td>True</td>\n",
       "      <td>0.000000</td>\n",
       "      <td>0.0</td>\n",
       "      <td>0.000000</td>\n",
       "    </tr>\n",
       "    <tr>\n",
       "      <th>3</th>\n",
       "      <td>q072240</td>\n",
       "      <td>adenovirus</td>\n",
       "      <td>adenovirus</td>\n",
       "      <td>adenovirus</td>\n",
       "      <td>None</td>\n",
       "      <td>None</td>\n",
       "      <td>1</td>\n",
       "      <td>10</td>\n",
       "      <td>1</td>\n",
       "      <td>False</td>\n",
       "      <td>0.351239</td>\n",
       "      <td>0.0</td>\n",
       "      <td>-0.351239</td>\n",
       "    </tr>\n",
       "    <tr>\n",
       "      <th>4</th>\n",
       "      <td>q072242</td>\n",
       "      <td>Water softener</td>\n",
       "      <td>Water softener</td>\n",
       "      <td>water softener</td>\n",
       "      <td>None</td>\n",
       "      <td>None</td>\n",
       "      <td>2</td>\n",
       "      <td>14</td>\n",
       "      <td>2</td>\n",
       "      <td>False</td>\n",
       "      <td>0.264068</td>\n",
       "      <td>0.0</td>\n",
       "      <td>-0.264068</td>\n",
       "    </tr>\n",
       "  </tbody>\n",
       "</table>\n",
       "</div>"
      ],
      "text/plain": [
       "       qid               text              title              query  \\\n",
       "0  q072224     purchase money     purchase money     purchase money   \n",
       "1  q072226  purchase used car  purchase used car  purchase used car   \n",
       "2  q072232    buy gold silver    buy gold silver    buy gold silver   \n",
       "3  q072240         adenovirus         adenovirus         adenovirus   \n",
       "4  q072242     Water softener     Water softener     water softener   \n",
       "\n",
       "  description narrative  word_count_old  length  word_count  is_long  \\\n",
       "0        None      None               2      14           2    False   \n",
       "1        None      None               3      17           3     True   \n",
       "2        None      None               3      15           3     True   \n",
       "3        None      None               1      10           1    False   \n",
       "4        None      None               2      14           2    False   \n",
       "\n",
       "   ndcg_without_qe  ndcg_with_qe  diff_improvement  \n",
       "0         0.000000           0.0          0.000000  \n",
       "1         0.000000           0.0          0.000000  \n",
       "2         0.000000           0.0          0.000000  \n",
       "3         0.351239           0.0         -0.351239  \n",
       "4         0.264068           0.0         -0.264068  "
      ]
     },
     "execution_count": 18,
     "metadata": {},
     "output_type": "execute_result"
    }
   ],
   "source": [
    "eval[\"diff_improvement\"] = eval[\"ndcg_with_qe\"] - eval[\"ndcg_without_qe\"]\n",
    "eval.head()"
   ]
  },
  {
   "cell_type": "code",
   "execution_count": 19,
   "metadata": {},
   "outputs": [
    {
     "data": {
      "text/plain": [
       "array([[<Axes: title={'center': 'diff_improvement'}>]], dtype=object)"
      ]
     },
     "execution_count": 19,
     "metadata": {},
     "output_type": "execute_result"
    },
    {
     "data": {
      "image/png": "[encoded data removed]",
      "text/plain": [
       "<Figure size 640x480 with 1 Axes>"
      ]
     },
     "metadata": {},
     "output_type": "display_data"
    }
   ],
   "source": [
    "eval.hist(column=\"diff_improvement\", bins=20, log=[True, False])"
   ]
  },
  {
   "cell_type": "markdown",
   "metadata": {},
   "source": [
    "##### Overall Improvement"
   ]
  },
  {
   "cell_type": "code",
   "execution_count": 20,
   "metadata": {},
   "outputs": [
    {
     "name": "stdout",
     "output_type": "stream",
     "text": [
      "diff_improvement: 0.000526406048693695\n"
     ]
    }
   ],
   "source": [
    "ndcg_cut_5_all = eval[['ndcg_without_qe', 'ndcg_with_qe']].mean()\n",
    "print(f\"diff_improvement: {ndcg_cut_5_all['ndcg_with_qe'] - ndcg_cut_5_all['ndcg_without_qe']}\")"
   ]
  },
  {
   "cell_type": "markdown",
   "metadata": {},
   "source": [
    "##### Improvement for short and long queries"
   ]
  },
  {
   "cell_type": "code",
   "execution_count": 21,
   "metadata": {},
   "outputs": [
    {
     "data": {
      "text/html": [
       "<div>\n",
       "<style scoped>\n",
       "    .dataframe tbody tr th:only-of-type {\n",
       "        vertical-align: middle;\n",
       "    }\n",
       "\n",
       "    .dataframe tbody tr th {\n",
       "        vertical-align: top;\n",
       "    }\n",
       "\n",
       "    .dataframe thead th {\n",
       "        text-align: right;\n",
       "    }\n",
       "</style>\n",
       "<table border=\"1\" class=\"dataframe\">\n",
       "  <thead>\n",
       "    <tr style=\"text-align: right;\">\n",
       "      <th></th>\n",
       "      <th>diff_improvement</th>\n",
       "    </tr>\n",
       "    <tr>\n",
       "      <th>is_long</th>\n",
       "      <th></th>\n",
       "    </tr>\n",
       "  </thead>\n",
       "  <tbody>\n",
       "    <tr>\n",
       "      <th>False</th>\n",
       "      <td>-0.008116</td>\n",
       "    </tr>\n",
       "    <tr>\n",
       "      <th>True</th>\n",
       "      <td>0.009904</td>\n",
       "    </tr>\n",
       "  </tbody>\n",
       "</table>\n",
       "</div>"
      ],
      "text/plain": [
       "         diff_improvement\n",
       "is_long                  \n",
       "False           -0.008116\n",
       "True             0.009904"
      ]
     },
     "execution_count": 21,
     "metadata": {},
     "output_type": "execute_result"
    }
   ],
   "source": [
    "# average diff_improvement\n",
    "eval[[\"is_long\", \"diff_improvement\"]].groupby(\"is_long\").mean()"
   ]
  },
  {
   "cell_type": "markdown",
   "metadata": {},
   "source": [
    "### Hypothesentest\n",
    "\n",
    "##### Hypothesen:\n",
    "1. Die Differenz der Effektivität (ndcg@5) zwischen Retrieval ohne query expansion und mit query expansion bei kleinen Anfragen unterscheidet sich signifikant (Signifikanzlevel von 5%).\n",
    "2. **Die Differenz der Effektivität (ndcg@5) zwischen Retrieval ohne query expansion und mit query expansion ist bei kleinen Anfragen signifikant größer als bei großen Anfragen mit Signifikanzlevel von 5%.**\n",
    "3. Die Differenz der Effektivität (ndcg@5) zwischen Retrieval ohne query expansion und mit query expansion ist bei kleinen Anfragen signifikant kleiner als bei großen Anfragen mit Signifikanzlevel von 5%."
   ]
  },
  {
   "cell_type": "code",
   "execution_count": 22,
   "metadata": {},
   "outputs": [
    {
     "name": "stdout",
     "output_type": "stream",
     "text": [
      "short_improvement: [0.0, -0.35123899361230887, -0.2640681225725909, 0.0, 0.0, -0.38685280723454163, 0.12355844355602613...\n",
      "long_improvement: [0.0, 0.0, 0.0, 0.0, -0.22629438553091674, 0.0, 0.0, 0.38685280723454163, 0.0, 0.12663167705327652, ...\n"
     ]
    }
   ],
   "source": [
    "# necessary Data\n",
    "short_improvement = list(eval[eval[\"is_long\"] == False][\"diff_improvement\"])\n",
    "long_improvement = list(eval[eval[\"is_long\"] == True][\"diff_improvement\"])\n",
    "print(f\"short_improvement: {str(short_improvement)[:100]}...\")\n",
    "print(f\"long_improvement: {str(long_improvement)[:100]}...\")\n"
   ]
  },
  {
   "cell_type": "code",
   "execution_count": 27,
   "metadata": {},
   "outputs": [
    {
     "data": {
      "text/html": [
       "<div>\n",
       "<style scoped>\n",
       "    .dataframe tbody tr th:only-of-type {\n",
       "        vertical-align: middle;\n",
       "    }\n",
       "\n",
       "    .dataframe tbody tr th {\n",
       "        vertical-align: top;\n",
       "    }\n",
       "\n",
       "    .dataframe thead th {\n",
       "        text-align: right;\n",
       "    }\n",
       "</style>\n",
       "<table border=\"1\" class=\"dataframe\">\n",
       "  <thead>\n",
       "    <tr style=\"text-align: right;\">\n",
       "      <th></th>\n",
       "      <th>T-Test</th>\n",
       "      <th>T-statistic</th>\n",
       "      <th>P-value</th>\n",
       "      <th>necessary significance</th>\n",
       "      <th>accepted</th>\n",
       "    </tr>\n",
       "  </thead>\n",
       "  <tbody>\n",
       "    <tr>\n",
       "      <th>Hypothesis 1</th>\n",
       "      <td>Two-sided</td>\n",
       "      <td>-2.272347</td>\n",
       "      <td>0.023306</td>\n",
       "      <td>0.050</td>\n",
       "      <td>True</td>\n",
       "    </tr>\n",
       "    <tr>\n",
       "      <th>Hypothesis 2</th>\n",
       "      <td>One-sided (greater)</td>\n",
       "      <td>-2.272347</td>\n",
       "      <td>0.988347</td>\n",
       "      <td>0.025</td>\n",
       "      <td>False</td>\n",
       "    </tr>\n",
       "    <tr>\n",
       "      <th>Hypothesis 3</th>\n",
       "      <td>One-sided (less)</td>\n",
       "      <td>-2.272347</td>\n",
       "      <td>0.011653</td>\n",
       "      <td>0.025</td>\n",
       "      <td>True</td>\n",
       "    </tr>\n",
       "  </tbody>\n",
       "</table>\n",
       "</div>"
      ],
      "text/plain": [
       "                           T-Test  T-statistic   P-value  \\\n",
       "Hypothesis 1            Two-sided    -2.272347  0.023306   \n",
       "Hypothesis 2  One-sided (greater)    -2.272347  0.988347   \n",
       "Hypothesis 3     One-sided (less)    -2.272347  0.011653   \n",
       "\n",
       "              necessary significance  accepted  \n",
       "Hypothesis 1                   0.050      True  \n",
       "Hypothesis 2                   0.025     False  \n",
       "Hypothesis 3                   0.025      True  "
      ]
     },
     "execution_count": 27,
     "metadata": {},
     "output_type": "execute_result"
    }
   ],
   "source": [
    "# Perform a two-sample t-test\n",
    "\n",
    "ttest_results = pd.DataFrame([\n",
    "    [\"Two-sided\", *stats.ttest_ind(short_improvement, long_improvement), 0.05],\n",
    "    [\"One-sided (greater)\", *stats.ttest_ind(short_improvement, long_improvement, alternative=\"greater\"), 0.025],\n",
    "    [\"One-sided (less)\", *stats.ttest_ind(short_improvement, long_improvement, alternative=\"less\"), 0.025]], \n",
    "    columns=[\"T-Test\", \"T-statistic\", \"P-value\", \"necessary significance\"], \n",
    "    index=[\"Hypothesis 1\", \"Hypothesis 2\", \"Hypothesis 3\"])\n",
    "# From https://docs.scipy.org/doc/scipy/reference/generated/scipy.stats.ttest_ind.html:\n",
    "# This is a test for the null hypothesis that 2 independent samples have identical \n",
    "# average (expected) values. This test assumes that the populations have identical \n",
    "# variances by default.\n",
    "\n",
    "ttest_results[\"accepted\"] = ttest_results[\"P-value\"] < ttest_results[\"necessary significance\"]\n",
    "\n",
    "ttest_results"
   ]
  },
  {
   "cell_type": "code",
   "execution_count": 24,
   "metadata": {},
   "outputs": [],
   "source": [
    "# output the results of the t-test to a file\n",
    "ttest_results.to_csv(\"ttest_results.csv\")"
   ]
  }
 ],
 "metadata": {
  "kernelspec": {
   "display_name": "IR",
   "language": "python",
   "name": "python3"
  },
  "language_info": {
   "codemirror_mode": {
    "name": "ipython",
    "version": 3
   },
   "file_extension": ".py",
   "mimetype": "text/x-python",
   "name": "python",
   "nbconvert_exporter": "python",
   "pygments_lexer": "ipython3",
   "version": "3.10.12"
  }
 },
 "nbformat": 4,
 "nbformat_minor": 2
}
